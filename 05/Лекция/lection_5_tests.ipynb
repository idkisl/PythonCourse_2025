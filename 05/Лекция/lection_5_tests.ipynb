{
 "cells": [
  {
   "cell_type": "markdown",
   "id": "fba43fd9",
   "metadata": {},
   "source": [
    "## Лекция 5\n",
    "### Исключения и тестирование\n",
    "- ошибки и исключения\n",
    "- блок try - except - else - finally\n",
    "- raise\n",
    "- assert\n",
    "- собственные исключения\n",
    "- модуль unittest\n",
    "- модуль pytest\n",
    "\n",
    "\n",
    "Лекция прочитана Иваном Кисляковым. Разрешено к использованию в некоммерческих образовательных целях. "
   ]
  },
  {
   "cell_type": "markdown",
   "id": "81b5acd9",
   "metadata": {},
   "source": [
    "### Исключения"
   ]
  },
  {
   "cell_type": "code",
   "execution_count": 10,
   "id": "6b8a0c58",
   "metadata": {},
   "outputs": [
    {
     "ename": "IndexError",
     "evalue": "list index out of range",
     "output_type": "error",
     "traceback": [
      "\u001b[0;31m---------------------------------------------------------------------------\u001b[0m",
      "\u001b[0;31mIndexError\u001b[0m                                Traceback (most recent call last)",
      "Cell \u001b[0;32mIn[10], line 2\u001b[0m\n\u001b[1;32m      1\u001b[0m lst \u001b[38;5;241m=\u001b[39m [\u001b[38;5;241m1\u001b[39m, \u001b[38;5;241m2\u001b[39m, \u001b[38;5;241m3\u001b[39m, \u001b[38;5;241m4\u001b[39m, \u001b[38;5;241m5\u001b[39m]\n\u001b[0;32m----> 2\u001b[0m lst[\u001b[38;5;241m7\u001b[39m]\n",
      "\u001b[0;31mIndexError\u001b[0m: list index out of range"
     ]
    }
   ],
   "source": [
    "lst = [1, 2, 3, 4, 5]\n",
    "lst[7]"
   ]
  },
  {
   "cell_type": "code",
   "execution_count": 11,
   "id": "39ca5e32",
   "metadata": {},
   "outputs": [
    {
     "ename": "ZeroDivisionError",
     "evalue": "division by zero",
     "output_type": "error",
     "traceback": [
      "\u001b[0;31m---------------------------------------------------------------------------\u001b[0m",
      "\u001b[0;31mZeroDivisionError\u001b[0m                         Traceback (most recent call last)",
      "Cell \u001b[0;32mIn[11], line 1\u001b[0m\n\u001b[0;32m----> 1\u001b[0m a \u001b[38;5;241m=\u001b[39m \u001b[38;5;241m1\u001b[39m \u001b[38;5;241m/\u001b[39m \u001b[38;5;241m0\u001b[39m\n",
      "\u001b[0;31mZeroDivisionError\u001b[0m: division by zero"
     ]
    }
   ],
   "source": [
    "a = 1 / 0"
   ]
  },
  {
   "cell_type": "code",
   "execution_count": 12,
   "id": "be94232b",
   "metadata": {},
   "outputs": [
    {
     "ename": "NameError",
     "evalue": "name 'b' is not defined",
     "output_type": "error",
     "traceback": [
      "\u001b[0;31m---------------------------------------------------------------------------\u001b[0m",
      "\u001b[0;31mNameError\u001b[0m                                 Traceback (most recent call last)",
      "Cell \u001b[0;32mIn[12], line 1\u001b[0m\n\u001b[0;32m----> 1\u001b[0m \u001b[38;5;28mprint\u001b[39m(b)\n",
      "\u001b[0;31mNameError\u001b[0m: name 'b' is not defined"
     ]
    }
   ],
   "source": [
    "print(b)"
   ]
  },
  {
   "cell_type": "code",
   "execution_count": 13,
   "id": "28f2ee36",
   "metadata": {},
   "outputs": [
    {
     "ename": "KeyError",
     "evalue": "2",
     "output_type": "error",
     "traceback": [
      "\u001b[0;31m---------------------------------------------------------------------------\u001b[0m",
      "\u001b[0;31mKeyError\u001b[0m                                  Traceback (most recent call last)",
      "Cell \u001b[0;32mIn[13], line 2\u001b[0m\n\u001b[1;32m      1\u001b[0m dct \u001b[38;5;241m=\u001b[39m {\u001b[38;5;124m\"\u001b[39m\u001b[38;5;124mama\u001b[39m\u001b[38;5;124m\"\u001b[39m: \u001b[38;5;241m1\u001b[39m}\n\u001b[0;32m----> 2\u001b[0m \u001b[38;5;28mprint\u001b[39m(dct[\u001b[38;5;241m2\u001b[39m])\n",
      "\u001b[0;31mKeyError\u001b[0m: 2"
     ]
    }
   ],
   "source": [
    "dct = {\"ama\": 1}\n",
    "print(dct[2])"
   ]
  },
  {
   "cell_type": "code",
   "execution_count": 14,
   "id": "d77cb7d1",
   "metadata": {},
   "outputs": [
    {
     "ename": "SyntaxError",
     "evalue": "expected ':' (1552306384.py, line 1)",
     "output_type": "error",
     "traceback": [
      "\u001b[0;36m  Cell \u001b[0;32mIn[14], line 1\u001b[0;36m\u001b[0m\n\u001b[0;31m    if a > 10\u001b[0m\n\u001b[0m             ^\u001b[0m\n\u001b[0;31mSyntaxError\u001b[0m\u001b[0;31m:\u001b[0m expected ':'\n"
     ]
    }
   ],
   "source": [
    "if a > 10\n",
    "   print(a)"
   ]
  },
  {
   "cell_type": "code",
   "execution_count": 16,
   "id": "b82b5f44",
   "metadata": {
    "scrolled": true
   },
   "outputs": [
    {
     "ename": "ZeroDivisionError",
     "evalue": "division by zero",
     "output_type": "error",
     "traceback": [
      "\u001b[0;31m---------------------------------------------------------------------------\u001b[0m",
      "\u001b[0;31mZeroDivisionError\u001b[0m                         Traceback (most recent call last)",
      "Cell \u001b[0;32mIn[16], line 5\u001b[0m\n\u001b[1;32m      1\u001b[0m \u001b[38;5;28;01mdef\u001b[39;00m \u001b[38;5;21mf\u001b[39m(a):\n\u001b[1;32m      2\u001b[0m     \u001b[38;5;28mprint\u001b[39m(\u001b[38;5;241m1\u001b[39m \u001b[38;5;241m/\u001b[39m \u001b[38;5;241m0\u001b[39m)\n\u001b[0;32m----> 5\u001b[0m f(\u001b[38;5;241m1\u001b[39m)\n",
      "Cell \u001b[0;32mIn[16], line 2\u001b[0m, in \u001b[0;36mf\u001b[0;34m(a)\u001b[0m\n\u001b[1;32m      1\u001b[0m \u001b[38;5;28;01mdef\u001b[39;00m \u001b[38;5;21mf\u001b[39m(a):\n\u001b[0;32m----> 2\u001b[0m     \u001b[38;5;28mprint\u001b[39m(\u001b[38;5;241m1\u001b[39m \u001b[38;5;241m/\u001b[39m \u001b[38;5;241m0\u001b[39m)\n",
      "\u001b[0;31mZeroDivisionError\u001b[0m: division by zero"
     ]
    }
   ],
   "source": [
    "def f(a):\n",
    "    print(1 / 0)\n",
    "    \n",
    "\n",
    "f(1)"
   ]
  },
  {
   "cell_type": "code",
   "execution_count": 20,
   "id": "8070aa7e",
   "metadata": {},
   "outputs": [
    {
     "data": {
      "text/plain": [
       "0.25"
      ]
     },
     "execution_count": 20,
     "metadata": {},
     "output_type": "execute_result"
    },
    {
     "data": {
      "text/plain": [
       "'INF'"
      ]
     },
     "execution_count": 20,
     "metadata": {},
     "output_type": "execute_result"
    }
   ],
   "source": [
    "def f(a, b):\n",
    "    if b == 0:\n",
    "        return \"INF\"\n",
    "    return a / b\n",
    "\n",
    "\n",
    "f(1, 4)\n",
    "f(1, 0)"
   ]
  },
  {
   "cell_type": "code",
   "execution_count": 34,
   "id": "6afb494c",
   "metadata": {},
   "outputs": [
    {
     "name": "stdout",
     "output_type": "stream",
     "text": [
      "Другое исключение\n"
     ]
    }
   ],
   "source": [
    "def f(a, b):\n",
    "    return a / b\n",
    "\n",
    "\n",
    "try:\n",
    "    lst = [1, 2, 3]\n",
    "    print(lst[0] / 0)\n",
    "    lst[10]\n",
    "except IndexError:\n",
    "    print(\"Ошибка индекса\")\n",
    "except ZeroDivisionError:\n",
    "    print(\"Разделили на нуль\")\n",
    "except KeyError:\n",
    "    print(\"Неверное обращение к словарю\")\n",
    "except NameError:\n",
    "    print(\"Ошибка имени\")\n",
    "except Exception:\n",
    "    print(\"Другое исключение\")\n",
    "except:\n",
    "    print(\"Error\")\n",
    "    \n",
    "    \n",
    "    \n",
    "    \n",
    "    "
   ]
  },
  {
   "cell_type": "code",
   "execution_count": 40,
   "id": "7bb712b2",
   "metadata": {},
   "outputs": [
    {
     "name": "stdout",
     "output_type": "stream",
     "text": [
      "0\n",
      "Исключение division by zero\n",
      "Я появляюсь под конец!\n"
     ]
    }
   ],
   "source": [
    "try:\n",
    "    print(1 / int(input()))\n",
    "except Exception as e:\n",
    "    print(\"Исключение\", e)\n",
    "else:\n",
    "    print(\"Ошибки не было\")\n",
    "finally:\n",
    "    print(\"Я появляюсь под конец!\")"
   ]
  },
  {
   "cell_type": "code",
   "execution_count": 45,
   "id": "1eef71fd",
   "metadata": {},
   "outputs": [
    {
     "name": "stdout",
     "output_type": "stream",
     "text": [
      "1\n",
      "0\n",
      "NameError\n"
     ]
    }
   ],
   "source": [
    "def f(a, b):\n",
    "    if b == 0:\n",
    "        raise NameError\n",
    "    return a / b\n",
    "\n",
    "\n",
    "\n",
    "try:\n",
    "    f(int(input()), int(input()))\n",
    "except NameError:\n",
    "    print(\"NameError\")\n",
    "except:\n",
    "    print(\"Error\")"
   ]
  },
  {
   "cell_type": "markdown",
   "id": "8c17f98d",
   "metadata": {},
   "source": [
    "### Создание собственных исключений"
   ]
  },
  {
   "cell_type": "code",
   "execution_count": 51,
   "id": "41a62ab2",
   "metadata": {},
   "outputs": [
    {
     "name": "stdout",
     "output_type": "stream",
     "text": [
      "1\n",
      "0\n",
      "FunctionError Ошибка внутри функции функция f\n"
     ]
    }
   ],
   "source": [
    "class FunctionError(BaseException):\n",
    "    def __init__(self, txt):\n",
    "        super().__init__(\"Ошибка внутри функции \" + txt)\n",
    "\n",
    "\n",
    "\n",
    "def f(a, b):\n",
    "    if b == 0:\n",
    "        raise FunctionError(\"функция f\")\n",
    "    return a / b\n",
    "\n",
    "\n",
    "\n",
    "\n",
    "\n",
    "\n",
    "\n",
    "try:\n",
    "    f(int(input()), int(input()))\n",
    "except FunctionError as e:\n",
    "    print(\"FunctionError\", e)\n",
    "except:\n",
    "    print(\"Error\")\n"
   ]
  },
  {
   "cell_type": "code",
   "execution_count": 56,
   "id": "b82167f6",
   "metadata": {},
   "outputs": [
    {
     "name": "stdout",
     "output_type": "stream",
     "text": [
      "1\n",
      "0\n",
      "Error Деление на нуль\n"
     ]
    }
   ],
   "source": [
    "def f(a, b):\n",
    "    assert b != 0, \"Деление на нуль\"\n",
    "    return a / b\n",
    "\n",
    "\n",
    "try:\n",
    "    f(int(input()), int(input()))\n",
    "except AssertionError as e:\n",
    "    print(\"Error\", e)"
   ]
  },
  {
   "cell_type": "markdown",
   "id": "95a7466b",
   "metadata": {},
   "source": [
    "### Unittest"
   ]
  },
  {
   "cell_type": "code",
   "execution_count": 57,
   "id": "723f3b56",
   "metadata": {},
   "outputs": [],
   "source": [
    "from IPython.core.interactiveshell import InteractiveShell\n",
    "InteractiveShell.ast_node_interactivity = \"all\""
   ]
  },
  {
   "cell_type": "code",
   "execution_count": 58,
   "id": "1d9520f5",
   "metadata": {},
   "outputs": [],
   "source": [
    "import unittest\n",
    "\n",
    "# наследование от unittest.TestCase\n",
    "# дружим с Jupyter...     unittest.main(argv=['first-arg-is-ignored'], exit=False)"
   ]
  },
  {
   "cell_type": "code",
   "execution_count": 71,
   "id": "921c631e",
   "metadata": {},
   "outputs": [],
   "source": [
    "def factorial(N):\n",
    "    if N < 0:\n",
    "        raise ValueError(\"Нельзя найти факториал отрицательного числа\")\n",
    "    if type(N) != int:\n",
    "        raise TypeError(f\"Нелья использовать тип {type(N)}\")\n",
    "    n = 1\n",
    "    for i in range(1, N + 1):\n",
    "        n *= i\n",
    "    return n"
   ]
  },
  {
   "cell_type": "code",
   "execution_count": 80,
   "id": "107b37c1",
   "metadata": {},
   "outputs": [
    {
     "name": "stderr",
     "output_type": "stream",
     "text": [
      "...........\n",
      "----------------------------------------------------------------------\n",
      "Ran 11 tests in 0.007s\n",
      "\n",
      "OK\n"
     ]
    },
    {
     "data": {
      "text/plain": [
       "<unittest.main.TestProgram at 0x110716310>"
      ]
     },
     "execution_count": 80,
     "metadata": {},
     "output_type": "execute_result"
    }
   ],
   "source": [
    "import unittest\n",
    "\n",
    "class TestFactorial(unittest.TestCase):\n",
    "    def test_zero(self):\n",
    "        self.assertEqual(factorial(0), 1)\n",
    "        \n",
    "    def test_one(self):\n",
    "        self.assertEqual(factorial(1), 1)\n",
    "        \n",
    "    def test_five(self):\n",
    "        self.assertEqual(factorial(5), 120)\n",
    "        \n",
    "    def test_ten(self):\n",
    "        self.assertEqual(factorial(10), 3628800)\n",
    "        \n",
    "    def test_20(self):\n",
    "        self.assertGreater(factorial(20), 3628800)\n",
    "        \n",
    "    def test_type(self):\n",
    "        self.assertEqual(int, type(factorial(7)))\n",
    "    \n",
    "    def test_negative(self):\n",
    "        self.assertRaises(ValueError, factorial, -1)\n",
    "        \n",
    "    def test_other_type(self):\n",
    "        self.assertRaises(TypeError, factorial, 1.5)\n",
    "    \n",
    "        \n",
    "\n",
    "if __name__ == \"__main__\":\n",
    "    unittest.main(argv=['first-arg-is-ignored'], exit=False)\n",
    "        "
   ]
  },
  {
   "cell_type": "code",
   "execution_count": 83,
   "id": "9cbe0868",
   "metadata": {},
   "outputs": [
    {
     "data": {
      "text/plain": [
       "'a-b-c'"
      ]
     },
     "execution_count": 83,
     "metadata": {},
     "output_type": "execute_result"
    }
   ],
   "source": [
    "def my_join(sep, lst):\n",
    "    line = \"\"\n",
    "    for elem in lst:\n",
    "        line += elem + sep\n",
    "    return line[:-len(sep)]\n",
    "    \n",
    "my_join(\"-\", [\"a\", \"b\", \"c\"])"
   ]
  },
  {
   "cell_type": "code",
   "execution_count": null,
   "id": "ce8e2d4b",
   "metadata": {},
   "outputs": [],
   "source": []
  }
 ],
 "metadata": {
  "kernelspec": {
   "display_name": "Python 3 (ipykernel)",
   "language": "python",
   "name": "python3"
  },
  "language_info": {
   "codemirror_mode": {
    "name": "ipython",
    "version": 3
   },
   "file_extension": ".py",
   "mimetype": "text/x-python",
   "name": "python",
   "nbconvert_exporter": "python",
   "pygments_lexer": "ipython3",
   "version": "3.11.3"
  }
 },
 "nbformat": 4,
 "nbformat_minor": 5
}
