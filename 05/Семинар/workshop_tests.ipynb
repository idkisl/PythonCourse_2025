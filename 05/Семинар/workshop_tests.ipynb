{
  "nbformat": 4,
  "nbformat_minor": 0,
  "metadata": {
    "colab": {
      "provenance": []
    },
    "kernelspec": {
      "name": "python3",
      "display_name": "Python 3"
    },
    "language_info": {
      "name": "python"
    }
  },
  "cells": [
    {
      "cell_type": "markdown",
      "source": [
        "# Семинар 5. Исключения и unittest / pytest."
      ],
      "metadata": {
        "id": "XI4vVPtR3GWJ"
      }
    },
    {
      "cell_type": "markdown",
      "source": [
        "Семинар собран Александрой Архиповой. Разрешено к использованию в некоммерческих образовательных целях с указанием авторства.\n",
        "\n",
        "Вопросы и замечания можно отправлять по адресу mipt-dpo@yandex.ru"
      ],
      "metadata": {
        "id": "F2NCdgfXfRUw"
      }
    },
    {
      "cell_type": "markdown",
      "source": [
        "## Шаг 0.\n",
        "\n",
        "Создадим класс для тестирования."
      ],
      "metadata": {
        "id": "krR-3Pc74R_6"
      }
    },
    {
      "cell_type": "code",
      "source": [
        "class Operations:\n",
        "    def add(a,b):\n",
        "        return a + b\n",
        "    def sub(a,b):\n",
        "        return a - b\n",
        "    def mul(a,b):\n",
        "        return a * b\n",
        "    def div(a,b):\n",
        "        return a / b"
      ],
      "metadata": {
        "id": "nm9fEvJY3HSC"
      },
      "execution_count": null,
      "outputs": []
    },
    {
      "cell_type": "markdown",
      "source": [
        "Рассмотрим пример ручного тестирования:"
      ],
      "metadata": {
        "id": "bCiU8Jbh4aVY"
      }
    },
    {
      "cell_type": "code",
      "source": [
        "def test_add():\n",
        "    if Operations.add(1,2) == 3:\n",
        "        print(\"Test add(a,b) is OK\")\n",
        "    else:\n",
        "        print(\"Test add(a,b) is FAIL\")\n",
        "\n",
        "def test_sub():\n",
        "    if Operations.sub(4,2) == 2:\n",
        "        print(\"Test sub(a,b) is OK\")\n",
        "    else:\n",
        "        print(\"Test sub(a,b) is FAIL\")\n",
        "\n",
        "def test_mul():\n",
        "    if Operations.mul(4,2) == 8:\n",
        "        print(\"Test mul(a,b) is OK\")\n",
        "    else:\n",
        "        print(\"Test mul(a,b) is FAIL\")\n",
        "\n",
        "def test_div():\n",
        "    if Operations.div(4,2) == 2:\n",
        "        print(\"Test div(a,b) is OK\")\n",
        "    else:\n",
        "        print(\"Test div(a,b) is FAIL\")\n",
        "\n",
        "\n",
        "test_add()\n",
        "test_sub()\n",
        "test_mul()\n",
        "test_div()"
      ],
      "metadata": {
        "colab": {
          "base_uri": "https://localhost:8080/"
        },
        "id": "AyQHmZs33KR_",
        "outputId": "30e4f991-e8b3-40a2-e05d-0b968b23b99d"
      },
      "execution_count": null,
      "outputs": [
        {
          "output_type": "stream",
          "name": "stdout",
          "text": [
            "Test add(a,b) is OK\n",
            "Test sub(a,b) is OK\n",
            "Test mul(a,b) is OK\n",
            "Test div(a,b) is OK\n"
          ]
        }
      ]
    },
    {
      "cell_type": "markdown",
      "source": [
        "## Шаг 1.\n",
        "\n",
        "## Тестирование unittest."
      ],
      "metadata": {
        "id": "4RXMX4cz4dsY"
      }
    },
    {
      "cell_type": "code",
      "source": [
        "import unittest\n",
        "class CalcTest(unittest.TestCase):\n",
        "    def test_add(self):\n",
        "        self.assertEqual(Operations.add(1,2),3)\n",
        "    def test_sub(self):\n",
        "        self.assertEqual(Operations.sub(4,2),2)\n",
        "    def test_mul(self):\n",
        "        self.assertEqual(Operations.mul(4,2),8)\n",
        "    def test_div(self):\n",
        "        self.assertEqual(Operations.div(4,2),2)\n"
      ],
      "metadata": {
        "id": "UG70-mmi3Mzk"
      },
      "execution_count": null,
      "outputs": []
    },
    {
      "cell_type": "code",
      "source": [
        "if __name__ == '__main__':\n",
        "     unittest.main(argv=[''], verbosity=2,exit=False)"
      ],
      "metadata": {
        "colab": {
          "base_uri": "https://localhost:8080/"
        },
        "id": "g4S5F05D4hFG",
        "outputId": "78674419-388c-475f-a4af-de5e00d8470d"
      },
      "execution_count": null,
      "outputs": [
        {
          "output_type": "stream",
          "name": "stderr",
          "text": [
            "test_add (__main__.CalcTest.test_add) ... ok\n",
            "test_div (__main__.CalcTest.test_div) ... ok\n",
            "test_mul (__main__.CalcTest.test_mul) ... ok\n",
            "test_sub (__main__.CalcTest.test_sub) ... ok\n",
            "\n",
            "----------------------------------------------------------------------\n",
            "Ran 4 tests in 0.007s\n",
            "\n",
            "OK\n"
          ]
        }
      ]
    },
    {
      "cell_type": "markdown",
      "source": [
        "#### Задание 1.\n",
        "\n",
        "1. Дополните класс **Operations** новыми операциями: возведение в степень, целочисленное деление, деление с остатком.\n",
        "2. Дополните класс **CalcTest** тестами для новых методов."
      ],
      "metadata": {
        "id": "fyBPdJY-7glx"
      }
    },
    {
      "cell_type": "code",
      "source": [
        "# 1.1"
      ],
      "metadata": {
        "id": "tOKzsH5x6rU0"
      },
      "execution_count": null,
      "outputs": []
    },
    {
      "cell_type": "code",
      "source": [
        "# 1.2"
      ],
      "metadata": {
        "id": "3hdFIw_ihLFh"
      },
      "execution_count": null,
      "outputs": []
    },
    {
      "cell_type": "markdown",
      "source": [
        "#### Задание 2.\n",
        "\n",
        "1. Напишите свой класс **книжная полка** с методами: вернуть книгу, взять книгу, поменять книги местами. На вход методу будет подаваться список различных книг на полке (List of string) и какие-то еще необходимые аргументы, в качестве return каждый метод должен вернуть порядок книг на полке после операции.\n",
        "\n",
        "2. Напишите класс unittest для него."
      ],
      "metadata": {
        "id": "nkD8brfy8AGU"
      }
    },
    {
      "cell_type": "code",
      "source": [
        "# 2.1"
      ],
      "metadata": {
        "id": "xz3s9nU09Qgz"
      },
      "execution_count": null,
      "outputs": []
    },
    {
      "cell_type": "code",
      "source": [
        "# 2.2"
      ],
      "metadata": {
        "id": "HXGVt9-4hbJI"
      },
      "execution_count": null,
      "outputs": []
    },
    {
      "cell_type": "markdown",
      "source": [
        "#### Задание 3.\n",
        "\n",
        "Добавить в классс **Operations** метод, для unittest которого необходимо будет использовать **assertTrue(x)**. Написать этот тест."
      ],
      "metadata": {
        "id": "KYpdzDtX91ZP"
      }
    },
    {
      "cell_type": "code",
      "source": [
        "# 3"
      ],
      "metadata": {
        "id": "CGpNYrk2-ZUX"
      },
      "execution_count": null,
      "outputs": []
    },
    {
      "cell_type": "markdown",
      "source": [
        "#### Задание 4.\n",
        "\n",
        "Добавить в классс **Operations** метод, для unittest которого необходимо будет использовать **assertIn(a,b)**. Написать этот тест."
      ],
      "metadata": {
        "id": "vFfB5gZt-bBv"
      }
    },
    {
      "cell_type": "code",
      "source": [
        "# 4"
      ],
      "metadata": {
        "id": "2yvfx3Xw-vjn"
      },
      "execution_count": null,
      "outputs": []
    },
    {
      "cell_type": "markdown",
      "source": [
        "#### Задание 5.\n",
        "\n",
        "Используя декоратор *@unittest.skip* пропусте тесты в классе **книжная полка**."
      ],
      "metadata": {
        "id": "ewMHyqOh_uOa"
      }
    },
    {
      "cell_type": "code",
      "source": [
        "# 5"
      ],
      "metadata": {
        "id": "8laGk9PCAHAR"
      },
      "execution_count": null,
      "outputs": []
    },
    {
      "cell_type": "markdown",
      "source": [
        "## Шаг 2.\n",
        "\n",
        "## Тестирование Pytest."
      ],
      "metadata": {
        "id": "B1rzr3JpAWo_"
      }
    },
    {
      "cell_type": "code",
      "source": [
        "#!pip install pytest"
      ],
      "metadata": {
        "colab": {
          "base_uri": "https://localhost:8080/"
        },
        "id": "-d3LoMlkAbMZ",
        "outputId": "782a8823-3760-4366-99ef-ee30202d7bbf"
      },
      "execution_count": null,
      "outputs": [
        {
          "output_type": "stream",
          "name": "stdout",
          "text": [
            "Requirement already satisfied: pytest in /usr/local/lib/python3.12/dist-packages (8.4.1)\n",
            "Requirement already satisfied: iniconfig>=1 in /usr/local/lib/python3.12/dist-packages (from pytest) (2.1.0)\n",
            "Requirement already satisfied: packaging>=20 in /usr/local/lib/python3.12/dist-packages (from pytest) (25.0)\n",
            "Requirement already satisfied: pluggy<2,>=1.5 in /usr/local/lib/python3.12/dist-packages (from pytest) (1.6.0)\n",
            "Requirement already satisfied: pygments>=2.7.2 in /usr/local/lib/python3.12/dist-packages (from pytest) (2.19.2)\n"
          ]
        }
      ]
    },
    {
      "cell_type": "code",
      "source": [
        "%%writefile test_operations.py\n",
        "import pytest\n",
        "import sys\n",
        "from io import StringIO\n",
        "\n",
        "\n",
        "class Operations:\n",
        "    def add(a,b):\n",
        "        return a + b\n",
        "    def sub(a,b):\n",
        "        return a - b\n",
        "    def mul(a,b):\n",
        "        return a * b\n",
        "    def div(a,b):\n",
        "        return a / b\n",
        "\n",
        "\n",
        "def test_add():\n",
        "  assert Operations.add(1, 2) == 3\n",
        "# etc."
      ],
      "metadata": {
        "colab": {
          "base_uri": "https://localhost:8080/"
        },
        "id": "uUCAbcL_A78l",
        "outputId": "df327a51-7c24-4732-e218-ef384b1c672c"
      },
      "execution_count": null,
      "outputs": [
        {
          "output_type": "stream",
          "name": "stdout",
          "text": [
            "Writing test_operations.py\n"
          ]
        }
      ]
    },
    {
      "cell_type": "code",
      "source": [
        "!python -m pytest test_operations.py"
      ],
      "metadata": {
        "colab": {
          "base_uri": "https://localhost:8080/"
        },
        "id": "CQlRyycbDp6X",
        "outputId": "686a1374-688d-4960-f888-2ef4a21f5c2d"
      },
      "execution_count": null,
      "outputs": [
        {
          "output_type": "stream",
          "name": "stdout",
          "text": [
            "\u001b[1m============================= test session starts ==============================\u001b[0m\n",
            "platform linux -- Python 3.12.11, pytest-8.4.1, pluggy-1.6.0\n",
            "rootdir: /content\n",
            "plugins: langsmith-0.4.14, typeguard-4.4.4, anyio-4.10.0\n",
            "\u001b[1mcollecting ... \u001b[0m\u001b[1m\rcollected 1 item                                                               \u001b[0m\n",
            "\n",
            "test_operations.py \u001b[32m.\u001b[0m\u001b[32m                                                     [100%]\u001b[0m\n",
            "\n",
            "\u001b[32m============================== \u001b[32m\u001b[1m1 passed\u001b[0m\u001b[32m in 0.01s\u001b[0m\u001b[32m ===============================\u001b[0m\n"
          ]
        }
      ]
    },
    {
      "cell_type": "markdown",
      "source": [
        "#### Задание 6.\n",
        "\n",
        "Напишите тесты с использованием pytest для классов:\n",
        "\n",
        "1. **Operations**\n",
        "2. **книжная полка**."
      ],
      "metadata": {
        "id": "MNEYoPm5CkHb"
      }
    },
    {
      "cell_type": "code",
      "source": [
        "# 6.1"
      ],
      "metadata": {
        "id": "aK8UCpdZhwi3"
      },
      "execution_count": null,
      "outputs": []
    },
    {
      "cell_type": "code",
      "source": [
        "#6.2"
      ],
      "metadata": {
        "id": "q2HPBeomhwuU"
      },
      "execution_count": null,
      "outputs": []
    },
    {
      "cell_type": "markdown",
      "source": [
        "## Шаг 3.\n",
        "\n",
        "## Исключения.\n"
      ],
      "metadata": {
        "id": "qITlFkp-Acoi"
      }
    },
    {
      "cell_type": "markdown",
      "source": [
        "#### Задание 7.\n",
        "\n",
        "Считывайте с командной строки, пока не попадется первое число. Для этого используйте конструкцию *try:  except*."
      ],
      "metadata": {
        "id": "4yTKA8hFtxty"
      }
    },
    {
      "cell_type": "code",
      "source": [
        "# 7"
      ],
      "metadata": {
        "id": "TimCr606AlDE"
      },
      "execution_count": null,
      "outputs": []
    },
    {
      "cell_type": "markdown",
      "source": [
        "#### Задание 8.\n",
        "\n",
        "Считывайте с командной строки. Программа должна продолжать работу, если получает числа *int*, если же вводятся другие символы (числа *float*, несколько символов, string, char), то это необходимо обработать, как ошибку. Используйте конструкцию *try raise NameError('...')*"
      ],
      "metadata": {
        "id": "r5C2G7uZuPIu"
      }
    },
    {
      "cell_type": "code",
      "source": [
        "# 8"
      ],
      "metadata": {
        "id": "pHymu5lUuPrt"
      },
      "execution_count": null,
      "outputs": []
    },
    {
      "cell_type": "markdown",
      "source": [
        "## Шаг 4.\n",
        "\n",
        "## Больше практики."
      ],
      "metadata": {
        "id": "XW9cKnndjsfT"
      }
    },
    {
      "cell_type": "markdown",
      "source": [
        "#### Задание 9.\n",
        "\n",
        "Дана функция вычисления площади прямоугольника.\n",
        "Напишите класс тестов unittest для проверки:\n",
        "\n",
        "1. расчета площади при корректных входных значениях\n",
        "2. расчета площади при отрицательных входных числах\n",
        "3. расчета площади при некорректном типе входных данных\n",
        "\n",
        "В каждом из методов проверки должно вызываться минимум 2 assert."
      ],
      "metadata": {
        "id": "OsmZnTIVj2q_"
      }
    },
    {
      "cell_type": "code",
      "source": [
        "# 9\n",
        "import unittest\n",
        "\n",
        "def rectangle_area(width, height):\n",
        "    if not isinstance(width, (int, float)) or not isinstance(height, (int, float)):\n",
        "        raise TypeError(\"Ширина и высота должны быть числами\")\n",
        "    if width <= 0 or height <= 0:\n",
        "        raise ValueError(\"Ширина и высота должны быть положительными числами\")\n",
        "    return width * height\n",
        "\n",
        "# class TestRectangleArea(unittest.TestCase):\n",
        "    # def test_negative_values(self):\n",
        "    #     with self.assertRaises(ValueError):\n",
        "    #         rectangle_area(-1, 5)"
      ],
      "metadata": {
        "id": "gUf0xkfBjrfi"
      },
      "execution_count": null,
      "outputs": []
    },
    {
      "cell_type": "markdown",
      "source": [
        "#### Задание 10.\n",
        "\n",
        "Напишите тестирование с использованием unittest для класса **BankAccount**."
      ],
      "metadata": {
        "id": "VFps_beAmHnT"
      }
    },
    {
      "cell_type": "code",
      "source": [
        "# 10\n",
        "import unittest\n",
        "\n",
        "class BankAccount:\n",
        "    def __init__(self, initial_balance=0):\n",
        "        self.balance = initial_balance\n",
        "\n",
        "    def deposit(self, amount):\n",
        "        if amount <= 0:\n",
        "            raise ValueError(\"Сумма должна быть положительной\")\n",
        "        self.balance += amount\n",
        "\n",
        "    def withdraw(self, amount):\n",
        "        if amount <= 0:\n",
        "            raise ValueError(\"Сумма должна быть положительной\")\n",
        "        if amount > self.balance:\n",
        "            raise ValueError(\"Недостаточно средств\")\n",
        "        self.balance -= amount\n",
        "\n",
        "# class TestBankAccount(unittest.TestCase):"
      ],
      "metadata": {
        "id": "yNoBijRxmTwP"
      },
      "execution_count": null,
      "outputs": []
    },
    {
      "cell_type": "markdown",
      "source": [
        "#### Задание 11.\n",
        "\n",
        "Напишите тестирование функции поиска максимального элемента с использованием **unittest**.\n",
        "Учтите следующие проверки:\n",
        "\n",
        "1. поиск в обычном списке\n",
        "\n",
        "2. поиск в пустом списке\n",
        "\n",
        "3. поиск в списке из одного элемента\n",
        "\n",
        "Придумайте еще тест на некорректный ввод для функции."
      ],
      "metadata": {
        "id": "pI0s_Dj5mjDR"
      }
    },
    {
      "cell_type": "code",
      "source": [
        "# 11"
      ],
      "metadata": {
        "id": "EyF02hQQmiGG"
      },
      "execution_count": null,
      "outputs": []
    },
    {
      "cell_type": "markdown",
      "source": [
        "#### Задание 12.\n",
        "\n",
        "Напишите тестирование функции определения, является ли введенная строка палиндромом с использованием **unittest**.\n",
        "\n",
        "Также напишите саму функцию определения палиндрома."
      ],
      "metadata": {
        "id": "V3JIRte6nSf_"
      }
    },
    {
      "cell_type": "code",
      "source": [
        "# 12\n",
        "\n",
        "# text == text[::-1]"
      ],
      "metadata": {
        "id": "k02bDPPfnsBv"
      },
      "execution_count": null,
      "outputs": []
    },
    {
      "cell_type": "markdown",
      "source": [
        "#### Задание 13.\n",
        "\n",
        "Напишите тестирование функции конвертации температуры с использованием **unittest**.\n",
        "\n",
        "Также напишите саму функцию конвертации температуры из цельсиев в фаренгейт."
      ],
      "metadata": {
        "id": "JYQDE6nVn0Rp"
      }
    },
    {
      "cell_type": "code",
      "source": [
        "# 13"
      ],
      "metadata": {
        "id": "G6yOvDO4nzFc"
      },
      "execution_count": null,
      "outputs": []
    },
    {
      "cell_type": "markdown",
      "source": [
        "#### Задание 14.\n",
        "\n",
        "Напишите тестирование функции факториала  с использованием **pytest**.\n",
        "\n",
        "Также напишите саму функцию определения факториала."
      ],
      "metadata": {
        "id": "HxJUoSnnobSy"
      }
    },
    {
      "cell_type": "code",
      "source": [
        "# 14"
      ],
      "metadata": {
        "id": "m3eXFuRdoqwZ"
      },
      "execution_count": null,
      "outputs": []
    },
    {
      "cell_type": "markdown",
      "source": [
        "#### Задание 15.\n",
        "\n",
        "Напишите класс для работы со строками. Реализуйте методы сложения строк, вырезания подстроки, вставки в конец/начало строки подстроки. Выполните тестирование класса с использованием **pytest**."
      ],
      "metadata": {
        "id": "dcTztWp5otki"
      }
    },
    {
      "cell_type": "code",
      "source": [
        "# 15"
      ],
      "metadata": {
        "id": "SjyzPDtpprpU"
      },
      "execution_count": null,
      "outputs": []
    },
    {
      "cell_type": "markdown",
      "source": [
        "#### Задание 16.\n",
        "\n",
        "Реализуйте и протестируйте функцию, которая проверяет валидность пароля. Пароль должен:\n",
        "\n",
        "1. Содержать минимум 8 символов\n",
        "2. Иметь хотя бы одну цифру\n",
        "3. Иметь хотя бы одну заглавную букву\n",
        "4. Иметь хотя бы один специальный символ из набора: !@#$%^&*\n",
        "\n",
        "Выполните тестирование  с использованием **pytest**."
      ],
      "metadata": {
        "id": "zKahva95p1Pp"
      }
    },
    {
      "cell_type": "code",
      "source": [
        "# 16"
      ],
      "metadata": {
        "id": "IwmFrbs2qZDe"
      },
      "execution_count": null,
      "outputs": []
    },
    {
      "cell_type": "markdown",
      "source": [
        "#### Задание 17.\n",
        "\n",
        "Реализуйте и протестируйте функцию расчета стоимости доставки, которая зависит от:\n",
        "\n",
        "1. Веса посылки (до 5 кг - одна цена, 5-10 кг - другая, более 10 кг - третья)\n",
        "\n",
        "2. Расстояния (до 50 км - один тариф, 50-200 км - другой, более 200 км - третий)\n",
        "\n",
        "3. Срочности (обычная +0%, срочная +50%, экстренная +100%)\n",
        "\n",
        "Выполните тестирование  с использованием **pytest**."
      ],
      "metadata": {
        "id": "zIAStgwDqjnn"
      }
    },
    {
      "cell_type": "code",
      "source": [
        "# 17"
      ],
      "metadata": {
        "id": "2SdX3DnWqirC"
      },
      "execution_count": null,
      "outputs": []
    },
    {
      "cell_type": "markdown",
      "source": [
        "#### Задание 18.\n",
        "\n",
        "Реализуйте и протестируйте функцию конвертации валют, которая:\n",
        "\n",
        "1. Конвертирует между поддерживаемыми валютами (USD, EUR, RUB)\n",
        "\n",
        "2. Обрабатывает несуществующие валюты\n",
        "\n",
        "3. Работает с отрицательными суммами\n",
        "\n",
        "Курс задается в функции.\n",
        "\n",
        "Выполните тестирование  с использованием **pytest**."
      ],
      "metadata": {
        "id": "X61U45_nq_5s"
      }
    },
    {
      "cell_type": "code",
      "source": [
        "# 18"
      ],
      "metadata": {
        "id": "Ye7jzGS_q74B"
      },
      "execution_count": null,
      "outputs": []
    },
    {
      "cell_type": "markdown",
      "source": [
        "#### Задание 19.\n",
        "\n",
        "\n",
        "Реализуйте и протестируйте функцию, которая объединяет два словаря с обработкой конфликтующих ключей:\n",
        "\n",
        "1. Простое слияние без конфликтов\n",
        "\n",
        "2. Конфликт ключей с приоритетом первого/второго словаря\n",
        "\n",
        "3. Вложенные словари\n",
        "\n",
        "4. Пустые словари\n",
        "\n",
        "\n",
        "Выполните тестирование  с использованием **pytest**."
      ],
      "metadata": {
        "id": "JChce1wXrFgz"
      }
    },
    {
      "cell_type": "code",
      "source": [
        "# 19"
      ],
      "metadata": {
        "id": "qMM0oYXZrEm4"
      },
      "execution_count": null,
      "outputs": []
    },
    {
      "cell_type": "markdown",
      "source": [
        "#### Задание 20.\n",
        "\n",
        "\n",
        "еализуйте и протестируйте функцию, которая находит общих друзей между двумя пользователями:\n",
        "\n",
        "1. Обычный случай с общими друзьями\n",
        "\n",
        "2. Нет общих друзей\n",
        "\n",
        "3. Один из наборов друзей пустой\n",
        "\n",
        "4. Оба набора пустые\n",
        "\n",
        "5. Все друзья общие\n",
        "\n",
        "\n",
        "Считаем, что каждое имя определяет только одного человека. Используйте типы данных set, list.\n",
        "\n",
        "Выполните тестирование  с использованием **pytest**."
      ],
      "metadata": {
        "id": "pu8CE9IPrIks"
      }
    },
    {
      "cell_type": "code",
      "source": [
        "# 20"
      ],
      "metadata": {
        "id": "1liiatQ2rKk4"
      },
      "execution_count": null,
      "outputs": []
    }
  ]
}