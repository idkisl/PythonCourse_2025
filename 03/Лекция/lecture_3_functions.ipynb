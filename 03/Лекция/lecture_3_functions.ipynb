{
 "cells": [
  {
   "cell_type": "markdown",
   "id": "9caf71a9",
   "metadata": {},
   "source": [
    "## Лекция 3\n",
    "### Функции \n",
    "- определение\n",
    "- множественные аргументы\n",
    "- именнованные аргументы\n",
    "- рекурсия\n",
    "- генераторы\n",
    "- функции высших порядков\n",
    "- декораторы\n",
    "\n",
    "Лекция прочитана Иваном Кисляковым. Разрешено к использованию в некоммерческих образовательных целях. "
   ]
  },
  {
   "cell_type": "markdown",
   "id": "ce75b632",
   "metadata": {},
   "source": [
    "## Определение понятия"
   ]
  },
  {
   "cell_type": "markdown",
   "id": "02902007",
   "metadata": {},
   "source": [
    "Смысл функций\n",
    "- убрать повторяющиеся части коды\n",
    "- увеличить читаемость кода (80 строк)\n",
    "- использовать рекурсию\n",
    "- разбивать на подзадачи"
   ]
  },
  {
   "cell_type": "code",
   "execution_count": 1,
   "id": "33e2d980",
   "metadata": {},
   "outputs": [],
   "source": [
    "def apple():\n",
    "    print(\"Яблоко!\")"
   ]
  },
  {
   "cell_type": "code",
   "execution_count": 2,
   "id": "a22f17a2",
   "metadata": {},
   "outputs": [
    {
     "name": "stdout",
     "output_type": "stream",
     "text": [
      "Яблоко!\n"
     ]
    }
   ],
   "source": [
    "apple()"
   ]
  },
  {
   "cell_type": "markdown",
   "id": "e048bd07",
   "metadata": {},
   "source": [
    "## Принимаемые данные"
   ]
  },
  {
   "cell_type": "code",
   "execution_count": 3,
   "id": "0365a8f3",
   "metadata": {},
   "outputs": [],
   "source": [
    "def hello(name):\n",
    "    print(f\"Hello, {name}!\")"
   ]
  },
  {
   "cell_type": "code",
   "execution_count": 4,
   "id": "26dda99e",
   "metadata": {},
   "outputs": [
    {
     "name": "stdout",
     "output_type": "stream",
     "text": [
      "Hello, Ivan!\n"
     ]
    }
   ],
   "source": [
    "hello(\"Ivan\")"
   ]
  },
  {
   "cell_type": "code",
   "execution_count": 6,
   "id": "75300404",
   "metadata": {},
   "outputs": [
    {
     "name": "stdout",
     "output_type": "stream",
     "text": [
      "Дмитрий\n",
      "Hello, Дмитрий!\n"
     ]
    }
   ],
   "source": [
    "hello(input())"
   ]
  },
  {
   "cell_type": "code",
   "execution_count": 7,
   "id": "4aeadb9b",
   "metadata": {},
   "outputs": [],
   "source": [
    "def say_hello(language, name):\n",
    "    if language == \"eng\":\n",
    "        print(f\"Hello, {name}!\")\n",
    "    elif language == \"rus\":\n",
    "        print(f\"Привет, {name}!\")\n",
    "    else:\n",
    "        print(\"Abracodabra!\")"
   ]
  },
  {
   "cell_type": "code",
   "execution_count": 12,
   "id": "0363d7fb",
   "metadata": {},
   "outputs": [
    {
     "name": "stdout",
     "output_type": "stream",
     "text": [
      "Привет, Дмитрий!\n",
      "Hello, Nikita!\n",
      "Abracodabra!\n",
      "Привет, 5!\n"
     ]
    }
   ],
   "source": [
    "say_hello(\"rus\", \"Дмитрий\")\n",
    "say_hello(\"eng\", \"Nikita\")\n",
    "say_hello(\"esp\", \"Alexander\")\n",
    "say_hello(\"rus\", 5)"
   ]
  },
  {
   "cell_type": "markdown",
   "id": "602f10ef",
   "metadata": {},
   "source": [
    "## Красота \n",
    "Аннотация аргументов"
   ]
  },
  {
   "cell_type": "code",
   "execution_count": 26,
   "id": "a50f5a8e",
   "metadata": {},
   "outputs": [],
   "source": [
    "def hello(name: str) -> int:\n",
    "    '''\n",
    "    Функция hello(name) принимает один аргумент - имя.\n",
    "    Выводит на экран фразу Hello, <name>!\n",
    "    '''\n",
    "    print(f\"Hello, {name}!\")"
   ]
  },
  {
   "cell_type": "code",
   "execution_count": 27,
   "id": "53147245",
   "metadata": {},
   "outputs": [
    {
     "name": "stdout",
     "output_type": "stream",
     "text": [
      "Hello, 2!\n"
     ]
    }
   ],
   "source": [
    "hello(2)"
   ]
  },
  {
   "cell_type": "markdown",
   "id": "2c3c4035",
   "metadata": {},
   "source": [
    "## Возвращаемые данные"
   ]
  },
  {
   "cell_type": "markdown",
   "id": "e554ddc8",
   "metadata": {},
   "source": [
    "Возвращение данных из функции"
   ]
  },
  {
   "cell_type": "code",
   "execution_count": 39,
   "id": "c74bf4bd",
   "metadata": {},
   "outputs": [],
   "source": [
    "def get_sum_prod(a: int, b: int, c: int) -> (int, int):\n",
    "    '''\n",
    "    Функция находит сумму и произведение трех чисел и возвращзает их.\n",
    "    '''\n",
    "    return a + b + c, a * b * c\n",
    "\n"
   ]
  },
  {
   "cell_type": "code",
   "execution_count": 40,
   "id": "5c726c00",
   "metadata": {},
   "outputs": [
    {
     "name": "stdout",
     "output_type": "stream",
     "text": [
      "(9, 24)\n"
     ]
    }
   ],
   "source": [
    "a = get_sum_prod(4, 2, 3)\n",
    "print(a)"
   ]
  },
  {
   "cell_type": "code",
   "execution_count": 41,
   "id": "ff8f90d1",
   "metadata": {},
   "outputs": [
    {
     "name": "stdout",
     "output_type": "stream",
     "text": [
      "Help on function get_sum_prod in module __main__:\n",
      "\n",
      "get_sum_prod(a: int, b: int, c: int) -> (<class 'int'>, <class 'int'>)\n",
      "    Функция находит сумму и произведение трех чисел и возвращзает их.\n",
      "\n"
     ]
    }
   ],
   "source": [
    "help(get_sum_prod)"
   ]
  },
  {
   "cell_type": "markdown",
   "id": "2733deb7",
   "metadata": {},
   "source": [
    "## Глобальные переменные"
   ]
  },
  {
   "cell_type": "code",
   "execution_count": 50,
   "id": "f90958df",
   "metadata": {},
   "outputs": [
    {
     "name": "stdout",
     "output_type": "stream",
     "text": [
      "1234\n",
      "True\n"
     ]
    },
    {
     "ename": "NameError",
     "evalue": "name 'LOCAL_PASSWORD' is not defined",
     "output_type": "error",
     "traceback": [
      "\u001b[0;31m---------------------------------------------------------------------------\u001b[0m",
      "\u001b[0;31mNameError\u001b[0m                                 Traceback (most recent call last)",
      "Cell \u001b[0;32mIn[50], line 15\u001b[0m\n\u001b[1;32m     13\u001b[0m \u001b[38;5;28mprint\u001b[39m(pin_code(\u001b[38;5;28minput\u001b[39m()))\n\u001b[1;32m     14\u001b[0m \u001b[38;5;28;01mif\u001b[39;00m \u001b[38;5;28;01mTrue\u001b[39;00m:\n\u001b[0;32m---> 15\u001b[0m     \u001b[38;5;28mprint\u001b[39m(LOCAL_PASSWORD)\n",
      "\u001b[0;31mNameError\u001b[0m: name 'LOCAL_PASSWORD' is not defined"
     ]
    }
   ],
   "source": [
    "PASSWORD = \"1234\" # константы\n",
    "\n",
    "\n",
    "def pin_code(password):\n",
    "    LOCAL_PASSWORD = \"2345\"\n",
    "    \n",
    "    if password == PASSWORD:\n",
    "        return True\n",
    "    else:\n",
    "        return False\n",
    "    \n",
    "    \n",
    "print(pin_code(input()))\n",
    "if True:\n",
    "    print(LOCAL_PASSWORD)"
   ]
  },
  {
   "cell_type": "code",
   "execution_count": 55,
   "id": "3f02e965",
   "metadata": {},
   "outputs": [
    {
     "name": "stdout",
     "output_type": "stream",
     "text": [
      "1234\n",
      "True\n",
      "2345\n"
     ]
    }
   ],
   "source": [
    "PASSWORD = \"1234\" # константы\n",
    "\n",
    "\n",
    "def pin_code(password):\n",
    "    global PASSWORD\n",
    "    \n",
    "    if password == PASSWORD:\n",
    "        PASSWORD = \"2345\"\n",
    "        return True\n",
    "    else:\n",
    "        return False\n",
    "    \n",
    "    \n",
    "print(pin_code(input()))\n",
    "print(PASSWORD)"
   ]
  },
  {
   "cell_type": "markdown",
   "id": "32d253be",
   "metadata": {},
   "source": [
    "## Именованные аргументы"
   ]
  },
  {
   "cell_type": "code",
   "execution_count": 58,
   "id": "589d0de6",
   "metadata": {},
   "outputs": [
    {
     "name": "stdout",
     "output_type": "stream",
     "text": [
      "Hello, Ivan!\n",
      "1!!!3!!!4!!!5\n"
     ]
    }
   ],
   "source": [
    "def say_hello(language, name):\n",
    "    if language == \"eng\":\n",
    "        print(f\"Hello, {name}!\")\n",
    "    elif language == \"rus\":\n",
    "        print(f\"Привет, {name}!\")\n",
    "    else:\n",
    "        print(\"Abracodabra!\")\n",
    "        \n",
    "        \n",
    "say_hello(name=\"Ivan\", language=\"eng\")\n",
    "print(1, 3, 4, 5, sep=\"!!!\")"
   ]
  },
  {
   "cell_type": "markdown",
   "id": "2c46a098",
   "metadata": {},
   "source": [
    "## Значения по умолчанию"
   ]
  },
  {
   "cell_type": "code",
   "execution_count": 62,
   "id": "26b5a7e5",
   "metadata": {},
   "outputs": [
    {
     "name": "stdout",
     "output_type": "stream",
     "text": [
      "Hello, Ivan!\n",
      "Привет, Ivan!\n",
      "Привет, Ivan!\n"
     ]
    }
   ],
   "source": [
    "def say_hello(name, language=\"rus\"):\n",
    "    if language == \"eng\":\n",
    "        print(f\"Hello, {name}!\")\n",
    "    elif language == \"rus\":\n",
    "        print(f\"Привет, {name}!\")\n",
    "    else:\n",
    "        print(\"Abracodabra!\")\n",
    "        \n",
    "        \n",
    "say_hello(\"Ivan\", \"eng\")\n",
    "say_hello(\"Ivan\")\n",
    "say_hello(name=\"Ivan\")"
   ]
  },
  {
   "cell_type": "markdown",
   "id": "bf4832b7",
   "metadata": {},
   "source": [
    "## Переменное число аргументов"
   ]
  },
  {
   "cell_type": "code",
   "execution_count": 71,
   "id": "1989b676",
   "metadata": {},
   "outputs": [
    {
     "name": "stdout",
     "output_type": "stream",
     "text": [
      "Alex 1 7 9\n",
      "(10, 11, 12, 14)\n"
     ]
    }
   ],
   "source": [
    "def output(name, a, b, c, *args):\n",
    "    print(name, a, b, c)\n",
    "    print(args)\n",
    "    \n",
    "    \n",
    "output(\"Alex\", 1, 7, 9, 10, 11, 12, 14)\n"
   ]
  },
  {
   "cell_type": "code",
   "execution_count": 76,
   "id": "97a71234",
   "metadata": {},
   "outputs": [
    {
     "name": "stdout",
     "output_type": "stream",
     "text": [
      "1 2 3 {'c': 5, 'd': 7}\n"
     ]
    }
   ],
   "source": [
    "def output2(name, a, b, **kwargs):\n",
    "    print(name, a, b, kwargs)\n",
    "    \n",
    "    \n",
    "output2(1, 2, b=3, c=5, d=7)\n",
    "    "
   ]
  },
  {
   "cell_type": "code",
   "execution_count": 79,
   "id": "f4934b05",
   "metadata": {},
   "outputs": [
    {
     "name": "stdout",
     "output_type": "stream",
     "text": [
      "(1, 2, 3) {'a': 5, 'b': 7}\n"
     ]
    }
   ],
   "source": [
    "def none(*args, **kwargs):\n",
    "    print(args, kwargs)\n",
    "    return None\n",
    "\n",
    "\n",
    "none(1, 2, 3, a=5, b=7)\n"
   ]
  },
  {
   "cell_type": "markdown",
   "id": "59fedd7b",
   "metadata": {},
   "source": [
    "## Рекурсия"
   ]
  },
  {
   "cell_type": "markdown",
   "id": "338f0193",
   "metadata": {},
   "source": [
    "#### Задача 1.\n",
    "Напишите функцию, высчитывающую значение по следующим правилам:\n",
    "\n",
    "\n",
    "*   F(N) = F(N + 1) * (N - 1)\n",
    "*   F(20) = 100\n"
   ]
  },
  {
   "cell_type": "code",
   "execution_count": 81,
   "id": "8410d814",
   "metadata": {},
   "outputs": [
    {
     "name": "stdout",
     "output_type": "stream",
     "text": [
      "127031224320000\n"
     ]
    }
   ],
   "source": [
    "def F(N):\n",
    "    if N == 20:\n",
    "        return 100\n",
    "    return F(N + 1) * (N - 1)\n",
    "    \n",
    "print(F(9))"
   ]
  },
  {
   "cell_type": "markdown",
   "id": "bddf7dd6",
   "metadata": {},
   "source": [
    "#### Задача 2\n",
    "Напишите функцию, высчитывающую значение по следующим правилам:\n",
    "\n",
    "\n",
    "*   F(0) = 1\n",
    "*   F(1) = 2\n",
    "*   F(N) = N $\\cdot$F(N-1) + F(N - 2) + 4N  "
   ]
  },
  {
   "cell_type": "code",
   "execution_count": 83,
   "id": "f5f18496",
   "metadata": {},
   "outputs": [
    {
     "name": "stdout",
     "output_type": "stream",
     "text": [
      "11\n"
     ]
    }
   ],
   "source": [
    "def F(N):\n",
    "    if N == 1:\n",
    "        return 2\n",
    "    if N == 0:\n",
    "        return 1\n",
    "    return N * F(N - 1) + F(N - 2) + 4 * N\n",
    "\n",
    "\n",
    "print(11)"
   ]
  },
  {
   "cell_type": "markdown",
   "id": "a0380b8d",
   "metadata": {},
   "source": [
    "#### Задача 3\n",
    "Напишите рекурсивную функцию factorial(n), которая будет принимать положительное целое число n и возвращать факториал от этого числа\n",
    "\n",
    "n! = 1 x 2 x 3 x … x n = (n - 1)! x n"
   ]
  },
  {
   "cell_type": "code",
   "execution_count": null,
   "id": "fb430a00",
   "metadata": {},
   "outputs": [],
   "source": []
  },
  {
   "cell_type": "markdown",
   "id": "ab41ee1c",
   "metadata": {},
   "source": [
    "## Генераторы"
   ]
  },
  {
   "cell_type": "code",
   "execution_count": 85,
   "id": "0ccc2b63",
   "metadata": {},
   "outputs": [
    {
     "name": "stdout",
     "output_type": "stream",
     "text": [
      "0 1 2 3 4 5 6 7 8 9 "
     ]
    }
   ],
   "source": [
    "for i in range(10):\n",
    "    print(i, end=\" \")\n",
    "    i = 5\n",
    "    "
   ]
  },
  {
   "cell_type": "code",
   "execution_count": 87,
   "id": "e07629bc",
   "metadata": {},
   "outputs": [
    {
     "name": "stdout",
     "output_type": "stream",
     "text": [
      "0 1 2 3 4 5 6 7 8 9 "
     ]
    }
   ],
   "source": [
    "for i in [0, 1, 2, 3, 4, 5, 6, 7, 8, 9]:\n",
    "    print(i, end=\" \")\n",
    "    i = 5"
   ]
  },
  {
   "cell_type": "code",
   "execution_count": 88,
   "id": "5bef2f9e",
   "metadata": {},
   "outputs": [
    {
     "name": "stdout",
     "output_type": "stream",
     "text": [
      "0 1 2 3 4 5 6 7 8 9 "
     ]
    }
   ],
   "source": [
    "for i in [j for j in range(10)]:\n",
    "    print(i, end=\" \")\n",
    "    i = 5"
   ]
  },
  {
   "cell_type": "code",
   "execution_count": 86,
   "id": "95eabd29",
   "metadata": {},
   "outputs": [
    {
     "name": "stdout",
     "output_type": "stream",
     "text": [
      "range(0, 10)\n"
     ]
    }
   ],
   "source": [
    "print(range(10))"
   ]
  },
  {
   "cell_type": "code",
   "execution_count": 92,
   "id": "8b0d383d",
   "metadata": {},
   "outputs": [
    {
     "name": "stdout",
     "output_type": "stream",
     "text": [
      "0\n",
      "1\n",
      "2\n",
      "3\n",
      "4\n",
      "5\n",
      "6\n",
      "7\n",
      "8\n",
      "9\n"
     ]
    }
   ],
   "source": [
    "def my_range(N):\n",
    "    lst = []\n",
    "    i = 0\n",
    "    while i < N:\n",
    "        lst.append(i)\n",
    "        i += 1\n",
    "    return lst\n",
    "\n",
    "for i in my_range(10):\n",
    "    print(i)"
   ]
  },
  {
   "cell_type": "code",
   "execution_count": 91,
   "id": "b2d9335a",
   "metadata": {},
   "outputs": [
    {
     "name": "stdout",
     "output_type": "stream",
     "text": [
      "0\n",
      "1\n",
      "2\n",
      "3\n",
      "4\n",
      "5\n",
      "6\n",
      "7\n",
      "8\n",
      "9\n"
     ]
    }
   ],
   "source": [
    "def my_range(N):\n",
    "    i = 0\n",
    "    while i < N:\n",
    "        yield i\n",
    "        i += 1\n",
    "\n",
    "for i in my_range(10):\n",
    "    print(i)"
   ]
  },
  {
   "cell_type": "markdown",
   "id": "cf49a147",
   "metadata": {},
   "source": [
    "## Функции высших порядков"
   ]
  },
  {
   "cell_type": "markdown",
   "id": "aefcb283",
   "metadata": {},
   "source": [
    "Функция принимающая как аргумент или возвращающая другую функцию"
   ]
  },
  {
   "cell_type": "code",
   "execution_count": 96,
   "id": "4d96d75f",
   "metadata": {},
   "outputs": [
    {
     "name": "stdout",
     "output_type": "stream",
     "text": [
      "10---20---30\n",
      "Hello\n",
      "Hello\n"
     ]
    }
   ],
   "source": [
    "def hello():\n",
    "    print(\"Hello\")\n",
    "    \n",
    "    \n",
    "def make_hello():\n",
    "    return hello\n",
    "\n",
    "\n",
    "\n",
    "my_hello = make_hello()\n",
    "\n",
    "выведи =  print\n",
    "выведи(10, 20, 30, sep=\"---\")\n",
    "\n",
    "\n",
    "my_hello()\n",
    "hello()"
   ]
  },
  {
   "cell_type": "code",
   "execution_count": 102,
   "id": "5611950c",
   "metadata": {},
   "outputs": [
    {
     "name": "stdout",
     "output_type": "stream",
     "text": [
      "Hello\n"
     ]
    }
   ],
   "source": [
    "def hello():\n",
    "    print(\"Hello\")\n",
    "    \n",
    "    \n",
    "def get_function(f):\n",
    "    f()\n",
    "    \n",
    "    \n",
    "    \n",
    "get_function(hello)"
   ]
  },
  {
   "cell_type": "markdown",
   "id": "f1561e16",
   "metadata": {},
   "source": [
    "## Анонимные функции"
   ]
  },
  {
   "cell_type": "code",
   "execution_count": 101,
   "id": "c77a24fb",
   "metadata": {},
   "outputs": [
    {
     "name": "stdout",
     "output_type": "stream",
     "text": [
      "64\n"
     ]
    }
   ],
   "source": [
    "f = lambda x: x ** 2\n",
    "\n",
    "print(f(8))"
   ]
  },
  {
   "cell_type": "markdown",
   "id": "4a618df9",
   "metadata": {},
   "source": [
    "## MAP, FILTER"
   ]
  },
  {
   "cell_type": "code",
   "execution_count": 103,
   "id": "2f26cb54",
   "metadata": {},
   "outputs": [
    {
     "name": "stdout",
     "output_type": "stream",
     "text": [
      "[0, 1, 2, 3, 4, 5, 6, 7, 8, 9]\n"
     ]
    }
   ],
   "source": [
    "lst = [i for i in range(10)]\n",
    "lst2 = ..."
   ]
  },
  {
   "cell_type": "code",
   "execution_count": 107,
   "id": "e555b99b",
   "metadata": {},
   "outputs": [
    {
     "name": "stdout",
     "output_type": "stream",
     "text": [
      "0\n",
      "2\n",
      "4\n",
      "6\n",
      "8\n"
     ]
    }
   ],
   "source": [
    "def my_filter(criteria, collection):\n",
    "    for elem in collection:\n",
    "        if criteria(elem):\n",
    "            yield elem\n",
    "\n",
    "\n",
    "\n",
    "lst = [i for i in range(10)]\n",
    "lst2 = filter(lambda x: x % 2 == 0, lst)\n",
    "for i in lst2:\n",
    "    print(i)"
   ]
  },
  {
   "cell_type": "code",
   "execution_count": 109,
   "id": "2e329588",
   "metadata": {},
   "outputs": [
    {
     "name": "stdout",
     "output_type": "stream",
     "text": [
      "0\n",
      "1\n",
      "4\n",
      "9\n",
      "16\n",
      "25\n",
      "36\n",
      "49\n",
      "64\n",
      "81\n"
     ]
    }
   ],
   "source": [
    "def my_map(func, collection):\n",
    "    for elem in collection:\n",
    "        yield func(elem)\n",
    "        \n",
    "        \n",
    "lst = [i for i in range(10)]\n",
    "lst2 = map(lambda x: x ** 2, lst)\n",
    "for i in lst2:\n",
    "    print(i)"
   ]
  },
  {
   "cell_type": "markdown",
   "id": "1cb4c256",
   "metadata": {},
   "source": [
    "## Декоратор"
   ]
  },
  {
   "cell_type": "code",
   "execution_count": 114,
   "id": "7af3b6b3",
   "metadata": {},
   "outputs": [
    {
     "name": "stdout",
     "output_type": "stream",
     "text": [
      "9\n",
      "24\n"
     ]
    }
   ],
   "source": [
    "def output(a, b, c):\n",
    "    # print(\"INFO:\", a, b, c)\n",
    "    print(a + b + c)\n",
    "    return a * b * c\n",
    "\n",
    "print(output(2, 3, 4))"
   ]
  },
  {
   "cell_type": "code",
   "execution_count": 115,
   "id": "f210d9ff",
   "metadata": {},
   "outputs": [
    {
     "name": "stdout",
     "output_type": "stream",
     "text": [
      "INFO: 2 3 4\n",
      "9\n",
      "24\n"
     ]
    }
   ],
   "source": [
    "def new_func(a, b, c):\n",
    "        print(\"INFO:\", a, b, c)\n",
    "        ret_val = output(a, b, c)\n",
    "        return ret_val\n",
    "    \n",
    "    \n",
    "print(new_func(2, 3, 4))"
   ]
  },
  {
   "cell_type": "code",
   "execution_count": 116,
   "id": "6bbce46c",
   "metadata": {},
   "outputs": [
    {
     "name": "stdout",
     "output_type": "stream",
     "text": [
      "INFO: 2 3 4\n",
      "9\n",
      "24\n"
     ]
    }
   ],
   "source": [
    "def decorate():\n",
    "    def new_func(a, b, c):\n",
    "        print(\"INFO:\", a, b, c)\n",
    "        ret_val = output(a, b, c)\n",
    "        return ret_val\n",
    "    return new_func\n",
    "    \n",
    "    \n",
    "    \n",
    "d = decorate()\n",
    "print(d(2, 3, 4))"
   ]
  },
  {
   "cell_type": "code",
   "execution_count": 126,
   "id": "ee448c8b",
   "metadata": {},
   "outputs": [
    {
     "name": "stdout",
     "output_type": "stream",
     "text": [
      "INFO: 2 3 4\n",
      "9\n",
      "24\n"
     ]
    }
   ],
   "source": [
    "def output(a, b, c):\n",
    "    print(a + b + c)\n",
    "    return a * b * c\n",
    "\n",
    "\n",
    "\n",
    "def decorate(func):\n",
    "    def new_func(a, b, c):\n",
    "        print(\"INFO:\", a, b, c)\n",
    "        ret_val = func(a, b, c)\n",
    "        return ret_val\n",
    "    return new_func\n",
    "    \n",
    "    \n",
    "    \n",
    "\n",
    "print(decorate(output)(2, 3, 4))"
   ]
  },
  {
   "cell_type": "code",
   "execution_count": 125,
   "id": "6a1d7f35",
   "metadata": {},
   "outputs": [
    {
     "name": "stdout",
     "output_type": "stream",
     "text": [
      "INFO: 2 3 4\n",
      "9\n",
      "24\n"
     ]
    }
   ],
   "source": [
    "@decorate\n",
    "def output(a, b, c):\n",
    "    print(a + b + c)\n",
    "    return a * b * c\n",
    "\n",
    "print(output(2, 3, 4))"
   ]
  },
  {
   "cell_type": "code",
   "execution_count": null,
   "id": "64ceafbc",
   "metadata": {},
   "outputs": [],
   "source": []
  },
  {
   "cell_type": "code",
   "execution_count": null,
   "id": "0c25ff23",
   "metadata": {},
   "outputs": [],
   "source": []
  }
 ],
 "metadata": {
  "kernelspec": {
   "display_name": "Python 3 (ipykernel)",
   "language": "python",
   "name": "python3"
  },
  "language_info": {
   "codemirror_mode": {
    "name": "ipython",
    "version": 3
   },
   "file_extension": ".py",
   "mimetype": "text/x-python",
   "name": "python",
   "nbconvert_exporter": "python",
   "pygments_lexer": "ipython3",
   "version": "3.11.3"
  }
 },
 "nbformat": 4,
 "nbformat_minor": 5
}
