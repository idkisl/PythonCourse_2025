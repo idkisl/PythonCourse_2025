{
 "cells": [
  {
   "cell_type": "markdown",
   "id": "9caf71a9",
   "metadata": {},
   "source": [
    "## Лекция 3\n",
    "### Функции \n",
    "- определение\n",
    "- множественные аргументы\n",
    "- именнованные аргументы\n",
    "- рекурсия\n",
    "- генераторы\n",
    "- итераторы\n",
    "- функции высших порядков\n",
    "- декораторы\n",
    "\n",
    "Лекция прочитана Иваном Кисляковым. Разрешено к использованию в некоммерческих образовательных целях. "
   ]
  },
  {
   "cell_type": "code",
   "execution_count": null,
   "id": "44bcf97f",
   "metadata": {},
   "outputs": [],
   "source": []
  }
 ],
 "metadata": {
  "kernelspec": {
   "display_name": "Python 3 (ipykernel)",
   "language": "python",
   "name": "python3"
  },
  "language_info": {
   "codemirror_mode": {
    "name": "ipython",
    "version": 3
   },
   "file_extension": ".py",
   "mimetype": "text/x-python",
   "name": "python",
   "nbconvert_exporter": "python",
   "pygments_lexer": "ipython3",
   "version": "3.10.13"
  }
 },
 "nbformat": 4,
 "nbformat_minor": 5
}
