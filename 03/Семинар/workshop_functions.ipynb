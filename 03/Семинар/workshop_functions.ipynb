{
 "cells": [
  {
   "cell_type": "markdown",
   "id": "93c85cd8",
   "metadata": {},
   "source": [
    "# Семинар 3. Функции"
   ]
  },
  {
   "cell_type": "markdown",
   "id": "693b2c30",
   "metadata": {},
   "source": [
    "Семинар собран Иваном Кисляковым. Разрешено к использованию в некоммерческих образовательных целях с указанием авторства.\n",
    "\n",
    "Вопросы и замечания можно отправлять по адресу mipt-dpo@yandex.ru"
   ]
  },
  {
   "cell_type": "markdown",
   "id": "4e6a5ad2",
   "metadata": {},
   "source": [
    "## Объявление функции. Принимаемые и возвращаемые данные. Область видимости. global."
   ]
  },
  {
   "cell_type": "markdown",
   "id": "f426f24d",
   "metadata": {},
   "source": [
    "#### Задание 1\n",
    "1. Напишите функцию с названием apple, выводящую на экран слово \"Яблоко вкусное!\"\n",
    "2. Напишите функцию с именем make_cube, которая вводит одно значение - целое число, а выводит на экран куб этого числа.\n",
    "3. Напишите функцию, которая считывает список чисел и возвращает наибольшее из них, кратное 5."
   ]
  },
  {
   "cell_type": "code",
   "execution_count": null,
   "id": "ccf703b5",
   "metadata": {},
   "outputs": [],
   "source": [
    "# 1.1\n",
    "\n",
    "# 1.2\n",
    "\n",
    "# 1.3"
   ]
  },
  {
   "cell_type": "markdown",
   "id": "b268eb6a",
   "metadata": {},
   "source": [
    "#### Задание 2\n",
    "1. Напишите фнкцию, получающую на вход два числа и печатающее на экран результат их перемножения.\n",
    "2. Напишите функцию, которая получает на вход список чисел и печатает на экран наибольшее из них, кратное 5."
   ]
  },
  {
   "cell_type": "code",
   "execution_count": null,
   "id": "eff084bd",
   "metadata": {},
   "outputs": [],
   "source": [
    "# 2.1\n",
    "\n",
    "# 2.2"
   ]
  },
  {
   "cell_type": "markdown",
   "id": "370e9d37",
   "metadata": {},
   "source": [
    "#### Задание 3\n",
    "Функция принимает список чисел на вход. Затем возводит каждое из этих чисел в квадрат, полученный список выводит на экран.\n",
    "\n",
    "**Проэкспериментируйте** с методами создания / изменения списка. Посмотрите, изменится ли первоначально созданный список или нет. Почему это происходит?"
   ]
  },
  {
   "cell_type": "code",
   "execution_count": null,
   "id": "4537ed15",
   "metadata": {},
   "outputs": [],
   "source": [
    "# 3"
   ]
  },
  {
   "cell_type": "markdown",
   "id": "6a18de87",
   "metadata": {},
   "source": [
    "#### Задание 4\n",
    "Напишите функцию, принимающаю три аргумента и **возвращающую** максимальное значение из трех принятых."
   ]
  },
  {
   "cell_type": "code",
   "execution_count": null,
   "id": "3014c8f5",
   "metadata": {},
   "outputs": [],
   "source": [
    "# 4"
   ]
  },
  {
   "cell_type": "markdown",
   "id": "6ab10713",
   "metadata": {},
   "source": [
    "#### Задание 5\n",
    "Напишите функцию, являющуюся аналогом метода join. Функция принимает аргумент sep и аргумент data (список строк). Функция должна возвращать одну строку - данные из data, соединенные вместе разделителем sep."
   ]
  },
  {
   "cell_type": "code",
   "execution_count": null,
   "id": "df2f89b7",
   "metadata": {},
   "outputs": [],
   "source": [
    "# 5"
   ]
  },
  {
   "cell_type": "markdown",
   "id": "3d84f148",
   "metadata": {},
   "source": [
    "#### Задание 6\n",
    "1. Напишите функцию swap(), принимающую на вход список из двух чисел. Функция должна вернуть список, в котором элементы поменялись местами. (При этом изначальная коллекция не должна измениться)\n",
    "2. Напишите функцию swap(), принимающую на вход tuple из двух чисел. Функция должна вернуть tuple, в котором элементы поменялись местами.(При этом изначальная коллекция не должна измениться)\n",
    "3. Напишите функцию swap(), принимающую на вход список из двух чисел. Функция должна изменить список, сделать так, чтобы элементы поменялись местами. (При этом изначальная коллекция должна измениться)\n",
    "4. Напишите функцию swap(), принимающую на вход tuple из двух чисел. Функция должна 'изменить' tuple, сделать так, чтобы элементы поменялись местами. (При этом изначальная коллекция должна измениться)"
   ]
  },
  {
   "cell_type": "code",
   "execution_count": null,
   "id": "2a5234c2",
   "metadata": {},
   "outputs": [],
   "source": [
    "# 6.1\n",
    "\n",
    "# 6.2\n",
    "\n",
    "# 6.3\n",
    "\n",
    "# 6.4"
   ]
  },
  {
   "cell_type": "markdown",
   "id": "09fd9153",
   "metadata": {},
   "source": [
    "#### Задание 7\n",
    "Напишите функцию input\\_values(), принимающую на вход числа, записанные в строчку\n",
    "через пробел и возвращающую список чисел."
   ]
  },
  {
   "cell_type": "code",
   "execution_count": null,
   "id": "6f95e688",
   "metadata": {},
   "outputs": [],
   "source": [
    "# 7"
   ]
  },
  {
   "cell_type": "markdown",
   "id": "a111fb9a",
   "metadata": {},
   "source": [
    "## Переменное число аргументов функции"
   ]
  },
  {
   "cell_type": "markdown",
   "id": "76eab30f",
   "metadata": {},
   "source": [
    "#### Задание 8\n",
    "1. Функция принимает три обязательных, остальные необязательные аргументы. Выведите все аргументы через ', '. Как избавиться от последного лишнего символа?\n",
    "2. Напишите функцию, принимающую неизвестное число неименованных арументов. Верните аргументы в виде строки, записанные в обратном порядке.\n",
    "3. Напишите функцию summ, которая считает сумму элементов с накоплением. Функция принимает неизвестное число аргументов, а возвращает список, в котором первый элемент равен нулю, следующий хранит в себе сумму всех предыдущих и себя и тд.\n",
    "4. Напишите функцию to_string, которая делает из последовательности аргументов функции строку. Функция принимает:\n",
    "    * неопределённое количество данных;\n",
    "    * необязательный параметр sep (по умолчанию пробел);\n",
    "    * необязательный параметр end (по умолчанию \\n).\n",
    "5. Реализуйте базовый набор функций разведчика. Функцию шифрования, принимающую набор слов (неименованные аргументы) и правила шифрования букв (именованные аргументы). Функция возвращает список зашифрованных слов.\n",
    "6. Реализуйте базовый набор функций дешифровальщика. Функцию дешифрования, принимающую набор слов (неименованные аргументы) и правила **шифрования букв** (именованные аргументы). Функция возвращает список расшифрованных слов."
   ]
  },
  {
   "cell_type": "code",
   "execution_count": null,
   "id": "ad64107e",
   "metadata": {},
   "outputs": [],
   "source": [
    "# 8.1"
   ]
  },
  {
   "cell_type": "code",
   "execution_count": null,
   "id": "a87916c5",
   "metadata": {},
   "outputs": [],
   "source": [
    "# 8.2"
   ]
  },
  {
   "cell_type": "code",
   "execution_count": null,
   "id": "a6936b07",
   "metadata": {},
   "outputs": [],
   "source": [
    "# 8.3"
   ]
  },
  {
   "cell_type": "code",
   "execution_count": null,
   "id": "0bd478e9",
   "metadata": {},
   "outputs": [],
   "source": [
    "# 8.4"
   ]
  },
  {
   "cell_type": "code",
   "execution_count": null,
   "id": "c5724945",
   "metadata": {},
   "outputs": [],
   "source": [
    "# 8.5"
   ]
  },
  {
   "cell_type": "code",
   "execution_count": null,
   "id": "ddf1b570",
   "metadata": {},
   "outputs": [],
   "source": [
    "# 8.6"
   ]
  },
  {
   "cell_type": "markdown",
   "id": "959035d0",
   "metadata": {},
   "source": [
    "## Функции высших порядков"
   ]
  },
  {
   "cell_type": "markdown",
   "id": "8f95e9a5",
   "metadata": {},
   "source": [
    "#### Задание 9\n",
    "\n",
    "Переопределите print и input, чтобы они поменялись своим функционалом"
   ]
  },
  {
   "cell_type": "code",
   "execution_count": null,
   "id": "714c8fd6",
   "metadata": {},
   "outputs": [],
   "source": [
    "# 9"
   ]
  },
  {
   "cell_type": "markdown",
   "id": "786cae60",
   "metadata": {},
   "source": [
    "#### Задание 10\n",
    "1. Напишите функцию my_filter реализующую функционал filter.\n",
    "2. Напишите функцию my_map реализующую функционал map."
   ]
  },
  {
   "cell_type": "code",
   "execution_count": null,
   "id": "bb4d5390",
   "metadata": {},
   "outputs": [],
   "source": [
    "# 10.1"
   ]
  },
  {
   "cell_type": "code",
   "execution_count": null,
   "id": "ed6e5a04",
   "metadata": {},
   "outputs": [],
   "source": [
    "# 10.2"
   ]
  },
  {
   "cell_type": "markdown",
   "id": "692524b6",
   "metadata": {},
   "source": [
    "#### Задание 11\n",
    "Напишите функцию pow, которая создает возвращает новую функцию.\n",
    "\n",
    "Функционал ее должен быть таков: функция pow принимает один аргумент, например 3. Тогда новосозданная функция должна реализовывать функционал возведения в третью степень. Пример:\n",
    "```\n",
    "make_cube = pow(3)\n",
    "print(make_cube(2)) # 8\n",
    "print(make_cube(3)) # 27\n",
    "\n",
    "make_square = pow(2)\n",
    "print(make_square(5)) # 25\n",
    "```"
   ]
  },
  {
   "cell_type": "code",
   "execution_count": null,
   "id": "17309782",
   "metadata": {},
   "outputs": [],
   "source": [
    "# 11"
   ]
  },
  {
   "cell_type": "markdown",
   "id": "9087927e",
   "metadata": {},
   "source": [
    "#### Задание 12\n",
    "1. Среди элементов списка, меньших 100 или больших 1000, но кратных 5, на экран выведите кубы этих чисел.\n",
    "2. На экран выведите только те элементы списка, которые начинаются на букву 'a'\n",
    "3. Среди списка строк найдите самую большую в лексикографическом порядке и выведите ее.\n",
    "4. Среди списка строк найдите самую большую по длине и выведите ее.\n",
    "5. Найдите минамальную строку в списке. При этом строка a меньше строки b, если длина первой строки меньше. Если же они равны по длине, строки сравниваются в лексикографическом порядке."
   ]
  },
  {
   "cell_type": "code",
   "execution_count": null,
   "id": "1ad13e39",
   "metadata": {},
   "outputs": [],
   "source": [
    "# 12.1"
   ]
  },
  {
   "cell_type": "code",
   "execution_count": null,
   "id": "5b3d92b3",
   "metadata": {},
   "outputs": [],
   "source": [
    "# 12.2"
   ]
  },
  {
   "cell_type": "code",
   "execution_count": null,
   "id": "1f6707fe",
   "metadata": {},
   "outputs": [],
   "source": [
    "# 12.3"
   ]
  },
  {
   "cell_type": "code",
   "execution_count": null,
   "id": "ea713cbe",
   "metadata": {},
   "outputs": [],
   "source": [
    "# 12.4"
   ]
  },
  {
   "cell_type": "code",
   "execution_count": null,
   "id": "024d617f",
   "metadata": {},
   "outputs": [],
   "source": [
    "# 12.5"
   ]
  },
  {
   "cell_type": "markdown",
   "id": "4f6f33f4",
   "metadata": {},
   "source": [
    "#### Задание 13\n",
    "1. Отсортируйте список чисел по возрастанию и по убыванию. Воспользуйтесь функцией sorted.\n",
    "2. Отсортируйте список чисел по возрастанию количества цифр в числе. Воспользуйтесь функцией sorted.\n",
    "3. Найдите наибольшее число в списке, которое кратко 6.\n",
    "4. Найдите в списке число, оканчивающеся на цифру 2, квадрат которого является наибольшим среди всех."
   ]
  },
  {
   "cell_type": "code",
   "execution_count": null,
   "id": "9c9a3546",
   "metadata": {},
   "outputs": [],
   "source": [
    "# 13.1"
   ]
  },
  {
   "cell_type": "code",
   "execution_count": null,
   "id": "88f17d6c",
   "metadata": {},
   "outputs": [],
   "source": [
    "# 13.2"
   ]
  },
  {
   "cell_type": "code",
   "execution_count": null,
   "id": "0e008da7",
   "metadata": {},
   "outputs": [],
   "source": [
    "# 13.3"
   ]
  },
  {
   "cell_type": "code",
   "execution_count": null,
   "id": "3efd4586",
   "metadata": {},
   "outputs": [],
   "source": [
    "# 13.4"
   ]
  },
  {
   "cell_type": "markdown",
   "id": "b38fd61e",
   "metadata": {},
   "source": [
    "#### Задание 14\n",
    "1. Напишите функцию-генератор чисел, от 0 до 10.\n",
    "2. Напишите функцию, генерирующие числа в промежутке от n до m\n",
    "3. Напишите функцию, генерирующую числа Фибоначчи, не большие числа N.\n",
    "4. Напишите функцию, генерирующую простые числа, меньшие N (реализация простой проверкой, не решетом Эратосфена).\n",
    "5. Напишите генератор строк, где каждая следующая строка будет состоять большего числа букв и оканчиваться на букву, следующую в алфавите. Воспользуйтесь ord() и chr()"
   ]
  },
  {
   "cell_type": "code",
   "execution_count": null,
   "id": "8d24e5b2",
   "metadata": {},
   "outputs": [],
   "source": [
    "# 14.1"
   ]
  },
  {
   "cell_type": "code",
   "execution_count": null,
   "id": "e74d15eb",
   "metadata": {},
   "outputs": [],
   "source": [
    "# 14.2"
   ]
  },
  {
   "cell_type": "code",
   "execution_count": null,
   "id": "33d89ad9",
   "metadata": {},
   "outputs": [],
   "source": [
    "# 14.3"
   ]
  },
  {
   "cell_type": "code",
   "execution_count": null,
   "id": "71ff39d7",
   "metadata": {},
   "outputs": [],
   "source": [
    "# 14.4"
   ]
  },
  {
   "cell_type": "code",
   "execution_count": null,
   "id": "960318bd",
   "metadata": {},
   "outputs": [],
   "source": [
    "# 14.5"
   ]
  },
  {
   "cell_type": "markdown",
   "id": "55bc5c5d",
   "metadata": {},
   "source": [
    "## Декораторы"
   ]
  },
  {
   "cell_type": "markdown",
   "id": "1b8a342e",
   "metadata": {},
   "source": [
    "#### Задание 15\n",
    "Разберитесь, что делает функция-декоратор ниже:\n",
    "\n",
    "\n",
    "```\n",
    "def wrapper(func):\n",
    "    def new_func(*args):\n",
    "        print(\"Вошли в декоратор\")\n",
    "        print(args)\n",
    "        return_values = func(*args)\n",
    "        print(return_values)\n",
    "        return return_values\n",
    "    return new_func\n",
    "    \n",
    "    \n",
    "# применение:\n",
    "@wrapper\n",
    "def hello(a, b):\n",
    "    print(\"hello\", a, b)\n",
    "    return a + b\n",
    "    \n",
    "hello(\"Ivan\", \"Maria\")\n",
    "```"
   ]
  },
  {
   "cell_type": "code",
   "execution_count": null,
   "id": "2b93600d",
   "metadata": {},
   "outputs": [],
   "source": []
  },
  {
   "cell_type": "markdown",
   "id": "d8527dca",
   "metadata": {},
   "source": [
    "#### Задание 16\n",
    "Напишите декоратор logging для функций всех видов, занимающийся базовым логгированием данных - то есть выводил на экран все принимаемые и возвращаемые аргументы задекорированной функции."
   ]
  },
  {
   "cell_type": "code",
   "execution_count": null,
   "id": "50d1c7ab",
   "metadata": {},
   "outputs": [],
   "source": [
    "# 16"
   ]
  },
  {
   "cell_type": "markdown",
   "id": "a670e6f1",
   "metadata": {},
   "source": [
    "#### Задание 17\n",
    "Создай декоратор cache, который сохраняет результат функции и возвращает его при повторных вызовах с теми же аргументами.\n",
    "\n",
    "Пример использования:\n",
    "```\n",
    "@cache\n",
    "def slow_function(x):\n",
    "    print(\"Идут вычисления\")\n",
    "    return x * 2\n",
    "\n",
    "print(slow_function(5))  # Выполняются вычисления\n",
    "print(slow_function(5))  # Возвращает результат мгновенно (не выведется на экран фраза \"Идут вычисления\")\n",
    "```"
   ]
  },
  {
   "cell_type": "code",
   "execution_count": null,
   "id": "83225fb3",
   "metadata": {},
   "outputs": [],
   "source": [
    "# 17"
   ]
  },
  {
   "cell_type": "markdown",
   "id": "7ee7dc4f",
   "metadata": {},
   "source": [
    "#### Задание 18\n",
    "Напиши декоратор limit_calls(max_calls), который ограничивает количество вызовов функции. После превышения лимита нужно выводить сообщение.\n",
    "\n",
    "Пример использования:\n",
    "```\n",
    "@limit_calls(max_calls=3)\n",
    "def say_hello():\n",
    "    print(\"Hello!\")\n",
    "\n",
    "say_hello()  # \"Hello!\"\n",
    "say_hello()  # \"Hello!\"\n",
    "say_hello()  # \"Hello!\"\n",
    "say_hello()  # \"Превышено максимальное количество вызовов!\"\n",
    "```"
   ]
  },
  {
   "cell_type": "code",
   "execution_count": null,
   "id": "0282f338",
   "metadata": {},
   "outputs": [],
   "source": [
    "# 18"
   ]
  }
 ],
 "metadata": {
  "kernelspec": {
   "display_name": "Python 3 (ipykernel)",
   "language": "python",
   "name": "python3"
  },
  "language_info": {
   "codemirror_mode": {
    "name": "ipython",
    "version": 3
   },
   "file_extension": ".py",
   "mimetype": "text/x-python",
   "name": "python",
   "nbconvert_exporter": "python",
   "pygments_lexer": "ipython3",
   "version": "3.10.13"
  }
 },
 "nbformat": 4,
 "nbformat_minor": 5
}
