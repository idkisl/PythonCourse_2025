{
 "cells": [
  {
   "cell_type": "markdown",
   "id": "277ed97a",
   "metadata": {},
   "source": [
    "Туториал https://matplotlib.org/stable/tutorials/\n",
    "\n",
    "\n",
    "Основной модуль для работы с графиками pyplot.\n",
    "\n",
    "Основные объекты с которыми приходится работать при построении графиков: `fig`, `ax`. \n",
    "\n",
    "\n",
    "* `fig`\n",
    "  * `fig` - это окно или холст, на котором размещаются графики.\n",
    "  * На одном окне, могут быть отрисовны несколько графиков \n",
    "  * Документация: [fig](https://matplotlib.org/stable/api/figure_api.html#matplotlib.figure.Figure)\n",
    "\n",
    "* `ax`\n",
    "  * `ax` - это область внутри фигуры, где строится конкретный график (с осями X и Y)\n",
    "  * На одной фигуре может быть несколько таких областей.\n",
    "  * Часто говорят: Figure = всё окно, Axes = отдельный график внутри окна.\n",
    "  * Документация: [ax](https://matplotlib.org/stable/api/axes_api.html#matplotlib.axes.Axes)\n",
    "\n",
    "  "
   ]
  },
  {
   "cell_type": "markdown",
   "id": "d88d0b60",
   "metadata": {},
   "source": [
    "\n",
    "\n",
    "Пара слов о `pyplot`:\n",
    "\n",
    "`pyplot` умеет рисовать только в \"текущие\" `fig`, `ax` (`plt.gcf()`, `plt.gca()` - get current figure, get current axes).\n",
    "Переключать \"текущие\" `fig`, `ax` с одних на другие можно с помощью `plt.subplot` (не путать с `plt.subplots`!)."
   ]
  },
  {
   "cell_type": "markdown",
   "id": "0e969ccf",
   "metadata": {},
   "source": [
    "---\n",
    "# Задания на базовые объекты и классическую функцию plot\n",
    "\n",
    "\n",
    "## Задание 1:\n",
    "Создайте объекты fig, ax и выведи их"
   ]
  },
  {
   "cell_type": "code",
   "execution_count": null,
   "id": "47aa23f4",
   "metadata": {
    "vscode": {
     "languageId": "ini"
    }
   },
   "outputs": [],
   "source": [
    "## PASTE YOUR CODE HERE"
   ]
  },
  {
   "cell_type": "markdown",
   "id": "217dffdc",
   "metadata": {},
   "source": [
    "Классическая функция, которая строит привычный график `x versus y`. В самом графике можно задавать тип отрисовки: непрерывной линией, отрисовывать только точки, прерывестые линии, и т.д.\n",
    "\n",
    "Ознакомиться с документацией функции можно по ссылке: [plot](https://matplotlib.org/stable/plot_types/basic/plot.html#sphx-glr-plot-types-basic-plot-py)\n",
    "\n",
    "\n",
    "## Задание 2:\n",
    "Постройте график линейной функции: $y=2x+1$, где $x \\in (0,5)$"
   ]
  },
  {
   "cell_type": "code",
   "execution_count": null,
   "id": "31b0d9f0",
   "metadata": {
    "vscode": {
     "languageId": "ini"
    }
   },
   "outputs": [],
   "source": [
    "## PASTE YOUR CODE HERE"
   ]
  },
  {
   "cell_type": "markdown",
   "id": "05fb92d1",
   "metadata": {},
   "source": [
    "На построенные графики можно добавлять множество объектов. Основные из них: `title`(заголовок), `legend`(легенда), `xlabel`, `ylabel`(подписи к осям), `grid`(сетка для изображения), и многое другое\n",
    "\n",
    "Подробнее:\n",
    "https://matplotlib.org/stable/tutorials/text/text_intro.html"
   ]
  },
  {
   "cell_type": "markdown",
   "id": "ab4f7e74",
   "metadata": {},
   "source": [
    "## Задание 3:\n",
    "Добавьте к графику из прошлого задания, график второй функции: $y=x^2$, где $x \\in (-5, 5)$"
   ]
  },
  {
   "cell_type": "code",
   "execution_count": null,
   "id": "bd17c547",
   "metadata": {
    "vscode": {
     "languageId": "ini"
    }
   },
   "outputs": [],
   "source": [
    "## PASTE YOUR CODE HERE"
   ]
  },
  {
   "cell_type": "markdown",
   "id": "b705dc7b",
   "metadata": {},
   "source": [
    "## Задание 4:\n",
    "\n",
    "К прошлому графику добавьте заголовок, легенду, подписи для осей и сетку"
   ]
  },
  {
   "cell_type": "code",
   "execution_count": null,
   "id": "3fc72361",
   "metadata": {
    "vscode": {
     "languageId": "ini"
    }
   },
   "outputs": [],
   "source": [
    "## PASTE YOUR CODE HERE"
   ]
  },
  {
   "cell_type": "markdown",
   "id": "fb586e72",
   "metadata": {},
   "source": [
    "## Задание 5:\n",
    "На одном графики постройте две функции: $y=sin(x)$, $y=cos(x)$, где $x \\in (0, 2\\pi)$; \n",
    "График функции синус нарисуйте прерывистыми линями. Добавьте заголовок и легенду"
   ]
  },
  {
   "cell_type": "code",
   "execution_count": null,
   "id": "a8ea4cf8",
   "metadata": {
    "vscode": {
     "languageId": "ini"
    }
   },
   "outputs": [],
   "source": [
    "## PASTE YOUR CODE HERE"
   ]
  },
  {
   "cell_type": "markdown",
   "id": "527e8d2c",
   "metadata": {},
   "source": [
    "Также, можно и менять цвет у имеющихся окон и осей, добавлять аннотации к интересующим точкам. Например, можно явно стрелочкой указать, что точка является точкой максимума\n",
    "\n",
    "Документация по работе с фоновым цветом у `figure`: [figure](https://matplotlib.org/stable/api/figure_api.html#matplotlib.figure.Figure)\n",
    "\n",
    "Документация по работе с фоновым цветом у `axes`: [ax](https://matplotlib.org/stable/api/axes_api.html#matplotlib.axes.Axes.set_facecolor)\n",
    "\n",
    "Документация по аннотации точек из туториала: [annotation](https://matplotlib.org/stable/tutorials/pyplot.html#annotating-text)\n",
    "\n",
    "Основная страничка по аннотации точек: [annotation main](https://matplotlib.org/stable/api/_as_gen/matplotlib.axes.Axes.annotate.html)\n"
   ]
  },
  {
   "cell_type": "markdown",
   "id": "53bcb066",
   "metadata": {},
   "source": [
    "## Задание 6:\n",
    "Помейяте цвет заднего фона на `lightgray` и фон области графика светло-желтым(`lightyellow`)"
   ]
  },
  {
   "cell_type": "code",
   "execution_count": null,
   "id": "fb84b600",
   "metadata": {
    "vscode": {
     "languageId": "ini"
    }
   },
   "outputs": [],
   "source": [
    "## PASTE YOUR CODE HERE"
   ]
  },
  {
   "cell_type": "markdown",
   "id": "99a2c744",
   "metadata": {},
   "source": [
    "## Задание 7\n",
    "На прошлом графике, найти локальный максимум функции `sin(x)` в точке $x=\\frac{\\pi}{2}$ и выделить его:\n",
    "\n",
    "  * отметить точку красным маркером ('ro')\n",
    "\n",
    "  * подписать её как \"локальный максимум\"\n",
    "\n",
    "  * добавить стрелку от подписи к точке."
   ]
  },
  {
   "cell_type": "code",
   "execution_count": null,
   "id": "5909dc97",
   "metadata": {
    "vscode": {
     "languageId": "ini"
    }
   },
   "outputs": [],
   "source": [
    "## PASTE YOUR CODE HERE"
   ]
  },
  {
   "cell_type": "markdown",
   "id": "bcd58a4f",
   "metadata": {},
   "source": [
    "# Другие варианты графиков: `scatterplot`, `histogram`, `bar chart`, `horizontal bar chart`"
   ]
  },
  {
   "cell_type": "markdown",
   "id": "8e16c4dc",
   "metadata": {},
   "source": [
    "## Задание 8\n",
    "Просимулируйте две выборки, первая из стандартного нормального распределения, а вторая из распределения Пуассона с параметром интенсивности $\\lambda$ равной 1 и по этим выборкам постройте `scatterplot`, который будет:\n",
    "  1. иметь задний фон `lightgray`\n",
    "  2. иметь соответствующий заголовок с размером шрифта 14\n",
    "  3. иметь легенду, чтобы можно было понять, где какая выборка\n",
    "  4. точки имели бы параметр прозрачности `0.7`, для того чтобы они не перекрывали друг друга\n",
    "  5. для первой выборки из стандартного нормального распределения, покрасьте точку максимума в желтый цвет, для второй точку максимума в фиолетовый\n",
    "  "
   ]
  },
  {
   "cell_type": "code",
   "execution_count": null,
   "id": "ab9ec955",
   "metadata": {
    "vscode": {
     "languageId": "ini"
    }
   },
   "outputs": [],
   "source": [
    "## PASTE YOUR CODE HERE"
   ]
  },
  {
   "cell_type": "code",
   "execution_count": null,
   "id": "282e9811",
   "metadata": {
    "vscode": {
     "languageId": "plaintext"
    }
   },
   "outputs": [],
   "source": []
  }
 ],
 "metadata": {
  "language_info": {
   "name": "python"
  }
 },
 "nbformat": 4,
 "nbformat_minor": 5
}
