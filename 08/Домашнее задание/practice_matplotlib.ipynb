{
 "cells": [
  {
   "cell_type": "markdown",
   "id": "f643af9f",
   "metadata": {},
   "source": [
    "# Лабораторная работа по изучению matplotlib"
   ]
  },
  {
   "cell_type": "markdown",
   "id": "e93c7652",
   "metadata": {},
   "source": [
    "Лабораторная работа собрана Иваном Кисляковым. Разрешено к использованию в некоммерческих образовательных целях с указанием авторства.\n",
    "\n",
    "Вопросы и замечания можно отправлять по адресу mipt-dpo@yandex.ru"
   ]
  },
  {
   "cell_type": "markdown",
   "id": "b34562aa",
   "metadata": {},
   "source": [
    "## Шаг 0.\n",
    "\n",
    "Импортируйте модуль numpy и matplotlib"
   ]
  },
  {
   "cell_type": "code",
   "execution_count": null,
   "id": "aac37e94",
   "metadata": {},
   "outputs": [],
   "source": []
  },
  {
   "cell_type": "markdown",
   "id": "39a98400",
   "metadata": {},
   "source": [
    "## Введение в графики"
   ]
  },
  {
   "cell_type": "markdown",
   "id": "87e9ccf7",
   "metadata": {},
   "source": [
    "#### Задание 1\n",
    "\n",
    "По точкам ```(1, 2); (2, 3); (3, 0); (4, 1)``` постройте график функции."
   ]
  },
  {
   "cell_type": "code",
   "execution_count": null,
   "id": "3b3304ee",
   "metadata": {},
   "outputs": [],
   "source": [
    "# 1"
   ]
  },
  {
   "cell_type": "markdown",
   "id": "d9cebf1e",
   "metadata": {},
   "source": [
    "#### Задание 2\n",
    "1. Создайте numpy массив ```x```, состоящий из 10 чисел, равномерно распределенных в диапазоне [0, 3]\n",
    "2. Вычислите значение функции $f(x) = x^2 - x$ на заданном диапазоне. Результат вычислений запишите в массив ```y```.\n",
    "3. Постройте график функции $f(x) = x^2 - x$."
   ]
  },
  {
   "cell_type": "code",
   "execution_count": null,
   "id": "dccf884b",
   "metadata": {},
   "outputs": [],
   "source": [
    "# 2.1\n",
    "\n",
    "# 2.2\n"
   ]
  },
  {
   "cell_type": "code",
   "execution_count": null,
   "id": "a3d6ea63",
   "metadata": {},
   "outputs": [],
   "source": [
    "# 2.3"
   ]
  },
  {
   "cell_type": "markdown",
   "id": "af03e9c5",
   "metadata": {},
   "source": [
    "#### Задание 3\n",
    "1. Создайте numpy массив x, состоящий из 100 чисел, равномерно распределенных в диапазоне $[0, \\pi]$.\n",
    "2. Вычислите значения функции $f(x) = sin(x)$ на диапазоне ```x```.\n",
    "3. Постройте график функции $f(x)$."
   ]
  },
  {
   "cell_type": "code",
   "execution_count": null,
   "id": "deae96c5",
   "metadata": {},
   "outputs": [],
   "source": [
    "# 3.1\n",
    "\n",
    "# 3.2\n",
    "\n",
    "# 3.3\n"
   ]
  },
  {
   "cell_type": "markdown",
   "id": "61ebc15a",
   "metadata": {},
   "source": [
    "#### Задание 4\n",
    "\n",
    "На одной координатной сетке постройте графики функций sin, cos, tg, ctg в диапазоне $[-2\\pi, \\pi]$. Выполните следующие требования:\n",
    "1. Все графики должны быть разного цвета.\n",
    "2. Присутствует легенда (какой цвет отвечает за график какой функции).\n",
    "3. Верно выбран и выписан заголовок.\n",
    "4. Подписаны оси (x и y).\n",
    "5. Есть сетка (grid).\n",
    "6. Размер графика (figsize=(6, 4)).\n",
    "\n",
    "PS: Везде далее необходимо соблюдать регламент, описанный выше за исключением figsize, который Вы подбираете самостоятельно исходя из размера экрана."
   ]
  },
  {
   "cell_type": "code",
   "execution_count": null,
   "id": "16197656",
   "metadata": {},
   "outputs": [],
   "source": [
    "# 4"
   ]
  },
  {
   "cell_type": "markdown",
   "id": "4666c3f4",
   "metadata": {},
   "source": [
    "#### Задание 5\n",
    "Найдите в интернете таблицу со среднемесячными значениями температуры за год в Вашем городе. Постройте график зависимости среднемесячной температуры от месяца."
   ]
  },
  {
   "cell_type": "code",
   "execution_count": null,
   "id": "a9806b2f",
   "metadata": {},
   "outputs": [],
   "source": [
    "# 5"
   ]
  },
  {
   "cell_type": "markdown",
   "id": "3145c95a",
   "metadata": {},
   "source": [
    "#### Задание 6\n",
    "Постройте графики функций со следующими характеристиками:\n",
    "1. Функция $y = 2x - 3$, цвет меток красный, соединяющей линии нет, сетки нет, метки круглые.\n",
    "2. Функция $y = 2x^2 - \\frac{1}{x}$, цвет меток зеленый, соединяющая линия есть, сетка есть, метки треугольные.\n",
    "3. Функция $y = x \\cdot sin(x)$, цвет меток желтый, соединяющая линия пунктирная, сетка есть, метки квадратные.\n",
    "4. функции $y = \\frac{1}{x}$ и $y = \\frac{-2}{x}$ в диапазоне $[0; 10]$. Закрасьте область между ними синим цветом с помощью ```fill_between```."
   ]
  },
  {
   "cell_type": "code",
   "execution_count": null,
   "id": "1e5a8435",
   "metadata": {},
   "outputs": [],
   "source": [
    "# 6.1"
   ]
  },
  {
   "cell_type": "code",
   "execution_count": null,
   "id": "20d9dbc9",
   "metadata": {},
   "outputs": [],
   "source": [
    "# 6.2"
   ]
  },
  {
   "cell_type": "code",
   "execution_count": null,
   "id": "908c56ed",
   "metadata": {},
   "outputs": [],
   "source": [
    "# 6.3"
   ]
  },
  {
   "cell_type": "code",
   "execution_count": null,
   "id": "6e26fde3",
   "metadata": {},
   "outputs": [],
   "source": [
    "# 6.4"
   ]
  },
  {
   "cell_type": "markdown",
   "id": "86512eec",
   "metadata": {},
   "source": [
    "#### Задание 7\n",
    "Создайте таблицу из четырех графиков - $ln(x)$; $e^x$; $\\frac{1}{x}$; $2^x$.\n",
    "\n",
    "Диапазон должен быть единым для графиков и выбран таким образом, чтобы все графики оставались информативными."
   ]
  },
  {
   "cell_type": "code",
   "execution_count": null,
   "id": "b7f2f434",
   "metadata": {},
   "outputs": [],
   "source": [
    "# "
   ]
  },
  {
   "cell_type": "markdown",
   "id": "4cdc7ac6",
   "metadata": {},
   "source": [
    "#### Задание 8\n",
    "Постройте столбчатую диаграмму, отображающую количество полученных оценок \"отлично\" в каждом из семестров студента Васи за время обучения в бакалавриате (4 года, 8 семестров). Данные об оценках Васи придумайте самостоятельно."
   ]
  },
  {
   "cell_type": "code",
   "execution_count": null,
   "id": "58b80d91",
   "metadata": {},
   "outputs": [],
   "source": [
    "# 8"
   ]
  },
  {
   "cell_type": "markdown",
   "id": "f8970ae3",
   "metadata": {},
   "source": [
    "#### Задание 9\n",
    "Найдите данные о содержании различных веществ в пончике и постройте круговую диаграму содержания веществ."
   ]
  },
  {
   "cell_type": "code",
   "execution_count": null,
   "id": "6c2d29aa",
   "metadata": {},
   "outputs": [],
   "source": [
    "# 9"
   ]
  },
  {
   "cell_type": "markdown",
   "id": "b15401ff",
   "metadata": {},
   "source": [
    "#### Задание 10\n",
    "Постройте график функции $f(x) = e^{2x^2}$ в логарифмечиском масштабе."
   ]
  },
  {
   "cell_type": "code",
   "execution_count": null,
   "id": "936a8f38",
   "metadata": {},
   "outputs": [],
   "source": [
    "# 10"
   ]
  },
  {
   "cell_type": "markdown",
   "id": "d42519ea",
   "metadata": {},
   "source": [
    "## Извлечение данных"
   ]
  },
  {
   "cell_type": "markdown",
   "id": "640cb030",
   "metadata": {},
   "source": [
    "Скачайте данные \"Students' Social Media Addiction\" в формате csv по [ссылке](https://www.kaggle.com/datasets/adilshamim8/social-media-addiction-vs-relationships).\n",
    "\n",
    "Используя библитотеку csv считайте данные из таблицы."
   ]
  },
  {
   "cell_type": "code",
   "execution_count": null,
   "id": "6bf23a31",
   "metadata": {},
   "outputs": [],
   "source": []
  },
  {
   "cell_type": "markdown",
   "id": "ddd0b4d3",
   "metadata": {},
   "source": [
    "Постройте столбчатую диаграму, отображающую отношение количества респондентов из разных стран. "
   ]
  },
  {
   "cell_type": "code",
   "execution_count": null,
   "id": "7af9b856",
   "metadata": {},
   "outputs": [],
   "source": []
  },
  {
   "cell_type": "markdown",
   "id": "73035e5c",
   "metadata": {},
   "source": [
    "Постройте круговую диаграму, показывающую отношение количества респонтов, использующих разные социальные сети."
   ]
  },
  {
   "cell_type": "code",
   "execution_count": null,
   "id": "71b917d0",
   "metadata": {},
   "outputs": [],
   "source": []
  },
  {
   "cell_type": "markdown",
   "id": "f5c3339c",
   "metadata": {},
   "source": [
    "Определите среднее время сна тех, кто находится в отношениях, кто не находится и тех, кто не определился (compicated). Результат выведите в качестве столбчатой диаграммы."
   ]
  },
  {
   "cell_type": "code",
   "execution_count": null,
   "id": "7c06913f",
   "metadata": {},
   "outputs": [],
   "source": []
  },
  {
   "cell_type": "markdown",
   "id": "531ab18a",
   "metadata": {},
   "source": [
    "Определите средний уровень конфликтов в социальных сетях в зависимости от возраста и пола. Постройте два графика: график конфликтности мужчин в зависимости от возраста и график конфликтности женщин в зависимости от возраста."
   ]
  },
  {
   "cell_type": "code",
   "execution_count": null,
   "id": "00068636",
   "metadata": {},
   "outputs": [],
   "source": []
  }
 ],
 "metadata": {
  "kernelspec": {
   "display_name": "Python 3 (ipykernel)",
   "language": "python",
   "name": "python3"
  },
  "language_info": {
   "codemirror_mode": {
    "name": "ipython",
    "version": 3
   },
   "file_extension": ".py",
   "mimetype": "text/x-python",
   "name": "python",
   "nbconvert_exporter": "python",
   "pygments_lexer": "ipython3",
   "version": "3.10.13"
  }
 },
 "nbformat": 4,
 "nbformat_minor": 5
}
