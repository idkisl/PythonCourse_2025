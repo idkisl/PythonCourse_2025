{
 "cells": [
  {
   "cell_type": "markdown",
   "id": "93c85cd8",
   "metadata": {},
   "source": [
    "# Лабораторная работа по изучению pandas"
   ]
  },
  {
   "cell_type": "markdown",
   "id": "693b2c30",
   "metadata": {},
   "source": [
    "Лабораторная работа собрана Иваном Кисляковым. Разрешено к использованию в некоммерческих образовательных целях с указанием авторства.\n",
    "\n",
    "Вопросы и замечания можно отправлять по адресу mipt-dpo@yandex.ru"
   ]
  },
  {
   "cell_type": "markdown",
   "id": "f5304a2b",
   "metadata": {},
   "source": [
    "## Шаг 0.\n",
    "\n",
    "Импортируйте модуль numpy, matplotlib и pandas"
   ]
  },
  {
   "cell_type": "code",
   "execution_count": null,
   "id": "432244ad",
   "metadata": {},
   "outputs": [],
   "source": []
  },
  {
   "cell_type": "markdown",
   "id": "4e6a5ad2",
   "metadata": {},
   "source": [
    "## Series"
   ]
  },
  {
   "cell_type": "markdown",
   "id": "f426f24d",
   "metadata": {},
   "source": [
    "#### Задание 1\n",
    "1. Создайте pd.Series ```names``` из списка имен ```[\"Ivan\", \"Natalia\", \"Eugen\", \"Ilia\", \"Anastasia\"]```.\n",
    "2. Создайте pd.Series ```series_exp``` из numpy массива, состоящего из экспонент цифр от 1 до 9."
   ]
  },
  {
   "cell_type": "code",
   "execution_count": null,
   "id": "ccf703b5",
   "metadata": {},
   "outputs": [],
   "source": [
    "# 1.1\n",
    "\n",
    "# 1.2"
   ]
  },
  {
   "cell_type": "markdown",
   "id": "b268eb6a",
   "metadata": {},
   "source": [
    "#### Задание 2\n",
    "1. Создайте Серию с оценками студентов с именами names. \n",
    "2. Проиндексируйте серию именами студентов.\n",
    "3. Тип данных оценок измените на ```uint8```."
   ]
  },
  {
   "cell_type": "code",
   "execution_count": null,
   "id": "eff084bd",
   "metadata": {},
   "outputs": [],
   "source": [
    "# 2.1\n",
    "\n",
    "# 2.2\n",
    "\n",
    "# 2.3"
   ]
  },
  {
   "cell_type": "markdown",
   "id": "370e9d37",
   "metadata": {},
   "source": [
    "#### Задание 3\n",
    "1. Создайте индексы - даты с помощью ```date_range```, на 10 дней.\n",
    "2. Создайте numpy array с десятью случайными значениями из диапазона $[-2\\pi, 2\\pi]$\n",
    "3. Создайте Серию, где даты - индексы, а случайные массив - значения.\n",
    "4. Примените ко всем значениям функцию $xsin(x)$.\n",
    "5. Выведите на экран Серию с указанием флага True - если значение в этот день положительное и False - иначе.\n",
    "6. Выведите на экран лишь те дни, когда значение было отрицательное."
   ]
  },
  {
   "cell_type": "code",
   "execution_count": null,
   "id": "4537ed15",
   "metadata": {},
   "outputs": [],
   "source": [
    "# 3.1\n",
    "\n",
    "# 3.2\n",
    "\n",
    "# 3.3\n",
    "\n",
    "# 3.4\n",
    "\n",
    "# 3.5\n",
    "\n",
    "# 3.6"
   ]
  },
  {
   "cell_type": "markdown",
   "id": "6a18de87",
   "metadata": {},
   "source": [
    "#### Задание 4\n",
    "Представим, что данные ниже содержат информацию о температуре за каждый из дней месяца мая 2025 года. Постройте график зависимости температуры от дня месяца. Обратите внимание, что дату можно сгенерировать с помощью ```date_range```."
   ]
  },
  {
   "cell_type": "code",
   "execution_count": null,
   "id": "3014c8f5",
   "metadata": {},
   "outputs": [],
   "source": [
    "temperature = pd.Series(np.random.randint(10, 20, 31))\n",
    "# 4"
   ]
  },
  {
   "cell_type": "markdown",
   "id": "6ab10713",
   "metadata": {},
   "source": [
    "#### Задание 5\n",
    "Из приведенного ниже json создайте Series.\n",
    "```\n",
    "{\n",
    "  \"empId\": \"EMP01\",\n",
    "  \"jobTitle\": \"Developer\",\n",
    "  \"firstName\": \"Shivang\",\n",
    "  \"lastName\": \"Yadav\",\n",
    "  \"fullName\": \"Shivang Yadav\",\n",
    "  \"address\": \"Indore, MP, India\",\n",
    "  \"age\": 31,\n",
    "  \"contact\": \"+91-9999999999\",\n",
    "  \"email\": \"shivang.yadavji@gmail.com\"\n",
    "}\n",
    "```"
   ]
  },
  {
   "cell_type": "code",
   "execution_count": null,
   "id": "df2f89b7",
   "metadata": {},
   "outputs": [],
   "source": [
    "# 5"
   ]
  },
  {
   "cell_type": "markdown",
   "id": "a111fb9a",
   "metadata": {},
   "source": [
    "## DataFrame"
   ]
  },
  {
   "cell_type": "markdown",
   "id": "81630e65",
   "metadata": {},
   "source": [
    "#### Задание 6\n",
    "1. Создайте словарь - таблица оценок учеников. Ключами являются строковые выражения, а значениями - оценки по предмету 8 учеников.\n",
    "2. Преобразуйте словарь в pd.DataFrame\n",
    "3. Выведите на экран первые 4 строки с помощию head()"
   ]
  },
  {
   "cell_type": "code",
   "execution_count": null,
   "id": "b899f135",
   "metadata": {},
   "outputs": [],
   "source": [
    "# 6.1\n",
    "\n",
    "# 6.2\n",
    "\n",
    "# 6.3"
   ]
  },
  {
   "cell_type": "markdown",
   "id": "d715b61d",
   "metadata": {},
   "source": [
    "#### Задание 7\n",
    "Скачайте [таблицу](https://www.kaggle.com/datasets/mazenramadan/imdb-most-popular-films-and-series) с данными лучших фильмов согласно рейтингу IMDB.\n",
    "\n",
    "1. Преобразуйте данные в DataFrame, выведите первые строчки на экран.\n",
    "2. Отсортируйте таблицу согласно количеству голосов (```votes```) по возрастанию. Выведите первые и последние пять строчек.\n",
    "3. Найдите количество фильмов или сериалов с длительностью не менее 120 минут, 2021 года выпуска.\n",
    "4. Найдите фильм среди приведенных с наибольшим рейтингом (если таких несколько, выберите тот, у кого больше голосов). Выведите на экран его название.\n",
    "5. Вычислите среднегодовые значения оценок фильмов (не сериалов) - для каждого года из таблицы.\n",
    "6. Постройте график со среднегодовыми значениями в зависимости от года."
   ]
  },
  {
   "cell_type": "code",
   "execution_count": null,
   "id": "f4afbae5",
   "metadata": {},
   "outputs": [],
   "source": [
    "# 7.1\n"
   ]
  },
  {
   "cell_type": "code",
   "execution_count": null,
   "id": "f5a23827",
   "metadata": {},
   "outputs": [],
   "source": [
    "# 7.2\n"
   ]
  },
  {
   "cell_type": "code",
   "execution_count": null,
   "id": "af208737",
   "metadata": {},
   "outputs": [],
   "source": [
    "# 7.3\n"
   ]
  },
  {
   "cell_type": "code",
   "execution_count": null,
   "id": "c72df180",
   "metadata": {},
   "outputs": [],
   "source": [
    "# 7.4\n"
   ]
  },
  {
   "cell_type": "code",
   "execution_count": null,
   "id": "dc9704a3",
   "metadata": {},
   "outputs": [],
   "source": [
    "# 7.5\n"
   ]
  },
  {
   "cell_type": "code",
   "execution_count": null,
   "id": "316101d6",
   "metadata": {},
   "outputs": [],
   "source": [
    "# 7.6\n"
   ]
  }
 ],
 "metadata": {
  "kernelspec": {
   "display_name": "Python 3 (ipykernel)",
   "language": "python",
   "name": "python3"
  },
  "language_info": {
   "codemirror_mode": {
    "name": "ipython",
    "version": 3
   },
   "file_extension": ".py",
   "mimetype": "text/x-python",
   "name": "python",
   "nbconvert_exporter": "python",
   "pygments_lexer": "ipython3",
   "version": "3.10.13"
  }
 },
 "nbformat": 4,
 "nbformat_minor": 5
}
