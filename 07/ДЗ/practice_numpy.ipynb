{
 "cells": [
  {
   "cell_type": "markdown",
   "id": "3d354c4d",
   "metadata": {},
   "source": [
    "# Лабораторная работа по изучению numpy"
   ]
  },
  {
   "cell_type": "markdown",
   "id": "7e484191",
   "metadata": {},
   "source": [
    "Лабораторная работа собрана Иваном Кисляковым. Разрешено к использованию в некоммерческих образовательных целях с указанием авторства.\n",
    "\n",
    "Вопросы и замечания можно отправлять по адресу mipt-dpo@yandex.ru"
   ]
  },
  {
   "cell_type": "markdown",
   "id": "64e60892",
   "metadata": {},
   "source": [
    "## Шаг 0.\n",
    "\n",
    "Импортируйте модуль numpy"
   ]
  },
  {
   "cell_type": "code",
   "execution_count": null,
   "id": "20ebcf96",
   "metadata": {},
   "outputs": [],
   "source": []
  },
  {
   "cell_type": "markdown",
   "id": "13de267a",
   "metadata": {},
   "source": [
    "## Создание массивов и типы данных"
   ]
  },
  {
   "cell_type": "markdown",
   "id": "bce6e0ef",
   "metadata": {},
   "source": [
    "#### Задание 1\n",
    "Создайте NumPy array\n",
    "\n",
    "1. С именем array_1, состоящий из тридцати чисел от 0 до 29.\n",
    "2. С именем array_2, состоящий из тридцати чисел от равномерно распределенных от 0 до 105. \n",
    "3. С именем array_3, состоящий из тридцати случайных чисел с целыми значениями из диапазона [5, 25].\n",
    "4. С именем zeros, состоящий из двадцати нулей.\n",
    "5. С именем ones, состоящий из двадцати единиц.\n",
    "6. С именем names, состоящий из списка names_lst, приведенного ниже.\n",
    "\n",
    "Обратите внимание, что необходимо использовать стандартные функции для создания массивов."
   ]
  },
  {
   "cell_type": "code",
   "execution_count": null,
   "id": "eff0fb6a",
   "metadata": {},
   "outputs": [],
   "source": [
    "# 1.1"
   ]
  },
  {
   "cell_type": "code",
   "execution_count": null,
   "id": "22deac49",
   "metadata": {},
   "outputs": [],
   "source": [
    "# 1.2"
   ]
  },
  {
   "cell_type": "code",
   "execution_count": null,
   "id": "d61a61a5",
   "metadata": {},
   "outputs": [],
   "source": [
    "# 1.3"
   ]
  },
  {
   "cell_type": "code",
   "execution_count": null,
   "id": "7903afb6",
   "metadata": {},
   "outputs": [],
   "source": [
    "# 1.4"
   ]
  },
  {
   "cell_type": "code",
   "execution_count": null,
   "id": "8c474e83",
   "metadata": {},
   "outputs": [],
   "source": [
    "# 1.5"
   ]
  },
  {
   "cell_type": "code",
   "execution_count": null,
   "id": "300c4532",
   "metadata": {},
   "outputs": [],
   "source": [
    "# 1.6\n",
    "names_lst = [\"Ivan\", \"Eugen\", \"Maria\", \"Anastasia\", \"Alex\"]"
   ]
  },
  {
   "cell_type": "markdown",
   "id": "062279ef",
   "metadata": {},
   "source": [
    "#### Задание 2\n",
    "1. Определите тип данных элементов массива, размерность и количество элементов. Выведите результат для каждого из вышесозданных массивов на экран.\n",
    "2. Поменяйте тип данных элементов массива array_2 на ```U6``` и выведите его на экран.\n",
    "3. Поменяйте тип данных элементов массива array_1 на ```uint8``` и выведите его на экран."
   ]
  },
  {
   "cell_type": "code",
   "execution_count": null,
   "id": "ade6e3fb",
   "metadata": {},
   "outputs": [],
   "source": [
    "# 2.1\n",
    "\n",
    "# 2.2\n",
    "\n",
    "# 2.3"
   ]
  },
  {
   "cell_type": "markdown",
   "id": "244dd609",
   "metadata": {},
   "source": [
    "## Арифметические операции"
   ]
  },
  {
   "cell_type": "markdown",
   "id": "c195f583",
   "metadata": {},
   "source": [
    "#### Задание 3\n",
    "Выполните сложение, вычитание, умножение и деление элементов array_1 и array_3. Результат вычислений выведите на экран."
   ]
  },
  {
   "cell_type": "code",
   "execution_count": null,
   "id": "4507565c",
   "metadata": {},
   "outputs": [],
   "source": [
    "# 3\n",
    "# сложение\n",
    "\n",
    "# вычитание\n",
    "\n",
    "# умножение\n",
    "\n",
    "# деление\n",
    "\n",
    "# целочисленное деление\n",
    "\n",
    "# остаток от деления\n"
   ]
  },
  {
   "cell_type": "markdown",
   "id": "9723ea8c",
   "metadata": {},
   "source": [
    "#### Задание 4\n",
    "Выполните сложение, вычитание, умножение и деление элементов array_2 на целое число number, введенное с клавиатуры. Результат вычислений выведите на экран."
   ]
  },
  {
   "cell_type": "code",
   "execution_count": null,
   "id": "080c377d",
   "metadata": {},
   "outputs": [],
   "source": [
    "# 4\n",
    "number = ...\n",
    "\n",
    "# сложение\n",
    "\n",
    "# вычитание\n",
    "\n",
    "# умножение\n",
    "\n",
    "# деление"
   ]
  },
  {
   "cell_type": "markdown",
   "id": "56371314",
   "metadata": {},
   "source": [
    "## Преобразование массивов\n"
   ]
  },
  {
   "cell_type": "markdown",
   "id": "04d8c0ac",
   "metadata": {},
   "source": [
    "#### Задание 5\n",
    "Создайте массив из 10 случайных чисел, назовите его array_4.\n",
    "\n",
    "Измените его размерность на (5, 2)."
   ]
  },
  {
   "cell_type": "code",
   "execution_count": null,
   "id": "13c40929",
   "metadata": {},
   "outputs": [],
   "source": [
    "# 5.1"
   ]
  },
  {
   "cell_type": "markdown",
   "id": "2a6e2057",
   "metadata": {},
   "source": [
    "Создате массив array_5, состоящий из двух случайных элементов.\n",
    "\n",
    "Создате массив array_6, состоящий из пяти случайных элементов."
   ]
  },
  {
   "cell_type": "code",
   "execution_count": null,
   "id": "6d262b10",
   "metadata": {},
   "outputs": [],
   "source": [
    "# 5.2"
   ]
  },
  {
   "cell_type": "markdown",
   "id": "fca2f811",
   "metadata": {},
   "source": [
    "Выполните сложение, вычитание, умножение и деление элементов array_4, array_5 и array_4, array_6. Сделайте вывод об умножении массивов разных размеров."
   ]
  },
  {
   "cell_type": "code",
   "execution_count": null,
   "id": "d9a11afc",
   "metadata": {},
   "outputs": [],
   "source": [
    "# 5.3"
   ]
  },
  {
   "cell_type": "markdown",
   "id": "aec7b5b6",
   "metadata": {},
   "source": [
    "**\\# 5.4 Вывод:**"
   ]
  },
  {
   "cell_type": "markdown",
   "id": "fdcb1b15",
   "metadata": {},
   "source": [
    "#### Задание 6\n",
    "Создайте матрицу из 15 элементов, состоящую из 3 столбцов и 5 строчек. Найдите:\n",
    "1. Размер матрицы\n",
    "2. Количество элементов в матрице\n",
    "3. Определитель матрицы\n",
    "4. Обратную матрицу"
   ]
  },
  {
   "cell_type": "code",
   "execution_count": null,
   "id": "9c9ea485",
   "metadata": {},
   "outputs": [],
   "source": [
    "# 6.0\n",
    "\n",
    "# 6.1\n",
    "\n",
    "# 6.2\n",
    "\n",
    "# 6.3\n",
    "\n",
    "# 6.4"
   ]
  },
  {
   "cell_type": "markdown",
   "id": "0e2bbb7c",
   "metadata": {},
   "source": [
    "#### Задание 7\n",
    "Выполните умножение матриц, приведенных ниже. Выберите самостоятельно порядок умножения."
   ]
  },
  {
   "cell_type": "code",
   "execution_count": null,
   "id": "e12689d1",
   "metadata": {},
   "outputs": [],
   "source": [
    "a = np.random.randint(15, 35, 10).reshape(2, 5)\n",
    "b = np.random.randint(1, 20, 32).reshape(16, 2)\n",
    "c = np.random.randint(17, 31, 15).reshape(5, 3)\n",
    "# 7\n"
   ]
  },
  {
   "cell_type": "markdown",
   "id": "a014b8e0",
   "metadata": {},
   "source": [
    "#### Задание 8\n",
    "1. Выполните умножение предложенного массива на массив array_7, состоящий из трех подряд идущих чисел.\n",
    "2. Выполните умножение предложенного массива на массив array_8, состоящий из пяти подряд идущих чисел, записанных в столбец."
   ]
  },
  {
   "cell_type": "code",
   "execution_count": null,
   "id": "16a1d44f",
   "metadata": {},
   "outputs": [],
   "source": [
    "a = np.random.randint(10, 20, 15).reshape(5, 3)\n",
    "# 8\n"
   ]
  },
  {
   "cell_type": "markdown",
   "id": "2af8a94f",
   "metadata": {},
   "source": [
    "#### Задание 9\n",
    "1. В приведенном ниже массиве ```array``` выведите на экран элементы со второго по седьмой.\n",
    "2. В приведенном ниже массиве ```array``` выведите на экран квадратную подматрицу, расположенную на 2ой и 3ей строчке и 3ем и 4ом столбце."
   ]
  },
  {
   "cell_type": "code",
   "execution_count": null,
   "id": "21091bb6",
   "metadata": {},
   "outputs": [],
   "source": [
    "array = np.random.randint(10, 20, 15)\n",
    "# 9.1"
   ]
  },
  {
   "cell_type": "code",
   "execution_count": null,
   "id": "261b71d5",
   "metadata": {},
   "outputs": [],
   "source": [
    "array = np.random.randint(10, 20, 30).reshape(5, 6)\n",
    "# 9.2"
   ]
  },
  {
   "cell_type": "markdown",
   "id": "4e69d1b6",
   "metadata": {},
   "source": [
    "#### Задание 10\n",
    "1. Создайте массив ```another_array```, являющийся еще одним названием приведенного массива ```array```. Измените 3ий элемент ```another_array``` на противоположный по значению. Посмотрите, что произойдет с элементами массива ```array```.\n",
    "2. Создайте массив ```copy_array```, являющийся копией приведенного массива ```array```. Измените 4ый элемент ```copy_array``` на противоположный по значению. Посмотрите, что произойдет с элементами массива ```array```.\n",
    "3. Сделайте вывод о хранении данных в numpy array."
   ]
  },
  {
   "cell_type": "code",
   "execution_count": null,
   "id": "caef1dee",
   "metadata": {},
   "outputs": [],
   "source": [
    "array = np.random.randint(10, 20, 15)\n",
    "# 10.1"
   ]
  },
  {
   "cell_type": "code",
   "execution_count": null,
   "id": "d156778f",
   "metadata": {},
   "outputs": [],
   "source": [
    "array = np.random.randint(10, 20, 15)\n",
    "# 10.2"
   ]
  },
  {
   "cell_type": "markdown",
   "id": "b464cf1a",
   "metadata": {},
   "source": [
    "**\\# 10.3 Вывод:**"
   ]
  },
  {
   "cell_type": "markdown",
   "id": "b29528b9",
   "metadata": {},
   "source": [
    "## Функции по направлениям"
   ]
  },
  {
   "cell_type": "markdown",
   "id": "3f792dab",
   "metadata": {},
   "source": [
    "#### Задание 11\n",
    "1. Вычислите максимальное значение в приведенном массиве.\n",
    "2. Вычислите минимальное значение во втором столбце приведенного массива.\n",
    "3. Вычислите максимальное значение в третьей строке приведенного массива."
   ]
  },
  {
   "cell_type": "code",
   "execution_count": null,
   "id": "8958422a",
   "metadata": {},
   "outputs": [],
   "source": [
    "array = np.random.randint(10, 20, 20).reshape(5, 4)\n",
    "# 11.1\n",
    "\n",
    "# 11.2\n",
    "\n",
    "# 11.3"
   ]
  },
  {
   "cell_type": "markdown",
   "id": "ed7bcd01",
   "metadata": {},
   "source": [
    "#### Задание 12\n",
    "1. Вычислите сумму всех значений в приведенном массиве.\n",
    "2. Вычислите произведение значений во втором столбце приведенного массива.\n",
    "3. Вычислите сумму значений в третьей строке приведенного массива."
   ]
  },
  {
   "cell_type": "code",
   "execution_count": null,
   "id": "a6c6b9b7",
   "metadata": {},
   "outputs": [],
   "source": [
    "array = np.random.randint(10, 20, 20).reshape(5, 4)\n",
    "# 12.1\n",
    "\n",
    "# 12.2\n",
    "\n",
    "# 12.3"
   ]
  },
  {
   "cell_type": "markdown",
   "id": "8b014e49",
   "metadata": {},
   "source": [
    "#### Задание 13\n",
    "1. Отсортируйте строчки приведенного ниже массива по возрастанию.\n",
    "2. Отсортируйте столбцы приведенного ниже массива по убыванию."
   ]
  },
  {
   "cell_type": "code",
   "execution_count": null,
   "id": "1a20ce1c",
   "metadata": {},
   "outputs": [],
   "source": [
    "array = np.random.randint(10, 20, 20).reshape(5, 4)\n",
    "# 13.1\n",
    "\n",
    "# 13.2"
   ]
  },
  {
   "cell_type": "markdown",
   "id": "c8b68372",
   "metadata": {},
   "source": [
    "#### Задание 14\n",
    "Создайте массив с названием new_array, состоящий из отсортированных по убыванию строчек массива array."
   ]
  },
  {
   "cell_type": "code",
   "execution_count": null,
   "id": "d08972bd",
   "metadata": {},
   "outputs": [],
   "source": [
    "array = np.random.randint(10, 20, 20).reshape(5, 4)\n",
    "# 14\n",
    "\n",
    "\n",
    "# Проверь себя\n",
    "print(array) # массив не должен измениться\n",
    "print(new_array) # массив должен состоять из тех же строчек, что и array, но отсортированных"
   ]
  },
  {
   "cell_type": "markdown",
   "id": "4cad31a2",
   "metadata": {},
   "source": [
    "## Булевы массивы"
   ]
  },
  {
   "cell_type": "markdown",
   "id": "16dc1781",
   "metadata": {},
   "source": [
    "#### Задание 15\n",
    "Определите, какие из элементов массива ```array``` не меньше числа 15. Создайте матрицу с названием flag, в элементах которой лежат значения ```True/False``` в зависимости от того, выполняется ли условие. "
   ]
  },
  {
   "cell_type": "code",
   "execution_count": null,
   "id": "72216034",
   "metadata": {},
   "outputs": [],
   "source": [
    "array = np.random.randint(5, 25, 15).reshape(3, 5)\n",
    "# 15"
   ]
  },
  {
   "cell_type": "markdown",
   "id": "e14c6429",
   "metadata": {},
   "source": [
    "#### Задание 16\n",
    "Выведите на экран измененную матрицу, в которой останутся только те элементы, которые больше 20."
   ]
  },
  {
   "cell_type": "code",
   "execution_count": null,
   "id": "c92fa4e7",
   "metadata": {},
   "outputs": [],
   "source": [
    "# 16"
   ]
  },
  {
   "cell_type": "markdown",
   "id": "2aa2a040",
   "metadata": {},
   "source": [
    "## Математика"
   ]
  },
  {
   "cell_type": "markdown",
   "id": "dfde028c",
   "metadata": {},
   "source": [
    "#### Задание 17\n",
    "Известно, что решение системы линейных уравнений вида $Ax = y$ имеет решение в матричной форме $x = A^{-1}y$.\n",
    "\n",
    "Найдите решение системы линейных уравнений, если для составления обратной матрицы к матрице A используется функция ```np.linalg.inv(A)```.\n",
    "\n",
    "Найдите решение системы уравнений в матричной форме:\n",
    "\n",
    "$$\n",
    "\\left\\{ \n",
    "\\begin{array}{c}\n",
    "x+2y-z = 5 \\\\ \n",
    "x-3y =3 \\\\ \n",
    "x+7y-3z=4\n",
    "\\end{array}\n",
    "\\right. \n",
    "$$"
   ]
  },
  {
   "cell_type": "code",
   "execution_count": null,
   "id": "29d685e4",
   "metadata": {},
   "outputs": [],
   "source": [
    "# 17"
   ]
  },
  {
   "cell_type": "markdown",
   "id": "38e78d70",
   "metadata": {},
   "source": [
    "#### Задание 18\n",
    "1. С помощью ```np.poly``` создайте массив, символизирующий коэффициенты многочлена с корнями [1, 2, 3].\n",
    "2. С помощью функции ```np.roots``` найдите корни уравнения $x^2 - 3x - 4 = 0$"
   ]
  },
  {
   "cell_type": "code",
   "execution_count": null,
   "id": "61fb9a39",
   "metadata": {},
   "outputs": [],
   "source": [
    "# 18.1\n",
    "\n",
    "# 18.2"
   ]
  },
  {
   "cell_type": "markdown",
   "id": "967a7cfb",
   "metadata": {},
   "source": [
    "#### Задание 19\n",
    "Смоделируйте бросание игрального шестигранного кубика 100 раз. Определите частоту выпадения четной стороны кубика."
   ]
  },
  {
   "cell_type": "code",
   "execution_count": null,
   "id": "faf9c8b4",
   "metadata": {},
   "outputs": [],
   "source": [
    "# 19"
   ]
  },
  {
   "cell_type": "markdown",
   "id": "53fa0d4e",
   "metadata": {},
   "source": [
    "#### Задание 20\n",
    "Смоделируйте бросание двух игральных шестигранных кубиков 100 раз. Определите частоту выпадения четного произведения очков на них."
   ]
  },
  {
   "cell_type": "code",
   "execution_count": null,
   "id": "fa6a5a37",
   "metadata": {},
   "outputs": [],
   "source": [
    "# 20"
   ]
  },
  {
   "cell_type": "markdown",
   "id": "488d8f86",
   "metadata": {},
   "source": [
    "## Производительность"
   ]
  },
  {
   "cell_type": "markdown",
   "id": "8dad5220",
   "metadata": {},
   "source": [
    "#### Задание 21\n",
    "Используя магический метод ```%timeit``` вычислите скорость составления массива из $10^8$ подряд идущих значений и вычисления квадратного корня каждого из них.\n",
    "\n",
    "Сравните вычисления на списках, списочных выражениях, np.array, map."
   ]
  },
  {
   "cell_type": "code",
   "execution_count": null,
   "id": "5a9a97d6",
   "metadata": {},
   "outputs": [],
   "source": [
    "# 21"
   ]
  },
  {
   "cell_type": "markdown",
   "id": "feccec43",
   "metadata": {},
   "source": [
    "**Вывод:**"
   ]
  }
 ],
 "metadata": {
  "kernelspec": {
   "display_name": "Python 3 (ipykernel)",
   "language": "python",
   "name": "python3"
  },
  "language_info": {
   "codemirror_mode": {
    "name": "ipython",
    "version": 3
   },
   "file_extension": ".py",
   "mimetype": "text/x-python",
   "name": "python",
   "nbconvert_exporter": "python",
   "pygments_lexer": "ipython3",
   "version": "3.10.13"
  }
 },
 "nbformat": 4,
 "nbformat_minor": 5
}
