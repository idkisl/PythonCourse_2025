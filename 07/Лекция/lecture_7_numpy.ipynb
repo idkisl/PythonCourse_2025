{
 "cells": [
  {
   "cell_type": "markdown",
   "metadata": {
    "id": "ExFQDpnP_GZa"
   },
   "source": [
    "## Лекция 7\n",
    "### Модуль NumPy\n",
    "\n",
    "Лекция прочитана Иваном Кисляковым. Разрешено к использованию в некоммерческих образовательных целях. "
   ]
  },
  {
   "cell_type": "markdown",
   "metadata": {
    "id": "wcSnrJ8V0AKL"
   },
   "source": [
    "Текущее занятие во многом опирается на материал [лекций](https://miptstats.github.io/courses/python/05_numpy.html) miptStats"
   ]
  },
  {
   "cell_type": "markdown",
   "metadata": {
    "id": "U848xNgn_KEp"
   },
   "source": [
    "**Задание 1.**\n",
    "\n",
    "Какие существую плюсы и минусы языка Python? С чем это связано?"
   ]
  },
  {
   "cell_type": "markdown",
   "metadata": {
    "id": "n1j6BT9I_U8r"
   },
   "source": [
    "**Задание 2.**\n",
    "\n",
    "Узнайте, как и зачем можно замерять время работы программы?\n",
    "\n",
    "Воспользуйтесь модулем [timeit](https://docs.python.org/3/library/timeit.html)\n",
    "\n",
    "\n",
    "\n",
    "```python\n",
    "import timeit\n",
    "timeit.timeit(\"print('hi')\", number=1)\n",
    "```\n",
    "\n"
   ]
  },
  {
   "cell_type": "code",
   "execution_count": 7,
   "metadata": {
    "colab": {
     "base_uri": "https://localhost:8080/"
    },
    "executionInfo": {
     "elapsed": 1576,
     "status": "ok",
     "timestamp": 1743231362992,
     "user": {
      "displayName": "Иван Кисляков",
      "userId": "06730424072294611424"
     },
     "user_tz": -180
    },
    "id": "DuYxn9dw_U8v",
    "outputId": "a7884512-ac72-41cb-d849-215ec17be35d"
   },
   "outputs": [
    {
     "name": "stdout",
     "output_type": "stream",
     "text": [
      "1.2984019999930752\n"
     ]
    }
   ],
   "source": [
    "import timeit\n",
    "\n",
    "print(timeit.timeit(\"[i ** 0.5 for i in range(1, 10000000)]\", number=1))"
   ]
  },
  {
   "cell_type": "code",
   "execution_count": 13,
   "metadata": {},
   "outputs": [
    {
     "name": "stdout",
     "output_type": "stream",
     "text": [
      "1.4234597499962547\n"
     ]
    }
   ],
   "source": [
    "print(timeit.timeit(\"list(map(lambda x: x ** 0.5, range(1, 10000000)))\", number=1))"
   ]
  },
  {
   "cell_type": "code",
   "execution_count": 83,
   "metadata": {},
   "outputs": [
    {
     "name": "stdout",
     "output_type": "stream",
     "text": [
      "0.274692375001905\n"
     ]
    }
   ],
   "source": [
    "# привет из будущего\n",
    "print(timeit.timeit(\"__import__('numpy').arange(1, 10000000) ** 0.5\", number=1))"
   ]
  },
  {
   "cell_type": "code",
   "execution_count": 14,
   "metadata": {},
   "outputs": [
    {
     "name": "stdout",
     "output_type": "stream",
     "text": [
      "3.625005774665624e-06\n"
     ]
    }
   ],
   "source": [
    "print(timeit.timeit(\"map(lambda x: x ** 0.5, range(1, 10000000))\", number=1))"
   ]
  },
  {
   "cell_type": "markdown",
   "metadata": {
    "id": "KJxIQoiC_VbS"
   },
   "source": [
    "**Задание 3.**\n",
    "\n",
    "Воспользуйтесь библиотекой **numpy**.\n",
    "\n",
    "Что такое **массив**?\n",
    "\n",
    "В чем категорическое различие со списками?\n",
    "\n",
    "```python\n",
    "import numpy as np\n",
    "np.array(...)\n",
    "```\n",
    "\n"
   ]
  },
  {
   "cell_type": "code",
   "execution_count": 15,
   "metadata": {
    "colab": {
     "base_uri": "https://localhost:8080/"
    },
    "executionInfo": {
     "elapsed": 5,
     "status": "ok",
     "timestamp": 1743230902297,
     "user": {
      "displayName": "Иван Кисляков",
      "userId": "06730424072294611424"
     },
     "user_tz": -180
    },
    "id": "GSLgyt4z_VbU",
    "outputId": "bfcafd11-21c1-4677-c6cf-6a00295e504d"
   },
   "outputs": [
    {
     "name": "stdout",
     "output_type": "stream",
     "text": [
      "[1 2 3]\n"
     ]
    }
   ],
   "source": [
    "import numpy as np\n",
    "\n",
    "\n",
    "a = np.array([1, 2, 3])\n",
    "print(a)"
   ]
  },
  {
   "cell_type": "code",
   "execution_count": 16,
   "metadata": {
    "colab": {
     "base_uri": "https://localhost:8080/"
    },
    "executionInfo": {
     "elapsed": 13,
     "status": "ok",
     "timestamp": 1743231011698,
     "user": {
      "displayName": "Иван Кисляков",
      "userId": "06730424072294611424"
     },
     "user_tz": -180
    },
    "id": "vWuAduNmqOy-",
    "outputId": "12fb8c4a-1c58-4039-cb70-4d190e319404"
   },
   "outputs": [
    {
     "name": "stdout",
     "output_type": "stream",
     "text": [
      "['1' '2' '3' 'hello']\n"
     ]
    }
   ],
   "source": [
    "a = np.array([1, 2, 3, \"hello\"])\n",
    "print(a)"
   ]
  },
  {
   "cell_type": "code",
   "execution_count": 18,
   "metadata": {
    "colab": {
     "base_uri": "https://localhost:8080/",
     "height": 190
    },
    "executionInfo": {
     "elapsed": 37,
     "status": "error",
     "timestamp": 1743231072856,
     "user": {
      "displayName": "Иван Кисляков",
      "userId": "06730424072294611424"
     },
     "user_tz": -180
    },
    "id": "LY2ZSgoeqtQ5",
    "outputId": "7cd663b1-3ea4-4083-d560-57cba8cbe6e6"
   },
   "outputs": [
    {
     "name": "stdout",
     "output_type": "stream",
     "text": [
      "[1 2 3]\n",
      "int8\n"
     ]
    }
   ],
   "source": [
    "a = np.array([1, 2, 3], dtype=\"int8\")\n",
    "print(a)\n",
    "print(a.dtype)"
   ]
  },
  {
   "cell_type": "code",
   "execution_count": 19,
   "metadata": {},
   "outputs": [
    {
     "name": "stdout",
     "output_type": "stream",
     "text": [
      "int64\n"
     ]
    }
   ],
   "source": [
    "a = np.array([1, 2, 3])\n",
    "print(a.dtype)"
   ]
  },
  {
   "cell_type": "markdown",
   "metadata": {
    "id": "Wpb0r-ZF_V6p"
   },
   "source": [
    "**Задание 4.**\n",
    "\n",
    "Воспользуйтесь атрибутом ``` array.dtype```\n",
    "\n",
    "Попробуйте изменить тип данных элементов в массиве с помощью именнованного аргумента конструктора dtype."
   ]
  },
  {
   "cell_type": "code",
   "execution_count": null,
   "metadata": {
    "id": "RCTxIejv_V6r"
   },
   "outputs": [],
   "source": [
    "\n",
    "\n",
    "\n",
    "\n"
   ]
  },
  {
   "cell_type": "markdown",
   "metadata": {
    "id": "UMJFyTXL_WI3"
   },
   "source": [
    "**Задание 5.**\n",
    "\n",
    "Воспользуйтесь функцией shape и reshape.\n",
    "\n",
    "В чем различие с size()?"
   ]
  },
  {
   "cell_type": "code",
   "execution_count": 23,
   "metadata": {
    "colab": {
     "base_uri": "https://localhost:8080/"
    },
    "executionInfo": {
     "elapsed": 4,
     "status": "ok",
     "timestamp": 1743231784338,
     "user": {
      "displayName": "Иван Кисляков",
      "userId": "06730424072294611424"
     },
     "user_tz": -180
    },
    "id": "8tAoTPUX_WI5",
    "outputId": "760fccab-c96c-4f81-e1b2-62851597a9ad"
   },
   "outputs": [
    {
     "name": "stdout",
     "output_type": "stream",
     "text": [
      "8\n",
      "(8,)\n"
     ]
    }
   ],
   "source": [
    "lst = [1, 2, 3, 4, 5, 6, 7, 8]\n",
    "arr = np.array(lst)\n",
    "print(arr.size)\n",
    "print(arr.shape)\n"
   ]
  },
  {
   "cell_type": "code",
   "execution_count": 29,
   "metadata": {},
   "outputs": [
    {
     "name": "stdout",
     "output_type": "stream",
     "text": [
      "[[1 2 3 4]\n",
      " [5 6 7 8]]\n",
      "[[1 2]\n",
      " [3 4]\n",
      " [5 6]\n",
      " [7 8]]\n",
      "[[1]\n",
      " [2]\n",
      " [3]\n",
      " [4]\n",
      " [5]\n",
      " [6]\n",
      " [7]\n",
      " [8]]\n"
     ]
    }
   ],
   "source": [
    "lst = [1, 2, 3, 4, 5, 6, 7, 8]\n",
    "arr = np.array(lst)\n",
    "arr2 = arr.reshape(2, 4)\n",
    "print(arr2)\n",
    "arr2 = arr.reshape(4, 2)\n",
    "print(arr2)\n",
    "arr2 = arr.reshape(8, 1)\n",
    "print(arr2)"
   ]
  },
  {
   "cell_type": "markdown",
   "metadata": {
    "id": "kc_8VKOrecLL"
   },
   "source": [
    "**Задание 6.**\n",
    "\n",
    "Попробуйте различную индексацию в двумерных массивах?\n",
    "\n",
    "Работают ли срезки?"
   ]
  },
  {
   "cell_type": "code",
   "execution_count": 31,
   "metadata": {
    "colab": {
     "base_uri": "https://localhost:8080/"
    },
    "executionInfo": {
     "elapsed": 12,
     "status": "ok",
     "timestamp": 1743232152327,
     "user": {
      "displayName": "Иван Кисляков",
      "userId": "06730424072294611424"
     },
     "user_tz": -180
    },
    "id": "f2G54IHCedXg",
    "outputId": "b423772a-adef-43d4-a91e-6af37bf1ae87"
   },
   "outputs": [
    {
     "name": "stdout",
     "output_type": "stream",
     "text": [
      "[[1 2 3 4]\n",
      " [5 6 7 8]]\n"
     ]
    }
   ],
   "source": [
    "lst = [1, 2, 3, 4, 5, 6, 7, 8]\n",
    "arr = np.array(lst)\n",
    "arr = arr.reshape(2, 4)\n",
    "print(arr)"
   ]
  },
  {
   "cell_type": "code",
   "execution_count": 39,
   "metadata": {},
   "outputs": [
    {
     "name": "stdout",
     "output_type": "stream",
     "text": [
      "3\n",
      "[1 2 3 4]\n",
      "[2 3 4]\n",
      "[3 7]\n",
      "[[1 2]\n",
      " [5 6]]\n"
     ]
    }
   ],
   "source": [
    "print(arr[0, 2])\n",
    "print(arr[0, :])\n",
    "print(arr[0, 1:])\n",
    "print(arr[:, 2])\n",
    "print(arr[:2, :2])"
   ]
  },
  {
   "cell_type": "markdown",
   "metadata": {
    "id": "-2tVHWrV_Wf7"
   },
   "source": [
    "**Задание 7.**\n",
    "\n",
    "Существует различные способы заполнения массива данными по умолчанию. К примеру:\n",
    "\n",
    "```python\n",
    "np.ones(10)\n",
    "np.zeros(10)\n",
    "np.arange(10)\n",
    "np.random.random(10)\n",
    "np.random.randint(0, 10)\n",
    "np.linspace(0, 10, 4)\n",
    "np.fromstring(\"10_20_30\", sep=\"_\")\n",
    "```\n",
    "Воспользуйтесь последовательным (массовым) применением функций.\n"
   ]
  },
  {
   "cell_type": "code",
   "execution_count": 46,
   "metadata": {
    "colab": {
     "base_uri": "https://localhost:8080/"
    },
    "executionInfo": {
     "elapsed": 6,
     "status": "ok",
     "timestamp": 1743232897592,
     "user": {
      "displayName": "Иван Кисляков",
      "userId": "06730424072294611424"
     },
     "user_tz": -180
    },
    "id": "gXZSPPIx_Wf8",
    "outputId": "6c64e01f-b75a-42f9-e818-dc5962c2aef1"
   },
   "outputs": [
    {
     "name": "stdout",
     "output_type": "stream",
     "text": [
      "[1. 1. 1. 1. 1. 1. 1. 1. 1. 1.]\n",
      "[0. 0. 0. 0. 0. 0. 0. 0. 0. 0.]\n",
      "[0 1 2 3 4 5 6 7 8 9]\n",
      "[0.58357726 0.05540702 0.08953047 0.84404367 0.78567607 0.4132918\n",
      " 0.37090723 0.75004416 0.63519606 0.75817538]\n",
      "4\n"
     ]
    }
   ],
   "source": [
    "print(np.ones(10))\n",
    "print(np.zeros(10))\n",
    "print(np.arange(10))\n",
    "print(np.random.random(10))\n",
    "print(np.random.randint(0, 10))"
   ]
  },
  {
   "cell_type": "code",
   "execution_count": 52,
   "metadata": {
    "colab": {
     "base_uri": "https://localhost:8080/"
    },
    "executionInfo": {
     "elapsed": 249,
     "status": "ok",
     "timestamp": 1743233025588,
     "user": {
      "displayName": "Иван Кисляков",
      "userId": "06730424072294611424"
     },
     "user_tz": -180
    },
    "id": "7_NbeTmW8HeY",
    "outputId": "119f68af-dd8c-435a-9e64-1fe4bca58acd"
   },
   "outputs": [
    {
     "name": "stdout",
     "output_type": "stream",
     "text": [
      "[ 0.   2.5  5.   7.5 10. ]\n",
      "[10. 20. 30.]\n"
     ]
    }
   ],
   "source": [
    "print(np.linspace(0, 10, 5))\n",
    "\n",
    "print(np.fromstring(\"10_20_30\", sep=\"_\"))\n"
   ]
  },
  {
   "cell_type": "markdown",
   "metadata": {
    "id": "fT7v7Mry_Wud"
   },
   "source": [
    "**Задание 8.**\n",
    "\n",
    "Примените различные математические операции к двум массивам.\n",
    "\n",
    "Не забывайте про составные операторы присваивания."
   ]
  },
  {
   "cell_type": "code",
   "execution_count": 54,
   "metadata": {
    "colab": {
     "base_uri": "https://localhost:8080/"
    },
    "executionInfo": {
     "elapsed": 6,
     "status": "ok",
     "timestamp": 1743233380713,
     "user": {
      "displayName": "Иван Кисляков",
      "userId": "06730424072294611424"
     },
     "user_tz": -180
    },
    "id": "PtzhvPQQ_Wud",
    "outputId": "62b2be1b-a924-42aa-d666-49ba9a423305"
   },
   "outputs": [
    {
     "name": "stdout",
     "output_type": "stream",
     "text": [
      "[ 0. 10. 20. 30. 40. 50. 60. 70. 80. 90.] [0 1 2 3 4 5 6 7 8 9]\n"
     ]
    }
   ],
   "source": [
    "arr1 = np.linspace(0, 90, 10)\n",
    "arr2 = np.arange(10)\n",
    "\n",
    "print(arr1, arr2)"
   ]
  },
  {
   "cell_type": "markdown",
   "metadata": {},
   "source": [
    "#### Одномерные массивы одинакового размера"
   ]
  },
  {
   "cell_type": "code",
   "execution_count": 59,
   "metadata": {
    "colab": {
     "base_uri": "https://localhost:8080/"
    },
    "executionInfo": {
     "elapsed": 6,
     "status": "ok",
     "timestamp": 1743233765049,
     "user": {
      "displayName": "Иван Кисляков",
      "userId": "06730424072294611424"
     },
     "user_tz": -180
    },
    "id": "55PHI_AOzn0r",
    "outputId": "201aef9b-a3e2-47d2-a871-f891fb5a80cf"
   },
   "outputs": [
    {
     "name": "stdout",
     "output_type": "stream",
     "text": [
      "[ 0. 11. 22. 33. 44. 55. 66. 77. 88. 99.]\n",
      "[ 0.  9. 18. 27. 36. 45. 54. 63. 72. 81.]\n",
      "[  0.  10.  40.  90. 160. 250. 360. 490. 640. 810.]\n",
      "[10. 10. 10. 10. 10. 10. 10. 10. 10.]\n"
     ]
    }
   ],
   "source": [
    "print(arr1 + arr2)\n",
    "print(arr1 - arr2)\n",
    "print(arr1 * arr2)\n",
    "print(arr1[1:] / arr2[1:])"
   ]
  },
  {
   "cell_type": "markdown",
   "metadata": {},
   "source": [
    "#### Одномерные массивы и число"
   ]
  },
  {
   "cell_type": "code",
   "execution_count": 61,
   "metadata": {
    "colab": {
     "base_uri": "https://localhost:8080/"
    },
    "executionInfo": {
     "elapsed": 17,
     "status": "ok",
     "timestamp": 1743233912081,
     "user": {
      "displayName": "Иван Кисляков",
      "userId": "06730424072294611424"
     },
     "user_tz": -180
    },
    "id": "BBf7jQnY1NAu",
    "outputId": "f4a98623-54fe-4487-fdd8-a71e6e7debe5"
   },
   "outputs": [
    {
     "name": "stdout",
     "output_type": "stream",
     "text": [
      "[  0.  20.  40.  60.  80. 100. 120. 140. 160. 180.]\n",
      "[ 2. 12. 22. 32. 42. 52. 62. 72. 82. 92.]\n",
      "[-2.  8. 18. 28. 38. 48. 58. 68. 78. 88.]\n",
      "[ 0.  5. 10. 15. 20. 25. 30. 35. 40. 45.]\n"
     ]
    }
   ],
   "source": [
    "print(arr1 * 2)\n",
    "print(arr1 + 2)\n",
    "print(arr1 - 2)\n",
    "print(arr1 / 2)"
   ]
  },
  {
   "cell_type": "markdown",
   "metadata": {},
   "source": [
    "#### Одномерные массивы разного размера"
   ]
  },
  {
   "cell_type": "code",
   "execution_count": 62,
   "metadata": {},
   "outputs": [
    {
     "ename": "ValueError",
     "evalue": "operands could not be broadcast together with shapes (10,) (5,) ",
     "output_type": "error",
     "traceback": [
      "\u001b[0;31m---------------------------------------------------------------------------\u001b[0m",
      "\u001b[0;31mValueError\u001b[0m                                Traceback (most recent call last)",
      "Cell \u001b[0;32mIn[62], line 1\u001b[0m\n\u001b[0;32m----> 1\u001b[0m \u001b[38;5;28mprint\u001b[39m(arr1 \u001b[38;5;241m+\u001b[39m arr2[\u001b[38;5;241m5\u001b[39m:])\n",
      "\u001b[0;31mValueError\u001b[0m: operands could not be broadcast together with shapes (10,) (5,) "
     ]
    }
   ],
   "source": [
    "print(arr1 + arr2[5:])"
   ]
  },
  {
   "cell_type": "markdown",
   "metadata": {},
   "source": [
    "#### Двумерные массивы и число"
   ]
  },
  {
   "cell_type": "code",
   "execution_count": 64,
   "metadata": {},
   "outputs": [
    {
     "name": "stdout",
     "output_type": "stream",
     "text": [
      "[[ 0. 10. 20. 30. 40.]\n",
      " [50. 60. 70. 80. 90.]]\n",
      "[[0 1 2 3 4]\n",
      " [5 6 7 8 9]]\n"
     ]
    }
   ],
   "source": [
    "arr1 = np.linspace(0, 90, 10)\n",
    "arr2 = np.arange(10)\n",
    "arr1 = arr1.reshape(2, 5)\n",
    "arr2 = arr2.reshape(2, 5)\n",
    "print(arr1, arr2, sep=\"\\n\")"
   ]
  },
  {
   "cell_type": "code",
   "execution_count": 66,
   "metadata": {},
   "outputs": [
    {
     "name": "stdout",
     "output_type": "stream",
     "text": [
      "[[  0.  20.  40.  60.  80.]\n",
      " [100. 120. 140. 160. 180.]]\n",
      "[[-2.  8. 18. 28. 38.]\n",
      " [48. 58. 68. 78. 88.]]\n"
     ]
    }
   ],
   "source": [
    "print(arr1 * 2)\n",
    "print(arr1 - 2)"
   ]
  },
  {
   "cell_type": "markdown",
   "metadata": {},
   "source": [
    "#### Двумерные массивы и одномерный"
   ]
  },
  {
   "cell_type": "code",
   "execution_count": 69,
   "metadata": {},
   "outputs": [
    {
     "name": "stdout",
     "output_type": "stream",
     "text": [
      "[ 0.   2.5  5.   7.5 10. ]\n"
     ]
    }
   ],
   "source": [
    "arr3 = np.linspace(0, 10, 5)\n",
    "print(arr3)"
   ]
  },
  {
   "cell_type": "code",
   "execution_count": 71,
   "metadata": {},
   "outputs": [
    {
     "name": "stdout",
     "output_type": "stream",
     "text": [
      "[[ 0.   3.5  7.  10.5 14. ]\n",
      " [ 5.   8.5 12.  15.5 19. ]]\n",
      "(2, 5) (5,)\n"
     ]
    }
   ],
   "source": [
    "print(arr2 + arr3)\n",
    "print(arr2.shape, arr3.shape)"
   ]
  },
  {
   "cell_type": "code",
   "execution_count": 72,
   "metadata": {},
   "outputs": [
    {
     "name": "stdout",
     "output_type": "stream",
     "text": [
      "(2, 5) (2,)\n"
     ]
    }
   ],
   "source": [
    "arr3 = np.linspace(0, 10, 2)\n",
    "print(arr2.shape, arr3.shape)"
   ]
  },
  {
   "cell_type": "code",
   "execution_count": 75,
   "metadata": {},
   "outputs": [
    {
     "ename": "ValueError",
     "evalue": "operands could not be broadcast together with shapes (2,5) (2,) ",
     "output_type": "error",
     "traceback": [
      "\u001b[0;31m---------------------------------------------------------------------------\u001b[0m",
      "\u001b[0;31mValueError\u001b[0m                                Traceback (most recent call last)",
      "Cell \u001b[0;32mIn[75], line 1\u001b[0m\n\u001b[0;32m----> 1\u001b[0m \u001b[38;5;28mprint\u001b[39m(arr2 \u001b[38;5;241m+\u001b[39m arr3)\n",
      "\u001b[0;31mValueError\u001b[0m: operands could not be broadcast together with shapes (2,5) (2,) "
     ]
    }
   ],
   "source": [
    "print(arr2 + arr3)"
   ]
  },
  {
   "cell_type": "code",
   "execution_count": 77,
   "metadata": {},
   "outputs": [
    {
     "name": "stdout",
     "output_type": "stream",
     "text": [
      "[[ 0. 11.  2. 13.  4.]\n",
      " [15.  6. 17.  8. 19.]]\n"
     ]
    }
   ],
   "source": [
    "print((arr2.reshape(5, 2) + arr3).reshape(2, 5))"
   ]
  },
  {
   "cell_type": "markdown",
   "metadata": {
    "id": "veTLqurj_W15"
   },
   "source": [
    "**Задание 9.**\n",
    "\n",
    "Примените различные знаки сравнения к двум массивам (или массив и число)."
   ]
  },
  {
   "cell_type": "code",
   "execution_count": 80,
   "metadata": {
    "colab": {
     "base_uri": "https://localhost:8080/"
    },
    "executionInfo": {
     "elapsed": 14,
     "status": "ok",
     "timestamp": 1743234160061,
     "user": {
      "displayName": "Иван Кисляков",
      "userId": "06730424072294611424"
     },
     "user_tz": -180
    },
    "id": "dqlO5otd_W16",
    "outputId": "7ab70fe5-a6d0-4b8a-9339-6af5514e1934"
   },
   "outputs": [
    {
     "name": "stdout",
     "output_type": "stream",
     "text": [
      "[ True False False False False False False False False False]\n",
      "[ True  True  True  True  True  True False False False False]\n"
     ]
    }
   ],
   "source": [
    "arr1 = np.linspace(0, 90, 10)\n",
    "arr2 = np.arange(10)\n",
    "\n",
    "print(arr1 <= arr2)\n",
    "print(arr1 <= 55)\n",
    "\n"
   ]
  },
  {
   "cell_type": "markdown",
   "metadata": {
    "id": "BDyarYmF_W5l"
   },
   "source": [
    "**Задание 10.**\n",
    "\n",
    "Поработайте с такими значениями, как:\n",
    "\n",
    "\n",
    "```python\n",
    "np.inf\n",
    "np.nan\n",
    "-np.inf\n",
    "```\n",
    "Что будет, если применить к ним арифметические операции?\n",
    "\n",
    "Как вообще можно получить подобные значения?\n",
    "\n",
    "\n"
   ]
  },
  {
   "cell_type": "code",
   "execution_count": 95,
   "metadata": {
    "colab": {
     "base_uri": "https://localhost:8080/"
    },
    "executionInfo": {
     "elapsed": 6,
     "status": "ok",
     "timestamp": 1743234322482,
     "user": {
      "displayName": "Иван Кисляков",
      "userId": "06730424072294611424"
     },
     "user_tz": -180
    },
    "id": "37vpztdc_W5l",
    "outputId": "65219b0a-06b3-47a2-929e-4c678d930a0b"
   },
   "outputs": [
    {
     "name": "stdout",
     "output_type": "stream",
     "text": [
      "-inf\n",
      "0.0\n",
      "nan\n",
      "nan\n",
      "0.0\n",
      "ужас nan\n",
      "(6.123233995736766e-17+1j)\n"
     ]
    },
    {
     "name": "stderr",
     "output_type": "stream",
     "text": [
      "/var/folders/4q/nkzzk4wn2ml3phylc260cbkr0000gp/T/ipykernel_19546/169935999.py:6: RuntimeWarning: invalid value encountered in sqrt\n",
      "  print(\"ужас\", np.sqrt(-1))\n"
     ]
    }
   ],
   "source": [
    "print(-np.inf)\n",
    "print(1/np.inf)\n",
    "print(0 * np.inf)\n",
    "print(np.inf - np.inf)\n",
    "print(0 /np.inf)\n",
    "print(\"ужас\", np.sqrt(-1))\n",
    "print((-1) ** 0.5)"
   ]
  },
  {
   "cell_type": "markdown",
   "metadata": {
    "id": "sxvEHF-m_W-B"
   },
   "source": [
    "**Задание 11.**\n",
    "\n",
    "Воспользуйтесь следующим кодом, посмотрите, что он делает?\n",
    "\n",
    "Подумайте, как это можно использовать совместно с уже изученным материалом?\n",
    "\n",
    "```python\n",
    "filter = np.array([True, False, True])\n",
    "array = np.array([1, 2, 3])\n",
    "print(array[filter])\n",
    "array[filter] = -1\n",
    "print(array)\n",
    "```\n",
    "\n"
   ]
  },
  {
   "cell_type": "code",
   "execution_count": 97,
   "metadata": {
    "colab": {
     "base_uri": "https://localhost:8080/"
    },
    "executionInfo": {
     "elapsed": 4,
     "status": "ok",
     "timestamp": 1743234439752,
     "user": {
      "displayName": "Иван Кисляков",
      "userId": "06730424072294611424"
     },
     "user_tz": -180
    },
    "id": "jW_eTQ7X_W-B",
    "outputId": "11779b92-936d-47bf-b92a-25907c74ce43"
   },
   "outputs": [
    {
     "name": "stdout",
     "output_type": "stream",
     "text": [
      "[1 3]\n",
      "[-1  2 -1]\n"
     ]
    }
   ],
   "source": [
    "filter = np.array([True, False, True])\n",
    "array = np.array([1, 2, 3])\n",
    "print(array[filter])\n",
    "array[filter] = -1\n",
    "print(array)"
   ]
  },
  {
   "cell_type": "code",
   "execution_count": 99,
   "metadata": {
    "colab": {
     "base_uri": "https://localhost:8080/"
    },
    "executionInfo": {
     "elapsed": 39,
     "status": "ok",
     "timestamp": 1743234594909,
     "user": {
      "displayName": "Иван Кисляков",
      "userId": "06730424072294611424"
     },
     "user_tz": -180
    },
    "id": "QTlSjcfO3wKq",
    "outputId": "5ac47a1c-a0a3-4ed4-8e01-b31b865ac106"
   },
   "outputs": [
    {
     "name": "stdout",
     "output_type": "stream",
     "text": [
      "[2 1 3]\n"
     ]
    }
   ],
   "source": [
    "array = np.array([1, 2, 3])\n",
    "filter = np.array([1, 0, 2])\n",
    "print(array[filter])"
   ]
  },
  {
   "cell_type": "code",
   "execution_count": 102,
   "metadata": {
    "colab": {
     "base_uri": "https://localhost:8080/"
    },
    "executionInfo": {
     "elapsed": 21,
     "status": "ok",
     "timestamp": 1743234651935,
     "user": {
      "displayName": "Иван Кисляков",
      "userId": "06730424072294611424"
     },
     "user_tz": -180
    },
    "id": "jWjfHwYO4RgB",
    "outputId": "3163967b-b046-4ee0-d775-cfffd705431b"
   },
   "outputs": [
    {
     "name": "stdout",
     "output_type": "stream",
     "text": [
      "[2 3]\n"
     ]
    }
   ],
   "source": [
    "array = np.array([1, 2, 3])\n",
    "filter = array > 1\n",
    "array = array[filter]\n",
    "print(array)\n",
    "\n"
   ]
  },
  {
   "cell_type": "code",
   "execution_count": 103,
   "metadata": {},
   "outputs": [
    {
     "name": "stdout",
     "output_type": "stream",
     "text": [
      "[2 3]\n"
     ]
    }
   ],
   "source": [
    "array = np.array([1, 2, 3])\n",
    "print(array[array > 1])"
   ]
  },
  {
   "cell_type": "markdown",
   "metadata": {
    "id": "EI6H0pnG_XEF"
   },
   "source": [
    "**Задание 12.**\n",
    "\n",
    "Посмотрите на функции ниже и поймите, что они делают?\n",
    "\n",
    "\n",
    "```python\n",
    "matrix.sum()\n",
    "matrix.prod()\n",
    "matrix.max()\n",
    "matrix.min()\n",
    "matrix.mean()\n",
    "```\n",
    "\n"
   ]
  },
  {
   "cell_type": "code",
   "execution_count": 107,
   "metadata": {
    "id": "xiZK_G_v_XEG"
   },
   "outputs": [
    {
     "name": "stdout",
     "output_type": "stream",
     "text": [
      "[ 2.84138671 27.35863182 41.89994667 54.03498623 88.68531124 15.50052617\n",
      " 92.52319065 84.80761913 12.38237071 46.04442817 20.02624089 83.70956877\n",
      " 83.07484814 52.53281465  1.03986112 50.0861382  76.74193358 80.79231506\n",
      " 49.42262197 20.16328196 83.98768797 12.47853488 63.90693842 53.11339058\n",
      " 94.81124553 90.97030805 33.43868015 56.47879515 83.35604317 89.82850174\n",
      " 34.48078172 29.19488223 79.02329806 12.70542056 51.35159616 62.4056278\n",
      " 91.17619184 84.099454   77.31685838 48.11734431 63.69117292  8.69459166\n",
      " 32.36895659 84.52875502  2.25479769  7.45021093 66.72699337 74.94888715\n",
      " 18.20132582 37.12132789 50.95590777 64.74432403 63.56676845 88.05411268\n",
      "  5.47364664 42.20774012 26.20994188 51.06993747 25.39735682 34.78268849\n",
      " 81.92545299 94.76576171 19.38013045 96.54039157  8.29097766 80.8712125\n",
      " 55.90522694 91.06120919 80.46780614  3.84133893 37.59931612 65.86439368\n",
      " 23.35715369  4.43136887 22.73949045 37.70358595 15.43017739 64.39335426\n",
      " 45.59736874 63.43398707 44.10220252 83.35501285 38.16368499 79.05443241\n",
      " 11.94341683 81.47015197 17.50078617  0.27514573 48.68986965 41.9362348\n",
      " 99.85892528 75.87276264 80.78954626 30.62185921 69.52105039 70.3444964\n",
      " 19.30475    73.40777863 82.87951098 31.34304974]\n"
     ]
    }
   ],
   "source": [
    "array = np.random.random(100) * 100\n",
    "print(array)"
   ]
  },
  {
   "cell_type": "code",
   "execution_count": 115,
   "metadata": {
    "id": "JCLF0888BVsd"
   },
   "outputs": [
    {
     "name": "stdout",
     "output_type": "stream",
     "text": [
      "5138.393417663022\n",
      "0.0\n",
      "99.85892527629964\n",
      "0.27514573353735194\n",
      "2.5\n"
     ]
    }
   ],
   "source": [
    "print(array.sum())\n",
    "print(np.zeros(10).prod())\n",
    "print(array.max())\n",
    "print(array.min())\n",
    "print(np.array([1, 2, 3, 4]).mean())"
   ]
  },
  {
   "cell_type": "markdown",
   "metadata": {
    "id": "pBjQ_BSo_XHk"
   },
   "source": [
    "**Задание 13.**\n",
    "\n",
    "Посмотрите на функции ниже и поймите, что они делают?\n",
    "\n",
    "\n",
    "```python\n",
    "np.sqrt(number)\n",
    "np.exp(number)\n",
    "np.log(number)\n",
    "np.sin(number)\n",
    "np.cos(number)\n",
    "np.e\n",
    "np.pi\n",
    "```\n",
    "\n",
    "Попробуйте вписать matrix вместо number."
   ]
  },
  {
   "cell_type": "code",
   "execution_count": null,
   "metadata": {
    "id": "QyXIlHS0_XHl"
   },
   "outputs": [],
   "source": [
    "\n",
    "\n",
    "\n",
    "\n"
   ]
  },
  {
   "cell_type": "code",
   "execution_count": null,
   "metadata": {
    "id": "8wqBB0BdCpPP"
   },
   "outputs": [],
   "source": [
    "\n",
    "\n",
    "\n",
    "\n"
   ]
  },
  {
   "cell_type": "markdown",
   "metadata": {
    "id": "jY7xydMp_XP8"
   },
   "source": [
    "**Задание 14.**\n",
    "\n",
    "Поработайте с матрицами, воспользуйтесь следующими методами:\n",
    "\n",
    "\n",
    "\n",
    "```python\n",
    "matrix.transpose()\n",
    "np.rot90(matrix)\n",
    "np.rot90(matrix, -1)\n",
    "np.linalg.det(matrix)\n",
    "np.dot(matrix1, matrix2) # или @\n",
    "```"
   ]
  },
  {
   "cell_type": "code",
   "execution_count": 116,
   "metadata": {
    "id": "ERnOLk9P_XP-"
   },
   "outputs": [
    {
     "name": "stdout",
     "output_type": "stream",
     "text": [
      "[[0 1 2 3 4]\n",
      " [5 6 7 8 9]]\n"
     ]
    }
   ],
   "source": [
    "matrix = np.arange(0, 10).reshape(2, 5)\n",
    "print(matrix)"
   ]
  },
  {
   "cell_type": "code",
   "execution_count": 117,
   "metadata": {},
   "outputs": [
    {
     "name": "stdout",
     "output_type": "stream",
     "text": [
      "[[0 5]\n",
      " [1 6]\n",
      " [2 7]\n",
      " [3 8]\n",
      " [4 9]]\n"
     ]
    }
   ],
   "source": [
    "print(matrix.transpose())"
   ]
  },
  {
   "cell_type": "code",
   "execution_count": 120,
   "metadata": {
    "id": "xodV8d_dE_Dq"
   },
   "outputs": [
    {
     "name": "stdout",
     "output_type": "stream",
     "text": [
      "[[5 0]\n",
      " [6 1]\n",
      " [7 2]\n",
      " [8 3]\n",
      " [9 4]]\n"
     ]
    }
   ],
   "source": [
    "print(np.rot90(matrix, -1))"
   ]
  },
  {
   "cell_type": "code",
   "execution_count": 124,
   "metadata": {},
   "outputs": [
    {
     "name": "stdout",
     "output_type": "stream",
     "text": [
      "0.04383407807720529\n"
     ]
    }
   ],
   "source": [
    "print(np.linalg.det(np.random.random(25).reshape(5, 5)))"
   ]
  },
  {
   "cell_type": "code",
   "execution_count": 126,
   "metadata": {},
   "outputs": [
    {
     "data": {
      "text/plain": [
       "array([[  8,   9,  10],\n",
       "       [ 34,  39,  44],\n",
       "       [ 60,  69,  78],\n",
       "       [ 86,  99, 112],\n",
       "       [112, 129, 146]])"
      ]
     },
     "execution_count": 126,
     "metadata": {},
     "output_type": "execute_result"
    }
   ],
   "source": [
    "matrix1 = np.arange(10).reshape(5, 2)\n",
    "matrix2 = np.arange(5, 11).reshape(2, 3)\n",
    "\n",
    "np.dot(matrix1, matrix2)"
   ]
  },
  {
   "cell_type": "markdown",
   "metadata": {
    "id": "gRZsbz_F_nD0"
   },
   "source": [
    "**Задание 15.**\n",
    "\n",
    "Работа с массивами:\n",
    "\n",
    "\n",
    "\n",
    "```python\n",
    "np.hstack((matrix1, matrix2))\n",
    "np.hsplit(matrix, [pos1, pos2, pos3])\n",
    "np.delete(matrix, id)\n",
    "np.insert(matrix, id, [-1, -1, -1])\n",
    "np.append(matrix, matrix2)\n",
    "```\n",
    "\n"
   ]
  },
  {
   "cell_type": "code",
   "execution_count": null,
   "metadata": {
    "id": "ammKIGS3_nD2"
   },
   "outputs": [],
   "source": [
    "\n",
    "\n",
    "\n"
   ]
  },
  {
   "cell_type": "markdown",
   "metadata": {
    "id": "s2Jk5Xgc_oah"
   },
   "source": [
    "**Задание 16.**\n",
    "\n",
    "Создайте несколько двумерных матриц.\n",
    "\n",
    "Например, создайте единичную матрицу (np.eye(rang)).\n",
    "\n",
    "Воспользуйтесь методами поиска **вдоль оси**\n",
    "\n",
    "\n",
    "```python\n",
    "matrix.sum()\n",
    "matrix.sum(axis=0)\n",
    "matrix.sum(axis=1)\n",
    "\n",
    "matrix.max()\n",
    "matrix.max(axis=0)\n",
    "matrix.max(axis=1)\n",
    "```\n",
    "Подумайте, какие еще методы можно использовать для подобных вещей?\n"
   ]
  },
  {
   "cell_type": "code",
   "execution_count": 127,
   "metadata": {},
   "outputs": [
    {
     "name": "stdout",
     "output_type": "stream",
     "text": [
      "[[0 1]\n",
      " [2 3]\n",
      " [4 5]\n",
      " [6 7]\n",
      " [8 9]]\n"
     ]
    }
   ],
   "source": [
    "matrix = np.arange(10).reshape(5, 2)\n",
    "print(matrix)"
   ]
  },
  {
   "cell_type": "code",
   "execution_count": 130,
   "metadata": {},
   "outputs": [
    {
     "name": "stdout",
     "output_type": "stream",
     "text": [
      "45\n",
      "10\n",
      "(5, 2)\n"
     ]
    }
   ],
   "source": [
    "print(matrix.sum())\n",
    "print(matrix.size)\n",
    "print(matrix.shape)"
   ]
  },
  {
   "cell_type": "code",
   "execution_count": 132,
   "metadata": {},
   "outputs": [
    {
     "name": "stdout",
     "output_type": "stream",
     "text": [
      "[20 25]\n",
      "[ 1  5  9 13 17]\n"
     ]
    }
   ],
   "source": [
    "print(matrix.sum(axis=0))\n",
    "print(matrix.sum(axis=1))"
   ]
  },
  {
   "cell_type": "code",
   "execution_count": 140,
   "metadata": {},
   "outputs": [
    {
     "name": "stdout",
     "output_type": "stream",
     "text": [
      "[[1. 0. 0. 0.]\n",
      " [0. 2. 0. 0.]\n",
      " [0. 0. 3. 0.]\n",
      " [0. 0. 0. 4.]]\n"
     ]
    }
   ],
   "source": [
    "print((np.eye(4) * np.arange(1, 5)))"
   ]
  },
  {
   "cell_type": "code",
   "execution_count": 138,
   "metadata": {},
   "outputs": [
    {
     "name": "stdout",
     "output_type": "stream",
     "text": [
      "[1. 2. 3. 4.]\n"
     ]
    }
   ],
   "source": [
    "print((np.eye(4) * np.arange(1, 5)).max(axis=0))"
   ]
  },
  {
   "cell_type": "markdown",
   "metadata": {
    "id": "mQkeJM5l_oi9"
   },
   "source": [
    "**Задание 17.**\n",
    "\n",
    "Отсортируйте одномерный массив:\n",
    "\n",
    "```python\n",
    "np.sort(matrix)\n",
    "```\n",
    "\n",
    "А потом двумерный:\n",
    "\n",
    "```python\n",
    "np.sort(matrix)\n",
    "np.sort(matrix, axis=0)\n",
    "np.sort(matrix, axis=1)\n",
    "np.sort(matrix, axis=None)\n",
    "```\n"
   ]
  },
  {
   "cell_type": "code",
   "execution_count": null,
   "metadata": {
    "id": "6958_bes_oi_"
   },
   "outputs": [],
   "source": [
    "\n",
    "\n",
    "\n",
    "\n"
   ]
  },
  {
   "cell_type": "markdown",
   "metadata": {
    "id": "KG69Dcda_op7"
   },
   "source": [
    "**Задание 18.**\n",
    "\n",
    "Создайте массив arr из 20 случайных целых чисел от 0 до 100.\n",
    "\n",
    "Найдите максимальное, минимальное и среднее значение в этом массиве.\n",
    "\n",
    "Измените форму массива на (5, 4).\n",
    "\n",
    "Отсортируйте каждую строку получившейся матрицы.\n"
   ]
  },
  {
   "cell_type": "code",
   "execution_count": null,
   "metadata": {
    "id": "kKEgPwv2_op8"
   },
   "outputs": [],
   "source": [
    "\n",
    "\n",
    "\n",
    "\n"
   ]
  },
  {
   "cell_type": "markdown",
   "metadata": {
    "id": "1QNyKo49_ov-"
   },
   "source": [
    "**Задание 19.**\n",
    "\n",
    "Создайте две матрицы A (3x3) и B (3x3) со случайными значениями от 1 до 10.\n",
    "\n",
    "Вычислите:\n",
    "\n",
    "Произведение матриц (A @ B).\n",
    "\n",
    "Поэлементное умножение (A * B).\n",
    "\n",
    "Определитель матрицы A.\n",
    "\n",
    "Решите систему линейных уравнений:\n",
    "\n",
    "A · X = C, где C = [5, 10, 15]."
   ]
  },
  {
   "cell_type": "code",
   "execution_count": null,
   "metadata": {
    "id": "sdzUCrW0_ov-"
   },
   "outputs": [],
   "source": [
    "\n",
    "\n",
    "\n",
    "\n"
   ]
  },
  {
   "cell_type": "markdown",
   "metadata": {
    "id": "izkyCjxp_o47"
   },
   "source": [
    "**Задание 20.**\n",
    "\n",
    "Создайте массив data из 100 случайных чисел в диапазоне [-10, 10].\n",
    "\n",
    "Замените все отрицательные числа в data на 0.\n",
    "\n",
    "Найдите индексы элементов, которые больше 5.\n",
    "\n",
    "Используя булеву маску, выберите только чётные числа из data."
   ]
  },
  {
   "cell_type": "code",
   "execution_count": null,
   "metadata": {
    "id": "OLVq7lDt_o48"
   },
   "outputs": [],
   "source": [
    "\n",
    "\n",
    "\n",
    "\n"
   ]
  },
  {
   "cell_type": "markdown",
   "metadata": {
    "id": "DmkBuwjvC9mw"
   },
   "source": [
    "**Задание 21.**\n",
    "\n",
    "Создайте массив из 30 случайных чисел от 0 до 100.\n",
    "\n",
    "Оставьте только числа, которые:\n",
    "\n",
    "Больше 50.\n",
    "\n",
    "Делится на 3 без остатка."
   ]
  },
  {
   "cell_type": "code",
   "execution_count": null,
   "metadata": {
    "id": "lnXblidtC-kx"
   },
   "outputs": [],
   "source": [
    "\n",
    "\n",
    "\n",
    "\n"
   ]
  }
 ],
 "metadata": {
  "colab": {
   "authorship_tag": "ABX9TyMMcgqASz9YAm+DE1w6VfVH",
   "provenance": []
  },
  "kernelspec": {
   "display_name": "Python 3 (ipykernel)",
   "language": "python",
   "name": "python3"
  },
  "language_info": {
   "codemirror_mode": {
    "name": "ipython",
    "version": 3
   },
   "file_extension": ".py",
   "mimetype": "text/x-python",
   "name": "python",
   "nbconvert_exporter": "python",
   "pygments_lexer": "ipython3",
   "version": "3.11.3"
  }
 },
 "nbformat": 4,
 "nbformat_minor": 1
}
