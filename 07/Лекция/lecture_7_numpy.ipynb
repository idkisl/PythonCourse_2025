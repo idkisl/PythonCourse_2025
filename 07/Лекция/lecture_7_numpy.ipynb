{
 "cells": [
  {
   "cell_type": "markdown",
   "metadata": {
    "id": "ExFQDpnP_GZa"
   },
   "source": [
    "## Лекция 7\n",
    "### Модуль NumPy\n",
    "\n",
    "Лекция прочитана Иваном Кисляковым. Разрешено к использованию в некоммерческих образовательных целях. "
   ]
  },
  {
   "cell_type": "markdown",
   "metadata": {
    "id": "wcSnrJ8V0AKL"
   },
   "source": [
    "Текущее занятие во многом опирается на материал [лекций](https://miptstats.github.io/courses/python/05_numpy.html) miptStats"
   ]
  },
  {
   "cell_type": "markdown",
   "metadata": {
    "id": "U848xNgn_KEp"
   },
   "source": [
    "**Задание 1.**\n",
    "\n",
    "Какие существую плюсы и минусы языка Python? С чем это связано?"
   ]
  },
  {
   "cell_type": "markdown",
   "metadata": {
    "id": "n1j6BT9I_U8r"
   },
   "source": [
    "**Задание 2.**\n",
    "\n",
    "Узнайте, как и зачем можно замерять время работы программы?\n",
    "\n",
    "Воспользуйтесь модулем [timeit](https://docs.python.org/3/library/timeit.html)\n",
    "\n",
    "\n",
    "\n",
    "```python\n",
    "import timeit\n",
    "timeit.timeit(\"print('hi')\", number=1)\n",
    "```\n",
    "\n"
   ]
  },
  {
   "cell_type": "code",
   "execution_count": null,
   "metadata": {
    "colab": {
     "base_uri": "https://localhost:8080/"
    },
    "executionInfo": {
     "elapsed": 1576,
     "status": "ok",
     "timestamp": 1743231362992,
     "user": {
      "displayName": "Иван Кисляков",
      "userId": "06730424072294611424"
     },
     "user_tz": -180
    },
    "id": "DuYxn9dw_U8v",
    "outputId": "a7884512-ac72-41cb-d849-215ec17be35d"
   },
   "outputs": [],
   "source": [
    "\n",
    "\n",
    "\n"
   ]
  },
  {
   "cell_type": "markdown",
   "metadata": {
    "id": "KJxIQoiC_VbS"
   },
   "source": [
    "**Задание 3.**\n",
    "\n",
    "Воспользуйтесь библиотекой **numpy**.\n",
    "\n",
    "Что такое **массив**?\n",
    "\n",
    "В чем категорическое различие со списками?\n",
    "\n",
    "```python\n",
    "import numpy as np\n",
    "np.array(...)\n",
    "```\n",
    "\n"
   ]
  },
  {
   "cell_type": "code",
   "execution_count": null,
   "metadata": {
    "colab": {
     "base_uri": "https://localhost:8080/"
    },
    "executionInfo": {
     "elapsed": 5,
     "status": "ok",
     "timestamp": 1743230902297,
     "user": {
      "displayName": "Иван Кисляков",
      "userId": "06730424072294611424"
     },
     "user_tz": -180
    },
    "id": "GSLgyt4z_VbU",
    "outputId": "bfcafd11-21c1-4677-c6cf-6a00295e504d"
   },
   "outputs": [],
   "source": [
    "\n",
    "\n",
    "\n"
   ]
  },
  {
   "cell_type": "code",
   "execution_count": null,
   "metadata": {
    "colab": {
     "base_uri": "https://localhost:8080/"
    },
    "executionInfo": {
     "elapsed": 13,
     "status": "ok",
     "timestamp": 1743231011698,
     "user": {
      "displayName": "Иван Кисляков",
      "userId": "06730424072294611424"
     },
     "user_tz": -180
    },
    "id": "vWuAduNmqOy-",
    "outputId": "12fb8c4a-1c58-4039-cb70-4d190e319404"
   },
   "outputs": [],
   "source": [
    "\n",
    "\n",
    "\n"
   ]
  },
  {
   "cell_type": "code",
   "execution_count": null,
   "metadata": {
    "colab": {
     "base_uri": "https://localhost:8080/",
     "height": 190
    },
    "executionInfo": {
     "elapsed": 37,
     "status": "error",
     "timestamp": 1743231072856,
     "user": {
      "displayName": "Иван Кисляков",
      "userId": "06730424072294611424"
     },
     "user_tz": -180
    },
    "id": "LY2ZSgoeqtQ5",
    "outputId": "7cd663b1-3ea4-4083-d560-57cba8cbe6e6"
   },
   "outputs": [],
   "source": [
    "\n",
    "\n",
    "\n"
   ]
  },
  {
   "cell_type": "markdown",
   "metadata": {
    "id": "Wpb0r-ZF_V6p"
   },
   "source": [
    "**Задание 4.**\n",
    "\n",
    "Воспользуйтесь атрибутом ``` array.dtype```\n",
    "\n",
    "Попробуйте изменить тип данных элементов в массиве с помощью именнованного аргумента конструктора dtype."
   ]
  },
  {
   "cell_type": "code",
   "execution_count": null,
   "metadata": {
    "id": "RCTxIejv_V6r"
   },
   "outputs": [],
   "source": [
    "\n",
    "\n",
    "\n",
    "\n"
   ]
  },
  {
   "cell_type": "markdown",
   "metadata": {
    "id": "UMJFyTXL_WI3"
   },
   "source": [
    "**Задание 5.**\n",
    "\n",
    "Воспользуйтесь функцией shape и reshape.\n",
    "\n",
    "В чем различие с size()?"
   ]
  },
  {
   "cell_type": "code",
   "execution_count": null,
   "metadata": {
    "colab": {
     "base_uri": "https://localhost:8080/"
    },
    "executionInfo": {
     "elapsed": 4,
     "status": "ok",
     "timestamp": 1743231784338,
     "user": {
      "displayName": "Иван Кисляков",
      "userId": "06730424072294611424"
     },
     "user_tz": -180
    },
    "id": "8tAoTPUX_WI5",
    "outputId": "760fccab-c96c-4f81-e1b2-62851597a9ad"
   },
   "outputs": [],
   "source": [
    "\n",
    "\n",
    "\n"
   ]
  },
  {
   "cell_type": "markdown",
   "metadata": {
    "id": "kc_8VKOrecLL"
   },
   "source": [
    "**Задание 6.**\n",
    "\n",
    "Попробуйте различную индексацию в двумерных массивах?\n",
    "\n",
    "Работают ли срезки?\n",
    "\n",
    "Попробуйте обращение аналогичное хранению пикселей в pillow, работает ли оно?"
   ]
  },
  {
   "cell_type": "code",
   "execution_count": null,
   "metadata": {
    "colab": {
     "base_uri": "https://localhost:8080/"
    },
    "executionInfo": {
     "elapsed": 12,
     "status": "ok",
     "timestamp": 1743232152327,
     "user": {
      "displayName": "Иван Кисляков",
      "userId": "06730424072294611424"
     },
     "user_tz": -180
    },
    "id": "f2G54IHCedXg",
    "outputId": "b423772a-adef-43d4-a91e-6af37bf1ae87"
   },
   "outputs": [],
   "source": [
    "\n",
    "\n",
    "\n"
   ]
  },
  {
   "cell_type": "markdown",
   "metadata": {
    "id": "-2tVHWrV_Wf7"
   },
   "source": [
    "**Задание 7.**\n",
    "\n",
    "Существует различные способы заполнения массива данными по умолчанию. К примеру:\n",
    "\n",
    "```python\n",
    "np.ones(10)\n",
    "np.zeros(10)\n",
    "np.arange(10)\n",
    "np.random.random(10)\n",
    "np.random.randint(0, 10)\n",
    "np.linspace(0, 10, 4)\n",
    "np.fromstring(\"10_20_30\", sep=\"_\")\n",
    "```\n",
    "Воспользуйтесь последовательным (массовым) применением функций.\n"
   ]
  },
  {
   "cell_type": "code",
   "execution_count": null,
   "metadata": {
    "colab": {
     "base_uri": "https://localhost:8080/"
    },
    "executionInfo": {
     "elapsed": 6,
     "status": "ok",
     "timestamp": 1743232897592,
     "user": {
      "displayName": "Иван Кисляков",
      "userId": "06730424072294611424"
     },
     "user_tz": -180
    },
    "id": "gXZSPPIx_Wf8",
    "outputId": "6c64e01f-b75a-42f9-e818-dc5962c2aef1"
   },
   "outputs": [],
   "source": [
    "\n",
    "\n",
    "\n"
   ]
  },
  {
   "cell_type": "code",
   "execution_count": null,
   "metadata": {
    "colab": {
     "base_uri": "https://localhost:8080/"
    },
    "executionInfo": {
     "elapsed": 249,
     "status": "ok",
     "timestamp": 1743233025588,
     "user": {
      "displayName": "Иван Кисляков",
      "userId": "06730424072294611424"
     },
     "user_tz": -180
    },
    "id": "7_NbeTmW8HeY",
    "outputId": "119f68af-dd8c-435a-9e64-1fe4bca58acd"
   },
   "outputs": [],
   "source": [
    "\n",
    "\n",
    "\n"
   ]
  },
  {
   "cell_type": "markdown",
   "metadata": {
    "id": "fT7v7Mry_Wud"
   },
   "source": [
    "**Задание 8.**\n",
    "\n",
    "Примените различные математические операции к двум массивам.\n",
    "\n",
    "Не забывайте про составные операторы присваивания."
   ]
  },
  {
   "cell_type": "code",
   "execution_count": null,
   "metadata": {
    "colab": {
     "base_uri": "https://localhost:8080/"
    },
    "executionInfo": {
     "elapsed": 6,
     "status": "ok",
     "timestamp": 1743233380713,
     "user": {
      "displayName": "Иван Кисляков",
      "userId": "06730424072294611424"
     },
     "user_tz": -180
    },
    "id": "PtzhvPQQ_Wud",
    "outputId": "62b2be1b-a924-42aa-d666-49ba9a423305"
   },
   "outputs": [],
   "source": [
    "\n",
    "\n",
    "\n"
   ]
  },
  {
   "cell_type": "code",
   "execution_count": null,
   "metadata": {
    "colab": {
     "base_uri": "https://localhost:8080/"
    },
    "executionInfo": {
     "elapsed": 6,
     "status": "ok",
     "timestamp": 1743233765049,
     "user": {
      "displayName": "Иван Кисляков",
      "userId": "06730424072294611424"
     },
     "user_tz": -180
    },
    "id": "55PHI_AOzn0r",
    "outputId": "201aef9b-a3e2-47d2-a871-f891fb5a80cf"
   },
   "outputs": [],
   "source": [
    "\n",
    "\n",
    "\n"
   ]
  },
  {
   "cell_type": "code",
   "execution_count": null,
   "metadata": {
    "colab": {
     "base_uri": "https://localhost:8080/"
    },
    "executionInfo": {
     "elapsed": 17,
     "status": "ok",
     "timestamp": 1743233912081,
     "user": {
      "displayName": "Иван Кисляков",
      "userId": "06730424072294611424"
     },
     "user_tz": -180
    },
    "id": "BBf7jQnY1NAu",
    "outputId": "f4a98623-54fe-4487-fdd8-a71e6e7debe5"
   },
   "outputs": [],
   "source": [
    "\n",
    "\n",
    "\n"
   ]
  },
  {
   "cell_type": "markdown",
   "metadata": {
    "id": "veTLqurj_W15"
   },
   "source": [
    "**Задание 9.**\n",
    "\n",
    "Примените различные знаки сравнения к двум массивам (или массив и число)."
   ]
  },
  {
   "cell_type": "code",
   "execution_count": null,
   "metadata": {
    "colab": {
     "base_uri": "https://localhost:8080/"
    },
    "executionInfo": {
     "elapsed": 14,
     "status": "ok",
     "timestamp": 1743234160061,
     "user": {
      "displayName": "Иван Кисляков",
      "userId": "06730424072294611424"
     },
     "user_tz": -180
    },
    "id": "dqlO5otd_W16",
    "outputId": "7ab70fe5-a6d0-4b8a-9339-6af5514e1934"
   },
   "outputs": [],
   "source": [
    "\n",
    "\n",
    "\n"
   ]
  },
  {
   "cell_type": "markdown",
   "metadata": {
    "id": "BDyarYmF_W5l"
   },
   "source": [
    "**Задание 10.**\n",
    "\n",
    "Поработайте с такими значениями, как:\n",
    "\n",
    "\n",
    "```python\n",
    "np.inf\n",
    "np.nan\n",
    "-np.inf\n",
    "```\n",
    "Что будет, если применить к ним арифметические операции?\n",
    "\n",
    "Как вообще можно получить подобные значения?\n",
    "\n",
    "\n"
   ]
  },
  {
   "cell_type": "code",
   "execution_count": null,
   "metadata": {
    "colab": {
     "base_uri": "https://localhost:8080/"
    },
    "executionInfo": {
     "elapsed": 6,
     "status": "ok",
     "timestamp": 1743234322482,
     "user": {
      "displayName": "Иван Кисляков",
      "userId": "06730424072294611424"
     },
     "user_tz": -180
    },
    "id": "37vpztdc_W5l",
    "outputId": "65219b0a-06b3-47a2-929e-4c678d930a0b"
   },
   "outputs": [],
   "source": [
    "\n",
    "\n",
    "\n"
   ]
  },
  {
   "cell_type": "markdown",
   "metadata": {
    "id": "sxvEHF-m_W-B"
   },
   "source": [
    "**Задание 11.**\n",
    "\n",
    "Воспользуйтесь следующим кодом, посмотрите, что он делает?\n",
    "\n",
    "Подумайте, как это можно использовать совместно с уже изученным материалом?\n",
    "\n",
    "```python\n",
    "filter = np.array([True, False, True])\n",
    "array = np.array([1, 2, 3])\n",
    "print(array[filter])\n",
    "array[filter] = -1\n",
    "print(array)\n",
    "```\n",
    "\n"
   ]
  },
  {
   "cell_type": "code",
   "execution_count": null,
   "metadata": {
    "colab": {
     "base_uri": "https://localhost:8080/"
    },
    "executionInfo": {
     "elapsed": 4,
     "status": "ok",
     "timestamp": 1743234439752,
     "user": {
      "displayName": "Иван Кисляков",
      "userId": "06730424072294611424"
     },
     "user_tz": -180
    },
    "id": "jW_eTQ7X_W-B",
    "outputId": "11779b92-936d-47bf-b92a-25907c74ce43"
   },
   "outputs": [],
   "source": [
    "\n",
    "\n",
    "\n"
   ]
  },
  {
   "cell_type": "code",
   "execution_count": null,
   "metadata": {
    "colab": {
     "base_uri": "https://localhost:8080/"
    },
    "executionInfo": {
     "elapsed": 39,
     "status": "ok",
     "timestamp": 1743234594909,
     "user": {
      "displayName": "Иван Кисляков",
      "userId": "06730424072294611424"
     },
     "user_tz": -180
    },
    "id": "QTlSjcfO3wKq",
    "outputId": "5ac47a1c-a0a3-4ed4-8e01-b31b865ac106"
   },
   "outputs": [],
   "source": [
    "\n",
    "\n",
    "\n"
   ]
  },
  {
   "cell_type": "code",
   "execution_count": null,
   "metadata": {
    "colab": {
     "base_uri": "https://localhost:8080/"
    },
    "executionInfo": {
     "elapsed": 21,
     "status": "ok",
     "timestamp": 1743234651935,
     "user": {
      "displayName": "Иван Кисляков",
      "userId": "06730424072294611424"
     },
     "user_tz": -180
    },
    "id": "jWjfHwYO4RgB",
    "outputId": "3163967b-b046-4ee0-d775-cfffd705431b"
   },
   "outputs": [],
   "source": [
    "\n",
    "\n",
    "\n"
   ]
  },
  {
   "cell_type": "markdown",
   "metadata": {
    "id": "EI6H0pnG_XEF"
   },
   "source": [
    "**Задание 12.**\n",
    "\n",
    "Посмотрите на функции ниже и поймите, что они делают?\n",
    "\n",
    "\n",
    "```python\n",
    "matrix.sum()\n",
    "matrix.prod()\n",
    "matrix.max()\n",
    "matrix.min()\n",
    "matrix.mean()\n",
    "```\n",
    "\n"
   ]
  },
  {
   "cell_type": "code",
   "execution_count": null,
   "metadata": {
    "id": "xiZK_G_v_XEG"
   },
   "outputs": [],
   "source": [
    "\n",
    "\n",
    "\n",
    "\n"
   ]
  },
  {
   "cell_type": "code",
   "execution_count": null,
   "metadata": {
    "id": "JCLF0888BVsd"
   },
   "outputs": [],
   "source": [
    "\n",
    "\n",
    "\n",
    "\n"
   ]
  },
  {
   "cell_type": "markdown",
   "metadata": {
    "id": "pBjQ_BSo_XHk"
   },
   "source": [
    "**Задание 13.**\n",
    "\n",
    "Посмотрите на функции ниже и поймите, что они делают?\n",
    "\n",
    "\n",
    "```python\n",
    "np.sqrt(number)\n",
    "np.exp(number)\n",
    "np.log(number)\n",
    "np.sin(number)\n",
    "np.cos(number)\n",
    "np.e\n",
    "np.pi\n",
    "```\n",
    "\n",
    "Попробуйте вписать matrix вместо number."
   ]
  },
  {
   "cell_type": "code",
   "execution_count": null,
   "metadata": {
    "id": "QyXIlHS0_XHl"
   },
   "outputs": [],
   "source": [
    "\n",
    "\n",
    "\n",
    "\n"
   ]
  },
  {
   "cell_type": "code",
   "execution_count": null,
   "metadata": {
    "id": "8wqBB0BdCpPP"
   },
   "outputs": [],
   "source": [
    "\n",
    "\n",
    "\n",
    "\n"
   ]
  },
  {
   "cell_type": "markdown",
   "metadata": {
    "id": "jY7xydMp_XP8"
   },
   "source": [
    "**Задание 14.**\n",
    "\n",
    "Поработайте с матрицами, воспользуйтесь следующими методами:\n",
    "\n",
    "\n",
    "\n",
    "```python\n",
    "matrix.transpose()\n",
    "np.rot90(matrix)\n",
    "np.rot90(matrix, -1)\n",
    "np.linalg.det(matrix)\n",
    "np.dot(matrix1, mtrix2) # или @\n",
    "```"
   ]
  },
  {
   "cell_type": "code",
   "execution_count": null,
   "metadata": {
    "id": "ERnOLk9P_XP-"
   },
   "outputs": [],
   "source": [
    "\n",
    "\n",
    "\n",
    "\n"
   ]
  },
  {
   "cell_type": "code",
   "execution_count": null,
   "metadata": {
    "id": "xodV8d_dE_Dq"
   },
   "outputs": [],
   "source": [
    "\n",
    "\n",
    "\n",
    "\n"
   ]
  },
  {
   "cell_type": "markdown",
   "metadata": {
    "id": "gRZsbz_F_nD0"
   },
   "source": [
    "**Задание 15.**\n",
    "\n",
    "Работа с массивами:\n",
    "\n",
    "\n",
    "\n",
    "```python\n",
    "np.hstack((matrix1, matrix2))\n",
    "np.hsplit(matrix, [pos1, pos2, pos3])\n",
    "np.delete(matrix, id)\n",
    "np.insert(matrix, id, [-1, -1, -1])\n",
    "np.append(matrix, matrix2)\n",
    "```\n",
    "\n"
   ]
  },
  {
   "cell_type": "code",
   "execution_count": null,
   "metadata": {
    "id": "ammKIGS3_nD2"
   },
   "outputs": [],
   "source": [
    "\n",
    "\n",
    "\n"
   ]
  },
  {
   "cell_type": "markdown",
   "metadata": {
    "id": "s2Jk5Xgc_oah"
   },
   "source": [
    "**Задание 16.**\n",
    "\n",
    "Создайте несколько двумерных матриц.\n",
    "\n",
    "Например, создайте единичную матрицу (np.eye(rang)).\n",
    "\n",
    "Воспользуйтесь методами поиска **вдоль оси**\n",
    "\n",
    "\n",
    "```python\n",
    "matrix.sum()\n",
    "matrix.sum(axis=0)\n",
    "matrix.sum(axis=1)\n",
    "\n",
    "matrix.max()\n",
    "matrix.max(axis=0)\n",
    "matrix.max(axis=1)\n",
    "```\n",
    "Подумайте, какие еще методы можно использовать для подобных вещей?\n"
   ]
  },
  {
   "cell_type": "code",
   "execution_count": null,
   "metadata": {
    "id": "AiMfQ9to_oaj"
   },
   "outputs": [],
   "source": [
    "\n",
    "\n",
    "\n",
    "\n"
   ]
  },
  {
   "cell_type": "markdown",
   "metadata": {
    "id": "mQkeJM5l_oi9"
   },
   "source": [
    "**Задание 17.**\n",
    "\n",
    "Отсортируйте одномерный массив:\n",
    "\n",
    "```python\n",
    "np.sort(matrix)\n",
    "```\n",
    "\n",
    "А потом двумерный:\n",
    "\n",
    "```python\n",
    "np.sort(matrix)\n",
    "np.sort(matrix, axis=0)\n",
    "np.sort(matrix, axis=1)\n",
    "np.sort(matrix, axis=None)\n",
    "```\n"
   ]
  },
  {
   "cell_type": "code",
   "execution_count": null,
   "metadata": {
    "id": "6958_bes_oi_"
   },
   "outputs": [],
   "source": [
    "\n",
    "\n",
    "\n",
    "\n"
   ]
  },
  {
   "cell_type": "markdown",
   "metadata": {
    "id": "KG69Dcda_op7"
   },
   "source": [
    "**Задание 18.**\n",
    "\n",
    "Создайте массив arr из 20 случайных целых чисел от 0 до 100.\n",
    "\n",
    "Найдите максимальное, минимальное и среднее значение в этом массиве.\n",
    "\n",
    "Измените форму массива на (5, 4).\n",
    "\n",
    "Отсортируйте каждую строку получившейся матрицы.\n"
   ]
  },
  {
   "cell_type": "code",
   "execution_count": null,
   "metadata": {
    "id": "kKEgPwv2_op8"
   },
   "outputs": [],
   "source": [
    "\n",
    "\n",
    "\n",
    "\n"
   ]
  },
  {
   "cell_type": "markdown",
   "metadata": {
    "id": "1QNyKo49_ov-"
   },
   "source": [
    "**Задание 19.**\n",
    "\n",
    "Создайте две матрицы A (3x3) и B (3x3) со случайными значениями от 1 до 10.\n",
    "\n",
    "Вычислите:\n",
    "\n",
    "Произведение матриц (A @ B).\n",
    "\n",
    "Поэлементное умножение (A * B).\n",
    "\n",
    "Определитель матрицы A.\n",
    "\n",
    "Решите систему линейных уравнений:\n",
    "\n",
    "A · X = C, где C = [5, 10, 15]."
   ]
  },
  {
   "cell_type": "code",
   "execution_count": null,
   "metadata": {
    "id": "sdzUCrW0_ov-"
   },
   "outputs": [],
   "source": [
    "\n",
    "\n",
    "\n",
    "\n"
   ]
  },
  {
   "cell_type": "markdown",
   "metadata": {
    "id": "izkyCjxp_o47"
   },
   "source": [
    "**Задание 20.**\n",
    "\n",
    "Создайте массив data из 100 случайных чисел в диапазоне [-10, 10].\n",
    "\n",
    "Замените все отрицательные числа в data на 0.\n",
    "\n",
    "Найдите индексы элементов, которые больше 5.\n",
    "\n",
    "Используя булеву маску, выберите только чётные числа из data."
   ]
  },
  {
   "cell_type": "code",
   "execution_count": null,
   "metadata": {
    "id": "OLVq7lDt_o48"
   },
   "outputs": [],
   "source": [
    "\n",
    "\n",
    "\n",
    "\n"
   ]
  },
  {
   "cell_type": "markdown",
   "metadata": {
    "id": "DmkBuwjvC9mw"
   },
   "source": [
    "**Задание 21.**\n",
    "\n",
    "Создайте массив из 30 случайных чисел от 0 до 100.\n",
    "\n",
    "Оставьте только числа, которые:\n",
    "\n",
    "Больше 50.\n",
    "\n",
    "Делится на 3 без остатка."
   ]
  },
  {
   "cell_type": "code",
   "execution_count": null,
   "metadata": {
    "id": "lnXblidtC-kx"
   },
   "outputs": [],
   "source": [
    "\n",
    "\n",
    "\n",
    "\n"
   ]
  }
 ],
 "metadata": {
  "colab": {
   "authorship_tag": "ABX9TyMMcgqASz9YAm+DE1w6VfVH",
   "provenance": []
  },
  "kernelspec": {
   "display_name": "Python 3 (ipykernel)",
   "language": "python",
   "name": "python3"
  },
  "language_info": {
   "codemirror_mode": {
    "name": "ipython",
    "version": 3
   },
   "file_extension": ".py",
   "mimetype": "text/x-python",
   "name": "python",
   "nbconvert_exporter": "python",
   "pygments_lexer": "ipython3",
   "version": "3.11.3"
  }
 },
 "nbformat": 4,
 "nbformat_minor": 1
}
