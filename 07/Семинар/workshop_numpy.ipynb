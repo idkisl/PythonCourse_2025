{
 "cells": [
  {
   "cell_type": "markdown",
   "id": "de9af5b1",
   "metadata": {},
   "source": [
    "\n",
    "# Семинар: NumPy - быстрые векторы и матрицы в Python\n"
   ]
  },
  {
   "cell_type": "markdown",
   "id": "41942683",
   "metadata": {},
   "source": [
    "\n",
    "**Полезные ссылки:**  \n",
    "- [Официальная документация numpy](https://numpy.org/doc/stable/index.html)  \n",
    "- [Руководство пользователя (*User Guide*)](https://numpy.org/doc/stable/user/index.html#user)\n",
    "- [Справочник API (*API Reference*)](https://numpy.org/doc/stable/reference/index.html#reference)\n"
   ]
  },
  {
   "cell_type": "markdown",
   "id": "ef0ba142",
   "metadata": {},
   "source": [
    "### Задача 1.\n",
    "- Создайте boolean массив `a` из 10 нулей и замените 5‑й элемент на 1."
   ]
  },
  {
   "cell_type": "code",
   "execution_count": 1,
   "id": "78bee86f",
   "metadata": {},
   "outputs": [],
   "source": [
    "# Ваше решение:\n",
    "\n"
   ]
  },
  {
   "cell_type": "markdown",
   "id": "8309a64f",
   "metadata": {},
   "source": [
    "### Задача 2. \n",
    "- Создайте массив целых чисел от 10 до 49 включительно\n",
    "- Выведите все четные значения.\n",
    "- Замените нечетные значения на -1.\n",
    "- Сделайте замену четных значений на 0 без изменения исходного массива"
   ]
  },
  {
   "cell_type": "code",
   "execution_count": 3,
   "id": "28ad7ebb",
   "metadata": {},
   "outputs": [],
   "source": [
    "# Ваше решение:\n",
    "\n"
   ]
  },
  {
   "cell_type": "markdown",
   "id": "9b8a66f4",
   "metadata": {},
   "source": [
    "### Задача 3.\n",
    "- Создайте матрицу 3×3 со значениями от 0 до 8.\n",
    "- Создайте массив из 15 значений и конвертуйте его в 2d массив с двумя строками\n",
    "- Создайте два массива и объедините их вертикально и горизонтально"
   ]
  },
  {
   "cell_type": "code",
   "execution_count": 5,
   "id": "c2307cb0",
   "metadata": {},
   "outputs": [],
   "source": [
    "# Ваше решение:\n"
   ]
  },
  {
   "cell_type": "markdown",
   "id": "551a3a84",
   "metadata": {},
   "source": [
    "### Задача 4. \n",
    "- Найдите индексы ненулевых элементов в массиве `[1, 0, 2, 0, 0, 3, 2, 6, 1, 9, 10, 3, 27]`.\n",
    "- Найдите все значения от 5 до 10 в этом же массиве\n",
    "- В каких позициях совпадают значения массива `[7, 2, 10, 2, 7, 4, 9, 4, 9, 8]` с массивом из пункта 1\n",
    "- Удалите все значения массива из пункта 1, которые есть в массиве из пункта 3"
   ]
  },
  {
   "cell_type": "code",
   "execution_count": 6,
   "id": "73665ba6",
   "metadata": {},
   "outputs": [],
   "source": [
    "\n",
    "# Ваше решение:"
   ]
  },
  {
   "cell_type": "markdown",
   "id": "1c27a77d",
   "metadata": {},
   "source": [
    "### Задача 5.\n",
    " - Создайте 3×3 случайную матрицу и нормализуйте столбцы (сумма каждого столбца = 1).\n",
    " - Замените все элементы, большие среднего, на среднее."
   ]
  },
  {
   "cell_type": "code",
   "execution_count": 7,
   "id": "6d217b7e",
   "metadata": {},
   "outputs": [],
   "source": [
    "\n",
    "# Ваше решение:"
   ]
  },
  {
   "cell_type": "markdown",
   "id": "bb321bb8",
   "metadata": {},
   "source": [
    "### Задача 6.\n",
    " - Создайте 3×3 матрицу со значениями от 0 до 9\n",
    " - Поменяйте 1-ую и 2-ую строку местами\n",
    " - Поменяйте 1-ый и 2-ой столбец местами\n",
    " - Разверните строки\n",
    " - Разверните столбцы"
   ]
  },
  {
   "cell_type": "code",
   "execution_count": 8,
   "id": "f0ed2f93",
   "metadata": {},
   "outputs": [],
   "source": [
    "\n",
    "# Ваше решение:\n"
   ]
  },
  {
   "cell_type": "markdown",
   "id": "344ff708",
   "metadata": {},
   "source": [
    "### Задача 7. \n",
    "- Сгенерируйте массив 1000 случайных чисел `N(0,1)`.\n",
    "- Найдите 95‑й перцентиль."
   ]
  },
  {
   "cell_type": "code",
   "execution_count": 9,
   "id": "aad090fb",
   "metadata": {},
   "outputs": [],
   "source": [
    "\n",
    "# Ваше решение:"
   ]
  },
  {
   "cell_type": "markdown",
   "id": "45c3e414",
   "metadata": {},
   "source": [
    "### Задача 8. \n",
    " - Решите систему линейных уравнений `Ax=b` для случайной `A (10×10)`."
   ]
  },
  {
   "cell_type": "code",
   "execution_count": 10,
   "id": "cda8f7ed",
   "metadata": {},
   "outputs": [],
   "source": [
    "\n",
    "# Ваше решение:"
   ]
  },
  {
   "cell_type": "markdown",
   "id": "fa774985",
   "metadata": {},
   "source": [
    "### Задача 9.\n",
    "- Сгенерируйте нормальную матрицу `X`\n",
    "- Посчитайте косинусное сходство между строками матрицы `X`."
   ]
  },
  {
   "cell_type": "code",
   "execution_count": 12,
   "id": "fb00374e",
   "metadata": {},
   "outputs": [],
   "source": [
    "\n",
    "# Ваше решение:"
   ]
  },
  {
   "cell_type": "markdown",
   "id": "c91c1403",
   "metadata": {},
   "source": [
    "### Задача 10.\n",
    " - Создайте матрицу и добавьте на рандомные места nan и inf\n",
    " - Удалите строки, содержащие `Inf` или `NaN` в матрице."
   ]
  },
  {
   "cell_type": "code",
   "execution_count": 14,
   "id": "1251f917",
   "metadata": {},
   "outputs": [],
   "source": [
    "\n",
    "# Ваше решение:\n"
   ]
  },
  {
   "cell_type": "markdown",
   "id": "ff9f34a4-7ae8-4ac6-a73a-8e26ea9cb8d3",
   "metadata": {},
   "source": [
    "### Задача 11.\n",
    "- Сгенерируйте матрицу `Q` размера `(6, 4)` из `randn`.\n",
    "- Отсортируйте каждый столбец по возрастанию.\n",
    "- Найдите индексы `top-3` наибольших значений в `Q` (как значения, так и их координаты `(i, j)`)."
   ]
  },
  {
   "cell_type": "code",
   "execution_count": null,
   "id": "6912ef5c-1168-4aa9-91a3-9194302aa60b",
   "metadata": {},
   "outputs": [],
   "source": [
    "# Ваше решение:"
   ]
  },
  {
   "cell_type": "markdown",
   "id": "98d1a22b",
   "metadata": {},
   "source": [
    "### Задача 12.\n",
    "- Скачайте датасет [цветков ириса](https://archive.ics.uci.edu/ml/machine-learning-databases/iris/iris.data). [Подсказка](https://numpy.org/doc/stable/reference/generated/numpy.genfromtxt.html). Названия колонок names = ('sepallength', 'sepalwidth', 'petallength', 'petalwidth', 'species')\n",
    "- Достаньте текстовые данные из датасета\n",
    "- Достаньте все данные из датасета\n",
    "- Преобразуйте 1D датасет в 2D исключив текстовое поле\n",
    "- Посчитайте среднее, медиану и стандартное отклонение по значениям датасета\n",
    "- Нормализуйте значения (значения должны быть в диапазоне (0, 1))"
   ]
  },
  {
   "cell_type": "code",
   "execution_count": 15,
   "id": "391dc2f8",
   "metadata": {},
   "outputs": [],
   "source": [
    "\n",
    "# Ваше решение:\n"
   ]
  },
  {
   "cell_type": "markdown",
   "id": "fa23208d",
   "metadata": {},
   "source": [
    "### Задача 13 \n",
    "- Найдите пропущенные значения в первом столбце датасета\n",
    "- Отфильтруйте датасет, возьмите все строки, у которых в 3-ей колонке значения больше 1.5, в в первой колонке меньше 5\n",
    "- Удалите все строки, в которых есть nan\n",
    "- Найдите все уникальные значения\n",
    "- Сформируйте текстовый массив из столбца длины лепестков (3-й) таким образом, чтобы при длине лепестков:\n",
    "Меньше 3 --> «маленький»\n",
    "3-5 --> «средний» >=5 --> «большой»\n",
    " - Создайте новый столбец для объема, где объем равен (pi x petallength x sepal_length^2)/3.\n",
    " - Случайно отберите виды ириса таким образом, чтобы количество видов setose было в два раза больше, чем видов versicolor и virginica."
   ]
  },
  {
   "cell_type": "code",
   "execution_count": 16,
   "id": "59ce2c5a",
   "metadata": {},
   "outputs": [],
   "source": [
    "\n",
    "# Ваше решение:\n"
   ]
  },
  {
   "cell_type": "markdown",
   "id": "06d9c33d-540d-44d2-bf65-165ae5af53e0",
   "metadata": {},
   "source": [
    "### Задача 14\n",
    "- Сортируйте набор данных iris по столбцу sepallength.\n",
    "- Найдите наиболее частое значение длины лепестка (3-й столбец) в наборе данных iris.\n",
    "- Найдите положение первого появления значения, большего 1.0, в 4-м столбце набора данных iris.\n",
    "- Найти среднее значение числового столбца sepalwidth, сгруппированного по категориальному столбцу species"
   ]
  },
  {
   "cell_type": "code",
   "execution_count": 17,
   "id": "9e07ade6-d6e8-4b05-bfa6-8d28f70f9482",
   "metadata": {},
   "outputs": [],
   "source": [
    "# Ваше решение:"
   ]
  },
  {
   "cell_type": "markdown",
   "id": "42fdc76a-8d42-45ed-858b-8a7cae03f57f",
   "metadata": {},
   "source": [
    "### Задача 15\n",
    "Найдите дубликаты записей (второе и последующие вхождения) в заданном массиве numpy и пометьте их как True. Первые вхождения должны быть False."
   ]
  },
  {
   "cell_type": "code",
   "execution_count": null,
   "id": "9814b1d5-6add-4251-acee-1ee9116ebb39",
   "metadata": {},
   "outputs": [],
   "source": [
    "np.random.seed(100)\n",
    "a = np.random.randint(0, 5, 10)\n",
    "# Ваше решение:"
   ]
  },
  {
   "cell_type": "markdown",
   "id": "1a189c41-2a3a-4ece-b596-06baf353edb1",
   "metadata": {},
   "source": [
    "### Задача 16\n",
    "Исходя из массива не непрерывной последовательности дат, сделайте ее непрерывной, заполнив пропущенные даты."
   ]
  },
  {
   "cell_type": "code",
   "execution_count": null,
   "id": "88749cf5-1622-4002-86cc-286a8dda635b",
   "metadata": {},
   "outputs": [],
   "source": [
    "dates = np.arange(np.datetime64('2025-02-01'), np.datetime64('2025-02-25'), 2)\n",
    "# Ваше решение:"
   ]
  },
  {
   "cell_type": "markdown",
   "id": "ebd2f0f3-b434-40d2-a410-2f3c34f87481",
   "metadata": {},
   "source": [
    "### Задача 17\n",
    "Вычислить скользящее среднее с размером окна 3 для заданного одномерного массива.\n"
   ]
  },
  {
   "cell_type": "code",
   "execution_count": null,
   "id": "aa62f2bc-0327-4ce8-bc17-a0cbc6098174",
   "metadata": {},
   "outputs": [],
   "source": [
    "np.random.seed(100)\n",
    "# Ваше решение:"
   ]
  },
  {
   "cell_type": "markdown",
   "id": "d6fbd514-77b2-4534-939a-342a2943e209",
   "metadata": {},
   "source": [
    "### Задача 18***: Реализация 2D-свёртки через NumPy (im2col)\n",
    "\n",
    "**Цель:** реализовать свёртку изображений только с помощью `NumPy`, без циклов по батчу и фильтрам.\n",
    "\n",
    "## Условие\n",
    "\n",
    "Реализуйте функцию:\n",
    "\n",
    "```python\n",
    "def conv2d_im2col(X, W, bias=None, stride=(1,1), padding=(0,0), dilation=(1,1)):\n",
    "    \"\"\"\n",
    "    X: np.ndarray формы (N, C_in, H, W)      # входной батч изображений\n",
    "    W: np.ndarray формы (K, C_in, R, S)      # фильтры\n",
    "    bias: None или np.ndarray формы (K,)     # смещение для каждого фильтра\n",
    "    stride: (sH, sW)                         # шаг свёртки\n",
    "    padding: (pH, pW)                        # нулевой паддинг по краям\n",
    "    dilation: (dH, dW)                       # дилатация (расстояние между элементами ядра)\n",
    "    \"\"\"\n",
    "Требуется реализовать функцию conv2d_im2col(X, W, bias=None, stride=(1,1), padding=(0,0), dilation=(1,1)), которая вычисляет 2D-свёртку для батча изображений без явных питон-циклов по измерениям N (batch) и K (число фильтров). Разрешается минимум циклов по каналам/окну только для подготовки страйдов — но цель: всё сделать через NumPy: as_strided, reshape, transpose, einsum/matmul, broadcasting."
   ]
  },
  {
   "cell_type": "code",
   "execution_count": 53,
   "id": "674494df-8dc6-4fda-a4aa-9decb18153a9",
   "metadata": {},
   "outputs": [],
   "source": [
    "# Ваше решение:"
   ]
  },
  {
   "cell_type": "code",
   "execution_count": 54,
   "id": "b8eb2296-0c09-48f4-9a6e-50cce475f244",
   "metadata": {},
   "outputs": [
    {
     "name": "stdout",
     "output_type": "stream",
     "text": [
      "OK!\n"
     ]
    }
   ],
   "source": [
    "#Тесты\n",
    "rng = np.random.default_rng(0)\n",
    "\n",
    "# Базовый тест без паддинга/страйда/дилатации\n",
    "X = rng.normal(size=(2, 3, 5, 6))\n",
    "W = rng.normal(size=(4, 3, 3, 3))\n",
    "Y = conv2d_im2col(X, W, bias=None, stride=(1,1), padding=(0,0), dilation=(1,1))\n",
    "assert Y.shape == (2, 4, 3, 4)\n",
    "\n",
    "# С паддингом\n",
    "Yp = conv2d_im2col(X, W, bias=None, stride=(1,1), padding=(1,1), dilation=(1,1))\n",
    "assert Yp.shape == (2, 4, 5, 6)\n",
    "\n",
    "# С шагом 2\n",
    "Ys = conv2d_im2col(X, W, bias=np.arange(4), stride=(2,2), padding=(1,1), dilation=(1,1))\n",
    "assert Ys.shape == (2, 4, 3, 3)\n",
    "# bias проверка - сравним разности между каналами\n",
    "diff = (Ys[:, :, 0, 0] - Ys[:, :, 0, 0].mean(axis=1, keepdims=True)).mean()\n",
    "assert np.isfinite(diff)\n",
    "\n",
    "# С дилатацией\n",
    "Yd = conv2d_im2col(X, W, bias=None, stride=(1,1), padding=(2,2), dilation=(2,2))\n",
    "assert Yd.shape == (2, 4, 5, 6)\n",
    "\n",
    "print(\"OK!\")\n"
   ]
  },
  {
   "cell_type": "code",
   "execution_count": null,
   "id": "b4fc768b-16f3-4c3d-8f04-6398fd968663",
   "metadata": {},
   "outputs": [],
   "source": []
  },
  {
   "cell_type": "code",
   "execution_count": null,
   "id": "6a76e621-edd8-4308-8375-4a72bc389b3d",
   "metadata": {},
   "outputs": [],
   "source": []
  }
 ],
 "metadata": {
  "kernelspec": {
   "display_name": "Python 3 (ipykernel)",
   "language": "python",
   "name": "python3"
  },
  "language_info": {
   "codemirror_mode": {
    "name": "ipython",
    "version": 3
   },
   "file_extension": ".py",
   "mimetype": "text/x-python",
   "name": "python",
   "nbconvert_exporter": "python",
   "pygments_lexer": "ipython3",
   "version": "3.12.4"
  }
 },
 "nbformat": 4,
 "nbformat_minor": 5
}
