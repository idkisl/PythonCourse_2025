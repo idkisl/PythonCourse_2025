{
 "cells": [
  {
   "cell_type": "markdown",
   "id": "a6a79250",
   "metadata": {},
   "source": [
    "## Лекция 6\n",
    "### Файлы, модули. CSV и JSON\n",
    "\n",
    "- работа с файлами\n",
    "- режимы открытия файла\n",
    "- контекстный менеджер\n",
    "- модуль OS\n",
    "- модуль CSV\n",
    "- модуль JSON\n",
    "- работа с модулями в pycharm\n",
    "- ```__name__ == '__main__'```\n",
    "- модуль sys\n",
    "- модуль argparse\n",
    "\n",
    "\n",
    "Лекция прочитана Иваном Кисляковым. Разрешено к использованию в некоммерческих образовательных целях. "
   ]
  },
  {
   "cell_type": "code",
   "execution_count": 18,
   "id": "76232bb0",
   "metadata": {},
   "outputs": [
    {
     "name": "stdout",
     "output_type": "stream",
     "text": [
      "['Сергей сидел за компьютером в три часа ночи.\\n', 'На экране мигал курсор в бесконечном цикле.\\n', '«Почему этот код не работает?» — думал он.\\n', 'Он проверил каждую скобку и точку с запятой.\\n', 'Внезапно он заметил ошибку в логике условия.\\n', 'Исправив ее, он увидел заветное «Hello, World!».\\n', 'Радость переполняла его, несмотря на усталость.\\n', 'Он понял, что программирование — это магия.\\n', 'Магия превращения идей в реальность.\\n', 'Сергей закрыл ноутбук с чувством победы.']\n"
     ]
    }
   ],
   "source": [
    "file = open(\"text_sample.txt\", \"r\")\n",
    "# line = file.read()\n",
    "lines = file.readlines()\n",
    "file.close()\n",
    "\n",
    "\n",
    "print(lines)"
   ]
  },
  {
   "cell_type": "code",
   "execution_count": 17,
   "id": "fff0cf3a",
   "metadata": {},
   "outputs": [],
   "source": [
    "with open(\"text_sample_write.txt\", \"w\") as file:\n",
    "    file.write(\"MIPT\")"
   ]
  },
  {
   "cell_type": "markdown",
   "id": "93898f69",
   "metadata": {},
   "source": [
    "Режимы открытия файла:\n",
    "- r\n",
    "- w\n",
    "- rw\n",
    "- r+ w+\n",
    "- x\n",
    "- rb, wb"
   ]
  },
  {
   "cell_type": "code",
   "execution_count": 24,
   "id": "e503db67",
   "metadata": {},
   "outputs": [
    {
     "name": "stdout",
     "output_type": "stream",
     "text": [
      "Сергей сидел за компьютером в три часа ночи.\n",
      "На экране мигал курсор в бесконечном цикле.\n",
      "«Почему этот код не работает?» — думал он.\n",
      "Он проверил каждую скобку и точку с запятой.\n",
      "Внезапно он заметил ошибку в логике условия.\n",
      "Исправив ее, он увидел заветное «Hello, World!».\n",
      "Радость переполняла его, несмотря на усталость.\n",
      "Он понял, что программирование — это магия.\n",
      "Магия превращения идей в реальность.\n",
      "Сергей закрыл ноутбук с чувством победы.\n"
     ]
    }
   ],
   "source": [
    "with open(\"text_sample.txt\", \"r\", encoding=\"utf-8\") as file:\n",
    "    print(file.read())"
   ]
  },
  {
   "cell_type": "code",
   "execution_count": 29,
   "id": "eae0beca",
   "metadata": {},
   "outputs": [
    {
     "name": "stdout",
     "output_type": "stream",
     "text": [
      "0\n",
      "788\n",
      "['й сидел за компьютером в три часа ночи.\\n', 'На экране мигал курсор в бесконечном цикле.\\n', '«Почему этот код не работает?» — думал он.\\n', 'Он проверил каждую скобку и точку с запятой.\\n', 'Внезапно он заметил ошибку в логике условия.\\n', 'Исправив ее, он увидел заветное «Hello, World!».\\n', 'Радость переполняла его, несмотря на усталость.\\n', 'Он понял, что программирование — это магия.\\n', 'Магия превращения идей в реальность.\\n', 'Сергей закрыл ноутбук с чувством победы.']\n"
     ]
    }
   ],
   "source": [
    "file = open(\"text_sample.txt\", \"r\", encoding=\"utf-8\")\n",
    "print(file.tell())\n",
    "line = file.read()\n",
    "print(file.tell())\n",
    "file.seek(10)\n",
    "lines = file.readlines()\n",
    "file.close()\n",
    "\n",
    "print(lines)"
   ]
  },
  {
   "cell_type": "code",
   "execution_count": 30,
   "id": "45db774f",
   "metadata": {},
   "outputs": [
    {
     "name": "stdout",
     "output_type": "stream",
     "text": [
      "id,university_name,country,city,established_year,world_rank,academic_reputation_score,employer_reputation_score,faculty_student_ratio,international_faculty_ratio,website\n",
      "1,Massachusetts Institute of Technology (MIT),United States,Cambridge,1861,1,100.0,100.0,100.0,100.0,https://web.mit.edu/\n",
      "2,University of Cambridge,United Kingdom,Cambridge,1209,2,100.0,100.0,99.5,99.8,https://www.cam.ac.uk/\n",
      "3,Stanford University,United States,Stanford,1885,3,100.0,100.0,98.7,99.2,https://www.stanford.edu/\n",
      "4,University of Oxford,United Kingdom,Oxford,1096,4,100.0,100.0,98.9,99.5,https://www.ox.ac.uk/\n",
      "5,Harvard University,United States,Cambridge,1636,5,100.0,100.0,97.8,98.9,https://www.harvard.edu/\n",
      "6,ETH Zurich - Swiss Federal Institute of Technology,Switzerland,Zurich,1855,6,99.8,99.5,97.5,99.9,https://ethz.ch/\n",
      "7,National University of Singapore (NUS),Singapore,Singapore,1905,8,99.5,99.2,95.8,98.5,https://www.nus.edu.sg/\n",
      "8,University of Tokyo,Japan,Tokyo,1877,9,99.3,98.8,94.2,85.7,https://www.u-tokyo.ac.jp/\n",
      "9,Tsinghua University,China,Beijing,1911,10,99.4,99.1,95.1,75.3,https://www.tsinghua.edu.cn/\n",
      "10,University of Toronto,Canada,Toronto,1827,11,98.9,98.5,93.8,96.4,https://www.utoronto.ca/\n",
      "11,Lomonosov Moscow State University,Russia,Moscow,1755,87,85.6,82.3,78.9,65.4,https://www.msu.ru/\n",
      "12,University of Cape Town,South Africa,Cape Town,1829,125,80.1,75.8,70.2,81.5,https://www.uct.ac.za/\n",
      "13,University of Buenos Aires,Argentina,Buenos Aires,1821,156,75.8,72.1,65.8,45.2,https://www.uba.ar/\n",
      "14,Indian Institute of Technology Bombay,India,Mumbai,1958,172,73.5,70.8,82.1,25.7,https://www.iitb.ac.in/\n",
      "15,Cairo University,Egypt,Giza,1908,245,65.2,60.8,55.4,35.1,https://cu.edu.eg/\n"
     ]
    }
   ],
   "source": [
    "with open(\"csv_sample.csv\") as file:\n",
    "    lst = file.readlines()\n",
    "    names = lst[0]\n",
    "    table = lst[1:]"
   ]
  },
  {
   "cell_type": "code",
   "execution_count": 33,
   "id": "f0180245",
   "metadata": {},
   "outputs": [
    {
     "name": "stdout",
     "output_type": "stream",
     "text": [
      "['id', 'university_name', 'country', 'city', 'established_year', 'world_rank', 'academic_reputation_score', 'employer_reputation_score', 'faculty_student_ratio', 'international_faculty_ratio', 'website']\n",
      "['1', 'Massachusetts Institute of Technology (MIT)', 'United States', 'Cambridge', '1861', '1', '100.0', '100.0', '100.0', '100.0', 'https://web.mit.edu/']\n",
      "['2', 'University of Cambridge', 'United Kingdom', 'Cambridge', '1209', '2', '100.0', '100.0', '99.5', '99.8', 'https://www.cam.ac.uk/']\n",
      "['3', 'Stanford University', 'United States', 'Stanford', '1885', '3', '100.0', '100.0', '98.7', '99.2', 'https://www.stanford.edu/']\n",
      "['4', 'University of Oxford', 'United Kingdom', 'Oxford', '1096', '4', '100.0', '100.0', '98.9', '99.5', 'https://www.ox.ac.uk/']\n",
      "['5', 'Harvard University', 'United States', 'Cambridge', '1636', '5', '100.0', '100.0', '97.8', '98.9', 'https://www.harvard.edu/']\n",
      "['6', 'ETH Zurich - Swiss Federal Institute of Technology', 'Switzerland', 'Zurich', '1855', '6', '99.8', '99.5', '97.5', '99.9', 'https://ethz.ch/']\n",
      "['7', 'National University of Singapore (NUS)', 'Singapore', 'Singapore', '1905', '8', '99.5', '99.2', '95.8', '98.5', 'https://www.nus.edu.sg/']\n",
      "['8', 'University of Tokyo', 'Japan', 'Tokyo', '1877', '9', '99.3', '98.8', '94.2', '85.7', 'https://www.u-tokyo.ac.jp/']\n",
      "['9', 'Tsinghua University', 'China', 'Beijing', '1911', '10', '99.4', '99.1', '95.1', '75.3', 'https://www.tsinghua.edu.cn/']\n",
      "['10', 'University of Toronto', 'Canada', 'Toronto', '1827', '11', '98.9', '98.5', '93.8', '96.4', 'https://www.utoronto.ca/']\n",
      "['11', 'Lomonosov Moscow State University', 'Russia', 'Moscow', '1755', '87', '85.6', '82.3', '78.9', '65.4', 'https://www.msu.ru/']\n",
      "['12', 'University of Cape Town', 'South Africa', 'Cape Town', '1829', '125', '80.1', '75.8', '70.2', '81.5', 'https://www.uct.ac.za/']\n",
      "['13', 'University of Buenos Aires', 'Argentina', 'Buenos Aires', '1821', '156', '75.8', '72.1', '65.8', '45.2', 'https://www.uba.ar/']\n",
      "['14', 'Indian Institute of Technology Bombay', 'India', 'Mumbai', '1958', '172', '73.5', '70.8', '82.1', '25.7', 'https://www.iitb.ac.in/']\n",
      "['15', 'Cairo University', 'Egypt', 'Giza', '1908', '245', '65.2', '60.8', '55.4', '35.1', 'https://cu.edu.eg/']\n"
     ]
    }
   ],
   "source": [
    "import csv\n",
    "\n",
    "\n",
    "with open(\"csv_sample.csv\") as file:\n",
    "    reader = csv.reader(file)\n",
    "    for row in reader:\n",
    "        print(row)"
   ]
  },
  {
   "cell_type": "code",
   "execution_count": 34,
   "id": "d31e4452",
   "metadata": {},
   "outputs": [
    {
     "name": "stdout",
     "output_type": "stream",
     "text": [
      "{'id': '1', 'university_name': 'Massachusetts Institute of Technology (MIT)', 'country': 'United States', 'city': 'Cambridge', 'established_year': '1861', 'world_rank': '1', 'academic_reputation_score': '100.0', 'employer_reputation_score': '100.0', 'faculty_student_ratio': '100.0', 'international_faculty_ratio': '100.0', 'website': 'https://web.mit.edu/'}\n",
      "{'id': '2', 'university_name': 'University of Cambridge', 'country': 'United Kingdom', 'city': 'Cambridge', 'established_year': '1209', 'world_rank': '2', 'academic_reputation_score': '100.0', 'employer_reputation_score': '100.0', 'faculty_student_ratio': '99.5', 'international_faculty_ratio': '99.8', 'website': 'https://www.cam.ac.uk/'}\n",
      "{'id': '3', 'university_name': 'Stanford University', 'country': 'United States', 'city': 'Stanford', 'established_year': '1885', 'world_rank': '3', 'academic_reputation_score': '100.0', 'employer_reputation_score': '100.0', 'faculty_student_ratio': '98.7', 'international_faculty_ratio': '99.2', 'website': 'https://www.stanford.edu/'}\n",
      "{'id': '4', 'university_name': 'University of Oxford', 'country': 'United Kingdom', 'city': 'Oxford', 'established_year': '1096', 'world_rank': '4', 'academic_reputation_score': '100.0', 'employer_reputation_score': '100.0', 'faculty_student_ratio': '98.9', 'international_faculty_ratio': '99.5', 'website': 'https://www.ox.ac.uk/'}\n",
      "{'id': '5', 'university_name': 'Harvard University', 'country': 'United States', 'city': 'Cambridge', 'established_year': '1636', 'world_rank': '5', 'academic_reputation_score': '100.0', 'employer_reputation_score': '100.0', 'faculty_student_ratio': '97.8', 'international_faculty_ratio': '98.9', 'website': 'https://www.harvard.edu/'}\n",
      "{'id': '6', 'university_name': 'ETH Zurich - Swiss Federal Institute of Technology', 'country': 'Switzerland', 'city': 'Zurich', 'established_year': '1855', 'world_rank': '6', 'academic_reputation_score': '99.8', 'employer_reputation_score': '99.5', 'faculty_student_ratio': '97.5', 'international_faculty_ratio': '99.9', 'website': 'https://ethz.ch/'}\n",
      "{'id': '7', 'university_name': 'National University of Singapore (NUS)', 'country': 'Singapore', 'city': 'Singapore', 'established_year': '1905', 'world_rank': '8', 'academic_reputation_score': '99.5', 'employer_reputation_score': '99.2', 'faculty_student_ratio': '95.8', 'international_faculty_ratio': '98.5', 'website': 'https://www.nus.edu.sg/'}\n",
      "{'id': '8', 'university_name': 'University of Tokyo', 'country': 'Japan', 'city': 'Tokyo', 'established_year': '1877', 'world_rank': '9', 'academic_reputation_score': '99.3', 'employer_reputation_score': '98.8', 'faculty_student_ratio': '94.2', 'international_faculty_ratio': '85.7', 'website': 'https://www.u-tokyo.ac.jp/'}\n",
      "{'id': '9', 'university_name': 'Tsinghua University', 'country': 'China', 'city': 'Beijing', 'established_year': '1911', 'world_rank': '10', 'academic_reputation_score': '99.4', 'employer_reputation_score': '99.1', 'faculty_student_ratio': '95.1', 'international_faculty_ratio': '75.3', 'website': 'https://www.tsinghua.edu.cn/'}\n",
      "{'id': '10', 'university_name': 'University of Toronto', 'country': 'Canada', 'city': 'Toronto', 'established_year': '1827', 'world_rank': '11', 'academic_reputation_score': '98.9', 'employer_reputation_score': '98.5', 'faculty_student_ratio': '93.8', 'international_faculty_ratio': '96.4', 'website': 'https://www.utoronto.ca/'}\n",
      "{'id': '11', 'university_name': 'Lomonosov Moscow State University', 'country': 'Russia', 'city': 'Moscow', 'established_year': '1755', 'world_rank': '87', 'academic_reputation_score': '85.6', 'employer_reputation_score': '82.3', 'faculty_student_ratio': '78.9', 'international_faculty_ratio': '65.4', 'website': 'https://www.msu.ru/'}\n",
      "{'id': '12', 'university_name': 'University of Cape Town', 'country': 'South Africa', 'city': 'Cape Town', 'established_year': '1829', 'world_rank': '125', 'academic_reputation_score': '80.1', 'employer_reputation_score': '75.8', 'faculty_student_ratio': '70.2', 'international_faculty_ratio': '81.5', 'website': 'https://www.uct.ac.za/'}\n",
      "{'id': '13', 'university_name': 'University of Buenos Aires', 'country': 'Argentina', 'city': 'Buenos Aires', 'established_year': '1821', 'world_rank': '156', 'academic_reputation_score': '75.8', 'employer_reputation_score': '72.1', 'faculty_student_ratio': '65.8', 'international_faculty_ratio': '45.2', 'website': 'https://www.uba.ar/'}\n",
      "{'id': '14', 'university_name': 'Indian Institute of Technology Bombay', 'country': 'India', 'city': 'Mumbai', 'established_year': '1958', 'world_rank': '172', 'academic_reputation_score': '73.5', 'employer_reputation_score': '70.8', 'faculty_student_ratio': '82.1', 'international_faculty_ratio': '25.7', 'website': 'https://www.iitb.ac.in/'}\n",
      "{'id': '15', 'university_name': 'Cairo University', 'country': 'Egypt', 'city': 'Giza', 'established_year': '1908', 'world_rank': '245', 'academic_reputation_score': '65.2', 'employer_reputation_score': '60.8', 'faculty_student_ratio': '55.4', 'international_faculty_ratio': '35.1', 'website': 'https://cu.edu.eg/'}\n"
     ]
    }
   ],
   "source": [
    "import csv\n",
    "\n",
    "\n",
    "with open(\"csv_sample.csv\") as file:\n",
    "    reader = csv.DictReader(file)\n",
    "    for row in reader:\n",
    "        print(row)"
   ]
  },
  {
   "cell_type": "code",
   "execution_count": 35,
   "id": "de05a600",
   "metadata": {},
   "outputs": [
    {
     "name": "stdout",
     "output_type": "stream",
     "text": [
      "1755.5333333333333\n"
     ]
    }
   ],
   "source": [
    "import csv\n",
    "\n",
    "\n",
    "with open(\"csv_sample.csv\") as file:\n",
    "    reader = csv.DictReader(file)\n",
    "    summ = 0\n",
    "    count = 0\n",
    "    for row in reader:\n",
    "        summ += int(row[\"established_year\"])\n",
    "        count += 1\n",
    "    print(summ / count)"
   ]
  },
  {
   "cell_type": "code",
   "execution_count": 37,
   "id": "d27225fe",
   "metadata": {},
   "outputs": [],
   "source": [
    "import csv\n",
    "with open(\"csv_sample_write.csv\", \"w\") as file:\n",
    "    writer = csv.writer(file)\n",
    "    writer.writerows([[\"a\", \"b\", 1], [1, 2, 3, 4], [2, 3, 4, 5, 6]])"
   ]
  },
  {
   "cell_type": "code",
   "execution_count": 41,
   "id": "ea32e761",
   "metadata": {},
   "outputs": [],
   "source": [
    "import csv\n",
    "with open(\"csv_sample_write.csv\", \"w\") as file:\n",
    "    writer = csv.DictWriter(file, [\"name\", \"age\"])\n",
    "    writer.writeheader()\n",
    "    writer.writerow({'name': 'Ivan', 'age': '10'})"
   ]
  },
  {
   "cell_type": "code",
   "execution_count": null,
   "id": "830adb6a",
   "metadata": {},
   "outputs": [],
   "source": []
  },
  {
   "cell_type": "code",
   "execution_count": 50,
   "id": "e2fdce76",
   "metadata": {},
   "outputs": [
    {
     "name": "stdout",
     "output_type": "stream",
     "text": [
      "собаки [{'id': 1, 'кличка': 'Бадди', 'порода': 'Золотистый ретривер', 'возраст': 3, 'окрас': 'золотистый', 'вес': 28.5, 'любимая_игрушка': 'теннисный мяч'}, {'id': 2, 'кличка': 'Луна', 'порода': 'Хаски', 'возраст': 2, 'окрас': 'серо-белый', 'вес': 22.0, 'любимая_игрушка': 'канат'}, {'id': 3, 'кличка': 'Рекс', 'порода': 'Немецкая овчарка', 'возраст': 4, 'окрас': 'черно-рыжий', 'вес': 35.0, 'любимая_игрушка': 'резиновая кость'}, {'id': 4, 'кличка': 'Белла', 'порода': 'Чихуахуа', 'возраст': 1, 'окрас': 'коричневый', 'вес': 2.5, 'любимая_игрушка': 'пищалка'}, {'id': 5, 'кличка': 'Макс', 'порода': 'Лабрадор', 'возраст': 5, 'окрас': 'шоколадный', 'вес': 32.0, 'любимая_игрушка': 'фрисби'}]\n"
     ]
    }
   ],
   "source": [
    "import json\n",
    "with open(\"json_sample.json\") as file:\n",
    "    f = json.load(file)\n",
    "    for key, value in f.items():\n",
    "        print(key, value)"
   ]
  },
  {
   "cell_type": "code",
   "execution_count": 65,
   "id": "d2754930",
   "metadata": {},
   "outputs": [],
   "source": [
    "import json\n",
    "\n",
    "dct = {\"Nikita\": {\"age\": 19, \"pro_progger\": True, \"student\": True}, \"Dima\": {\"age\": 20, \"pro_progger\": False, \"student\": True}, \"Алексей\": {\"возраст\": 19, \"лучший студент мира\": True}}\n",
    "with open(\"json_sample_write.json\", \"w\", encoding=\"utf-8\") as file:\n",
    "    file.write(json.dumps(dct, indent=2, ensure_ascii=False))"
   ]
  },
  {
   "cell_type": "code",
   "execution_count": null,
   "id": "510753c0",
   "metadata": {},
   "outputs": [],
   "source": []
  },
  {
   "cell_type": "code",
   "execution_count": null,
   "id": "b6a409dc",
   "metadata": {},
   "outputs": [],
   "source": []
  },
  {
   "cell_type": "code",
   "execution_count": null,
   "id": "de94dff3",
   "metadata": {},
   "outputs": [],
   "source": []
  },
  {
   "cell_type": "code",
   "execution_count": null,
   "id": "1b94f26b",
   "metadata": {},
   "outputs": [],
   "source": []
  },
  {
   "cell_type": "code",
   "execution_count": null,
   "id": "d4b033f5",
   "metadata": {},
   "outputs": [],
   "source": []
  },
  {
   "cell_type": "code",
   "execution_count": null,
   "id": "b531f90d",
   "metadata": {},
   "outputs": [],
   "source": []
  }
 ],
 "metadata": {
  "kernelspec": {
   "display_name": "Python 3 (ipykernel)",
   "language": "python",
   "name": "python3"
  },
  "language_info": {
   "codemirror_mode": {
    "name": "ipython",
    "version": 3
   },
   "file_extension": ".py",
   "mimetype": "text/x-python",
   "name": "python",
   "nbconvert_exporter": "python",
   "pygments_lexer": "ipython3",
   "version": "3.11.3"
  }
 },
 "nbformat": 4,
 "nbformat_minor": 5
}
