{
 "cells": [
  {
   "cell_type": "markdown",
   "id": "4acf5a2c",
   "metadata": {},
   "source": [
    "## Лекция 6\n",
    "### Файлы, модули. CSV и JSON\n",
    "\n",
    "- работа с файлами\n",
    "- режимы открытия файла\n",
    "- контекстный менеджер\n",
    "- модуль OS\n",
    "- модуль CSV\n",
    "- модуль JSON\n",
    "- работа с модулями в pycharm\n",
    "- ```__name__ == '__main__'```\n",
    "- модуль sys\n",
    "- модуль argparse\n",
    "\n",
    "\n",
    "Лекция прочитана Иваном Кисляковым. Разрешено к использованию в некоммерческих образовательных целях. "
   ]
  },
  {
   "cell_type": "code",
   "execution_count": null,
   "id": "a39a1aa5",
   "metadata": {},
   "outputs": [],
   "source": []
  }
 ],
 "metadata": {
  "kernelspec": {
   "display_name": "Python 3 (ipykernel)",
   "language": "python",
   "name": "python3"
  },
  "language_info": {
   "codemirror_mode": {
    "name": "ipython",
    "version": 3
   },
   "file_extension": ".py",
   "mimetype": "text/x-python",
   "name": "python",
   "nbconvert_exporter": "python",
   "pygments_lexer": "ipython3",
   "version": "3.11.3"
  }
 },
 "nbformat": 4,
 "nbformat_minor": 5
}
