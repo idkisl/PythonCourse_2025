{
 "cells": [
  {
   "cell_type": "markdown",
   "id": "efb81968",
   "metadata": {},
   "source": [
    "# Лабораторная работа по изучению файлов\n"
   ]
  },
  {
   "cell_type": "markdown",
   "id": "af12156f",
   "metadata": {},
   "source": [
    "Лабораторная работа собрана Иваном Кисляковым. Разрешено к использованию в некоммерческих образовательных целях с указанием авторства.\n",
    "\n",
    "Вопросы и замечания можно отправлять по адресу mipt-dpo@yandex.ru"
   ]
  },
  {
   "cell_type": "markdown",
   "id": "43a71f5d",
   "metadata": {},
   "source": [
    "## Jupyter notebook"
   ]
  },
  {
   "cell_type": "markdown",
   "id": "7ac26d3b",
   "metadata": {},
   "source": [
    "#### Задание 0\n",
    "1. Установите на свой локальный компьютер jupyter notebook.\n",
    "2. Запустите данный ноутбук локально."
   ]
  },
  {
   "cell_type": "markdown",
   "id": "92a67d69",
   "metadata": {},
   "source": [
    "## Работа с простым файлом"
   ]
  },
  {
   "cell_type": "markdown",
   "id": "2674c66c",
   "metadata": {},
   "source": [
    "#### Задание 1\n",
    "1. Скачайте файл number_1.txt и поместите в ту же папку, где лежит jupyter-notebook с заданием.\n",
    "2. Откройте его для чтения в бинарном формате с помощью команды open.\n",
    "3. Прочитайте все содержимое файла и выведите его на экран.\n",
    "4. Закройте файл."
   ]
  },
  {
   "cell_type": "code",
   "execution_count": null,
   "id": "ea378b33",
   "metadata": {},
   "outputs": [],
   "source": []
  },
  {
   "cell_type": "markdown",
   "id": "48aa2002",
   "metadata": {},
   "source": [
    "#### Задание 2\n",
    "1. Скачайте файл number_1.txt и поместите в ту же папку, где лежит jupyter-notebook с заданием.\n",
    "2. Откройте его для чтения.\n",
    "3. На экран выведите третью строчку файла.\n",
    "4. Выведите количество строчек в файле.\n",
    "5. Закройте файл"
   ]
  },
  {
   "cell_type": "code",
   "execution_count": null,
   "id": "64d6e7b2",
   "metadata": {},
   "outputs": [],
   "source": []
  },
  {
   "cell_type": "markdown",
   "id": "a4023ba2",
   "metadata": {},
   "source": [
    "#### Задание 3\n",
    "1. Откройте (создайте) файл number_3.txt для записи.\n",
    "2. Запишите в файл три любые строчки с теплыми пожеланиями проверяющему.\n",
    "3. Закройте файл."
   ]
  },
  {
   "cell_type": "code",
   "execution_count": null,
   "id": "11a8877f",
   "metadata": {},
   "outputs": [],
   "source": []
  },
  {
   "cell_type": "markdown",
   "id": "9758577a",
   "metadata": {},
   "source": [
    "#### Задание 4\n",
    "1. Откройте файл number_3.txt для дозаписи.\n",
    "2. Напиши еще одну строчку-пожелание проверяющему.\n",
    "3. Закройте файл"
   ]
  },
  {
   "cell_type": "code",
   "execution_count": null,
   "id": "c3770304",
   "metadata": {},
   "outputs": [],
   "source": []
  },
  {
   "cell_type": "markdown",
   "id": "63f5645e",
   "metadata": {},
   "source": [
    "#### Задание 5\n",
    "1. Воспользовавшись контекстным менеджером откройте файл number_5.txt, расширением utf-8 для записи. \n",
    "2. Запиши в файл квадраты чисел от 0 до 25.\n",
    "3. Переместись на 10 байт с помощью команды seek.\n",
    "4. Запиши на это место число -1."
   ]
  },
  {
   "cell_type": "code",
   "execution_count": null,
   "id": "a60e6e09",
   "metadata": {},
   "outputs": [],
   "source": []
  },
  {
   "cell_type": "markdown",
   "id": "f6866860",
   "metadata": {},
   "source": [
    "## Работа с OS"
   ]
  },
  {
   "cell_type": "markdown",
   "id": "f80aa3d2",
   "metadata": {},
   "source": [
    "#### Задание 6\n",
    "0. Импортируйте модуль os\n",
    "1. Определите имя операционной системы (posix - Linux/MacOS, nt - Windows или java - Android) и выведите его на экран.\n",
    "2. Определите абсолютный путь к каталогу, содержащему jupyter notebook с заданием.\n",
    "3. Проверьте возможность записи / чтения данных в файл number_3.txt\n",
    "4. С помощью функции os.path.is_file проверьте наличие файла number_4.txt в каталоге.\n"
   ]
  },
  {
   "cell_type": "code",
   "execution_count": null,
   "id": "ed528d7e",
   "metadata": {},
   "outputs": [],
   "source": []
  },
  {
   "cell_type": "markdown",
   "id": "eb60cddb",
   "metadata": {},
   "source": [
    "## Работа с CSV"
   ]
  },
  {
   "cell_type": "markdown",
   "id": "f903860a",
   "metadata": {},
   "source": [
    "#### Задание 7\n",
    "1. Импортируйте модуль csv.\n",
    "2. Скачайте файл titanic.csv\n",
    "3. С помощью контекстного менеджера откройте файл для чтения в кодировке utf-8.\n",
    "4. С помощью функции csv.DictReader получите словарь, содержащий информацию из csv-файла.\n",
    "5. На экран выведите информацию об именах пассажиров."
   ]
  },
  {
   "cell_type": "code",
   "execution_count": null,
   "id": "feb5b867",
   "metadata": {},
   "outputs": [],
   "source": []
  },
  {
   "cell_type": "markdown",
   "id": "722314e2",
   "metadata": {},
   "source": [
    "#### Задание 8\n",
    "1. С помощью контекстного менеджера откройте файл для записи в кодировке utf-8.\n",
    "2. С помощью функции csv.writer создайте объект, позволяющий писать в файл.\n",
    "3. Добавьте еще одного пассажира в таблицу с помощью writer.writerow. Проверьте результат выполнения, открыв файл в редакторе таблиц (например, excel)."
   ]
  },
  {
   "cell_type": "code",
   "execution_count": null,
   "id": "d406bdac",
   "metadata": {},
   "outputs": [],
   "source": []
  },
  {
   "cell_type": "markdown",
   "id": "d5a7e726",
   "metadata": {},
   "source": [
    "## Работа с JSON"
   ]
  },
  {
   "cell_type": "markdown",
   "id": "46fa6cc1",
   "metadata": {},
   "source": [
    "#### Задание 9\n",
    "0. Импортируйте модуль json\n",
    "1. Скачайте и откройте файл ```cats.json``` для чтения в кодировке utf-8.\n",
    "2. Преобразуйте данные в python-объекты и выведите информацию на экран.\n",
    "3. Посчитайте и выведите на экран суммарный вес всех кошек женского пола."
   ]
  },
  {
   "cell_type": "code",
   "execution_count": null,
   "id": "0ff31e96",
   "metadata": {},
   "outputs": [],
   "source": []
  },
  {
   "cell_type": "markdown",
   "id": "63437958",
   "metadata": {},
   "source": [
    "#### Задание 10\n",
    "1. Откройте файл ```dogs.json``` для записи в кодировке utf-8.\n",
    "2. Создайте список, состоящий из трех словарей - подробного описания собаки (кличка, возраст, пол, вес, имя хозяина, номер телефона хозяина)\n",
    "3. Сохраните данные в файл json."
   ]
  },
  {
   "cell_type": "code",
   "execution_count": null,
   "id": "b8dddc68",
   "metadata": {},
   "outputs": [],
   "source": []
  },
  {
   "cell_type": "markdown",
   "id": "90a94ae2",
   "metadata": {},
   "source": [
    "## Парсинг данных\n",
    "\n",
    "К сожалению, данный раздел не может быть протестирован внутри jupyter-notebook, поэтому предлагается выполнить решение локально, а потом уже скопировать ответ в ноутбук."
   ]
  },
  {
   "cell_type": "markdown",
   "id": "ccf0739c",
   "metadata": {},
   "source": [
    "#### Задание 11\n",
    "1. Импортируйте модуль sys\n",
    "2. С помощью команды sys.argv выведите на экран параметры, с которыми программа была запущена.\n",
    "3. На экран выведите сумму чисел, введенных в качестве параметров (гарантируется, что будут введены только числа)\n",
    "```\n",
    "Пример запуска программы main.py в терминале\n",
    "> python3 main.py 1 2 3\n",
    "```"
   ]
  },
  {
   "cell_type": "code",
   "execution_count": null,
   "id": "e74a5767",
   "metadata": {},
   "outputs": [],
   "source": []
  },
  {
   "cell_type": "markdown",
   "id": "b73f9a15",
   "metadata": {},
   "source": [
    "#### Задание 12\n",
    "1. Импортируйте модуль argparse\n",
    "2. Создайте парсер командой ```argparse.ArgumentParser()```\n",
    "3. Добавьте аргументы arg1, arg2, --name\n",
    "4. Для аргументов пропишите параметры type, default, help\n",
    "5. На экран выведите каждый из аргументов"
   ]
  },
  {
   "cell_type": "code",
   "execution_count": null,
   "id": "7fa2e743",
   "metadata": {},
   "outputs": [],
   "source": []
  },
  {
   "cell_type": "markdown",
   "id": "3a1f11be",
   "metadata": {},
   "source": [
    "## Модули"
   ]
  },
  {
   "cell_type": "markdown",
   "id": "08603d2f",
   "metadata": {},
   "source": [
    "#### Задание 13\n",
    "1. Напишите два модуля - два файла в формате python с названиями main.py и module.py\n",
    "2. Напишите в файле module.py функцию add(a, b) - возвращающую сумму двух чисел.\n",
    "3. В файле main.py импортируйте функцию add из модуля module\n",
    "4. В файле main.py напишите функцию input_data(), которая считывает два целых числа с экрана и выводит на экран результат применения функции add к ним.\n",
    "5. Сделайте так, чтобы при запуске файла main.py с экрана считывались бы два числа и выводился резульатат их суммирования.\n",
    "6. При импортировании модуля main в другие файлы, данные с экрана не должны считываться, функция суммирования не вызывается. Используйте конструкцию ```if __name__ == '__main__'```"
   ]
  },
  {
   "cell_type": "code",
   "execution_count": null,
   "id": "4d523aad",
   "metadata": {},
   "outputs": [],
   "source": []
  }
 ],
 "metadata": {
  "kernelspec": {
   "display_name": "Python 3 (ipykernel)",
   "language": "python",
   "name": "python3"
  },
  "language_info": {
   "codemirror_mode": {
    "name": "ipython",
    "version": 3
   },
   "file_extension": ".py",
   "mimetype": "text/x-python",
   "name": "python",
   "nbconvert_exporter": "python",
   "pygments_lexer": "ipython3",
   "version": "3.11.3"
  }
 },
 "nbformat": 4,
 "nbformat_minor": 5
}
