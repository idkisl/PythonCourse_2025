{
 "cells": [
  {
   "cell_type": "markdown",
   "id": "93c85cd8",
   "metadata": {},
   "source": [
    "# Семинар 1. Управляющие конструкции."
   ]
  },
  {
   "cell_type": "markdown",
   "id": "693b2c30",
   "metadata": {},
   "source": [
    "Семинар собран Иваном Кисляковым. Разрешено к использованию в некоммерческих образовательных целях с указанием авторства.\n",
    "\n",
    "Вопросы и замечания можно отправлять по адресу mipt-dpo@yandex.ru"
   ]
  },
  {
   "cell_type": "markdown",
   "id": "f5304a2b",
   "metadata": {},
   "source": [
    "## Шаг 0.\n",
    "\n",
    "Скачайте на свой компьютер jupyter notebook. Войдите в аккаунт Google и посмотрите на работу Google Collab.\n",
    "Скачайте среду разработки PyCharm Community.\n",
    "\n",
    "На данном семинаре рекомендовано использовать как среду разработки, так и jupyter notebook."
   ]
  },
  {
   "cell_type": "markdown",
   "id": "4e6a5ad2",
   "metadata": {},
   "source": [
    "## Ввод и вывод данных"
   ]
  },
  {
   "cell_type": "markdown",
   "id": "f426f24d",
   "metadata": {},
   "source": [
    "#### Задание 1\n",
    "1. На экран выведите аббревиатуру Вашего ВУЗа.\n",
    "2. На экран выведите Ваше имя, отчество и фамилию."
   ]
  },
  {
   "cell_type": "code",
   "execution_count": null,
   "id": "ccf703b5",
   "metadata": {},
   "outputs": [],
   "source": [
    "# 1.1\n",
    "\n",
    "# 1.2"
   ]
  },
  {
   "cell_type": "markdown",
   "id": "b268eb6a",
   "metadata": {},
   "source": [
    "#### Задание 2\n",
    "1. Создайте переменную со значением 15 и вторую переменную со значением 2.7\n",
    "2. Найдите их сумму, разность, произведение и частное. Получившиеся значения запишите в новые переменные.\n",
    "3. Выведите результаты вычислений на экран."
   ]
  },
  {
   "cell_type": "code",
   "execution_count": null,
   "id": "eff084bd",
   "metadata": {},
   "outputs": [],
   "source": [
    "# 2.1\n",
    "\n",
    "# 2.2\n",
    "\n",
    "# 2.3"
   ]
  },
  {
   "cell_type": "markdown",
   "id": "370e9d37",
   "metadata": {},
   "source": [
    "#### Задание 3\n",
    "Считайте с экрана имя человека. На экран выведите фразу \"Привет, <имя>!\""
   ]
  },
  {
   "cell_type": "code",
   "execution_count": null,
   "id": "4537ed15",
   "metadata": {},
   "outputs": [],
   "source": [
    "# 3"
   ]
  },
  {
   "cell_type": "markdown",
   "id": "6a18de87",
   "metadata": {},
   "source": [
    "#### Задание 4\n",
    "Ваша задача - вычислить коэффициент Оукена в [законе Оукена](https://studwork.ru/spravochnik/ekonomika/formuly-po-ekonomike/zakon-oukena). $$\\cfrac{Y - Y^*}{Y^*}\\cdot 100\\% = -k(u - u^*), где$$\n",
    "\n",
    "$Y$ — фактический размер ВВП;\n",
    "\n",
    "$Y^∗$ — потенциальный размер ВВП;\n",
    "\n",
    "$−k$ — коэффициент, определяющий зависимость между превышением реального уровня безработицы над естественным и отставанием реального ВВП от потенциального (коэффициент Оукена)\n",
    "\n",
    "$u$ — уровень безработицы, в %;\n",
    "\n",
    "$u^∗$ — естественный уровень безработицы, в %.\n",
    "\n",
    "Все данные, кроме коэффициента, вводятся с клавиатуры в порядке, установленном разработчиком."
   ]
  },
  {
   "cell_type": "code",
   "execution_count": null,
   "id": "3014c8f5",
   "metadata": {},
   "outputs": [],
   "source": [
    "# 4"
   ]
  },
  {
   "cell_type": "markdown",
   "id": "6ab10713",
   "metadata": {},
   "source": [
    "#### Задание 5\n",
    "1. Пользователь вводит длину стороны квадрата. Выведите на экран его площадь.\n",
    "2. Пользователь вводит длины сторон прямоугольника. Выведите на экран его периметр.\n",
    "3. Пользователь вводит два числа. Выведите на экран среднее арифметическое этих двух чисел.\n",
    "4. Пусть есть переменная A и переменная B. Поменяйте местами их значения. То есть после выполнения программы в переменной A должно лежать значение переменной B, а в переменной А значение переменной В."
   ]
  },
  {
   "cell_type": "code",
   "execution_count": null,
   "id": "df2f89b7",
   "metadata": {},
   "outputs": [],
   "source": [
    "# 5.1\n",
    "\n",
    "# 5.2\n",
    "\n",
    "# 5.3\n",
    "\n",
    "# 5.4"
   ]
  },
  {
   "cell_type": "markdown",
   "id": "a111fb9a",
   "metadata": {},
   "source": [
    "## Условный оператор"
   ]
  },
  {
   "cell_type": "markdown",
   "id": "81630e65",
   "metadata": {},
   "source": [
    "#### Задание 6\n",
    "1. Определить максимальное и минимальное значения из двух различных целых чисел (вводятся с экрана). Использовать один условный оператор.\n",
    "2. Известны два расстояния (вводятся с экрана): одно выражено в километрах, другое – в футах (1 фут = 0,3048 м). Какое из расстояний меньше?"
   ]
  },
  {
   "cell_type": "code",
   "execution_count": null,
   "id": "b899f135",
   "metadata": {},
   "outputs": [],
   "source": [
    "# 6.1"
   ]
  },
  {
   "cell_type": "code",
   "execution_count": null,
   "id": "3373d0f1",
   "metadata": {},
   "outputs": [],
   "source": [
    "# 6.2"
   ]
  },
  {
   "cell_type": "markdown",
   "id": "d715b61d",
   "metadata": {},
   "source": [
    "#### Задание 7\n",
    "1. Проверить, является ли введенное нечетным.\n",
    "2. Проверить, что число кратно 7.\n",
    "3. Проверить, что число оканчивается на цифру 3.\n",
    "4. Проверить, что введенное положительное число оканчиваеится на цифру 7 или кратно 5.\n",
    "5. Проверить, что введенное число оканчивается на 3 или на 5 и при этом кратно 9.\n",
    "6. Определить, является ли число а делителем числа b? А наоборот? (Получить два ответа.)"
   ]
  },
  {
   "cell_type": "code",
   "execution_count": null,
   "id": "f4afbae5",
   "metadata": {},
   "outputs": [],
   "source": [
    "# 7.1\n"
   ]
  },
  {
   "cell_type": "code",
   "execution_count": null,
   "id": "f5a23827",
   "metadata": {},
   "outputs": [],
   "source": [
    "# 7.2\n"
   ]
  },
  {
   "cell_type": "code",
   "execution_count": null,
   "id": "af208737",
   "metadata": {},
   "outputs": [],
   "source": [
    "# 7.3\n"
   ]
  },
  {
   "cell_type": "code",
   "execution_count": null,
   "id": "c72df180",
   "metadata": {},
   "outputs": [],
   "source": [
    "# 7.4\n"
   ]
  },
  {
   "cell_type": "code",
   "execution_count": null,
   "id": "dc9704a3",
   "metadata": {},
   "outputs": [],
   "source": [
    "# 7.5\n"
   ]
  },
  {
   "cell_type": "code",
   "execution_count": null,
   "id": "316101d6",
   "metadata": {},
   "outputs": [],
   "source": [
    "# 7.6\n"
   ]
  },
  {
   "cell_type": "markdown",
   "id": "dbde56e2",
   "metadata": {},
   "source": [
    "#### Задание 8\n",
    "1. Дано натуральное число. Определить, является ли оно двузначным.\n",
    "2. Пользователь вводит коэффициенты а, b и с квадратного уравнения $a \\cdot x^2 + b \\cdot x + c = 0$. Вывести на экран все корни этого уравнения или сообщение о том, что их нет. Отдельно рассмотреть случай, когда корни совпадают.\n",
    "3. Дано четырехзначное число. Определить:\n",
    "\n",
    "    а) входят ли в него цифры 2 или 7;\n",
    "\n",
    "    б) входят ли в него цифры 3, 6 или 9."
   ]
  },
  {
   "cell_type": "code",
   "execution_count": null,
   "id": "2b853257",
   "metadata": {},
   "outputs": [],
   "source": [
    "# 8.1"
   ]
  },
  {
   "cell_type": "code",
   "execution_count": null,
   "id": "0ab8c05a",
   "metadata": {},
   "outputs": [],
   "source": [
    "# 8.2"
   ]
  },
  {
   "cell_type": "code",
   "execution_count": null,
   "id": "95b396bd",
   "metadata": {},
   "outputs": [],
   "source": [
    "# 8.3.a\n",
    "\n",
    "# 8.3.б"
   ]
  },
  {
   "cell_type": "markdown",
   "id": "a79a03e4",
   "metadata": {},
   "source": [
    "#### Задание 9\n",
    "1. Вводится 5 целых чисел. Определите, есть ли среди них отрицательные?\n",
    "2. Вводится 5 целых чисел. Посчитайте сумму тех из них, которые кратны 7."
   ]
  },
  {
   "cell_type": "code",
   "execution_count": null,
   "id": "ea83ebff",
   "metadata": {},
   "outputs": [],
   "source": [
    "# 9.1"
   ]
  },
  {
   "cell_type": "code",
   "execution_count": null,
   "id": "009c6733",
   "metadata": {},
   "outputs": [],
   "source": [
    "# 9.2"
   ]
  },
  {
   "cell_type": "markdown",
   "id": "2d41368a",
   "metadata": {},
   "source": [
    "## Цикл for"
   ]
  },
  {
   "cell_type": "markdown",
   "id": "2d4bb7c0",
   "metadata": {},
   "source": [
    "#### Задание 10\n",
    "1. Выведите фразу \"Hello MIPT!\" 10 раз на экран.\n",
    "2. Вводится целое число. Выведите это число 7 раз на экран, чтобы сбылось желание волшебника."
   ]
  },
  {
   "cell_type": "code",
   "execution_count": null,
   "id": "246f7f65",
   "metadata": {},
   "outputs": [],
   "source": [
    "# 10.1"
   ]
  },
  {
   "cell_type": "code",
   "execution_count": null,
   "id": "ed9d3a05",
   "metadata": {},
   "outputs": [],
   "source": [
    "# 10.2"
   ]
  },
  {
   "cell_type": "markdown",
   "id": "33286543",
   "metadata": {},
   "source": [
    "#### Задание 11\n",
    "1. Вводится 20 чисел с экрана. Выведите квадраты этих чисел.\n",
    "2. Вводится 20 чисел с экрана. Выведите квадраты этих чисел. Если квадрат одного из чисел больше 200, прекратить ввод значений и завершить выполнение программы.\n",
    "3. Вводится 20 чисел с экрана. Выведите квадраты тех чисел, которые кратны 3.\n",
    "4. Распечатать первые N степеней числа A, каждое с новой строчки. (Натуральное число N и A вводится с клавиатуры)"
   ]
  },
  {
   "cell_type": "code",
   "execution_count": null,
   "id": "a9d086cb",
   "metadata": {},
   "outputs": [],
   "source": [
    "# 11.1"
   ]
  },
  {
   "cell_type": "code",
   "execution_count": null,
   "id": "abe9f35f",
   "metadata": {},
   "outputs": [],
   "source": [
    "# 11.2"
   ]
  },
  {
   "cell_type": "code",
   "execution_count": null,
   "id": "f416ec34",
   "metadata": {},
   "outputs": [],
   "source": [
    "# 11.3"
   ]
  },
  {
   "cell_type": "code",
   "execution_count": null,
   "id": "3a2e5a56",
   "metadata": {},
   "outputs": [],
   "source": [
    "# 11.4"
   ]
  },
  {
   "cell_type": "markdown",
   "id": "908d2d1d",
   "metadata": {},
   "source": [
    "#### Задание 12\n",
    "1. Выведите на экран квадраты чисел от 0 до 20.\n",
    "2. Выведите на экран квадраты первых 10 натральных чисел.\n",
    "3. Выведите противоположные числа числам от 25 до 40 включительно."
   ]
  },
  {
   "cell_type": "code",
   "execution_count": null,
   "id": "2d0ecfec",
   "metadata": {},
   "outputs": [],
   "source": [
    "# 12.1"
   ]
  },
  {
   "cell_type": "code",
   "execution_count": null,
   "id": "fdfce552",
   "metadata": {},
   "outputs": [],
   "source": [
    "# 12.2"
   ]
  },
  {
   "cell_type": "code",
   "execution_count": null,
   "id": "695cf370",
   "metadata": {},
   "outputs": [],
   "source": [
    "# 12.3"
   ]
  },
  {
   "cell_type": "markdown",
   "id": "3457eb8d",
   "metadata": {},
   "source": [
    "#### Задание 13\n",
    "1. На первой строчке вводится число N. На следующих N строчках вводятся числа. Определите, есть ли среди этих чисел те, которые больше 10, но меньше 200.\n",
    "2. На первой строчке вводится число N. На следующих N строчках вводятся числа. Определите, есть ли среди этих чисел те, которые кратны 3 или четные, большие 15 или оканчивающиеся на цифру 3. Если введенное число больше 200, остановить работу программы.\n",
    "3. На первой строчке вводится число N. На следующих N строчках вводятся числа. Найтите среди них сумму тех из них, которые кратны 6 или 7.\n",
    "4. Вводится число N. Далее следуют N чисел из диапазона от -1000 до 1000. Определите наибольшее среди них.\n",
    "5. Вводится число N. Далее следуют N чисел из диапазона от -1000 до 1000. Определите наибольшее среди тех из них, которые кратны 5."
   ]
  },
  {
   "cell_type": "code",
   "execution_count": null,
   "id": "d157e642",
   "metadata": {},
   "outputs": [],
   "source": [
    "# 13.1"
   ]
  },
  {
   "cell_type": "code",
   "execution_count": null,
   "id": "6bcf9862",
   "metadata": {},
   "outputs": [],
   "source": [
    "# 13.2"
   ]
  },
  {
   "cell_type": "code",
   "execution_count": null,
   "id": "7df28e03",
   "metadata": {},
   "outputs": [],
   "source": [
    "# 13.3"
   ]
  },
  {
   "cell_type": "code",
   "execution_count": null,
   "id": "a9d9b0c5",
   "metadata": {},
   "outputs": [],
   "source": [
    "# 13.4"
   ]
  },
  {
   "cell_type": "code",
   "execution_count": null,
   "id": "cfc8a8ad",
   "metadata": {},
   "outputs": [],
   "source": [
    "# 13.5"
   ]
  },
  {
   "cell_type": "markdown",
   "id": "2ccb8a3d",
   "metadata": {},
   "source": [
    "#### Задание 14\n",
    "1. Среди чисел от 25 до 173 найдите количество тех, которые кратны 5.\n",
    "2. Среди четных чисел от -27 до 126 включительно найдите сумму чисел, кратных трем и выведите ее на экран."
   ]
  },
  {
   "cell_type": "code",
   "execution_count": null,
   "id": "cb2591b5",
   "metadata": {},
   "outputs": [],
   "source": [
    "# 14.1"
   ]
  },
  {
   "cell_type": "code",
   "execution_count": null,
   "id": "6f3ce75b",
   "metadata": {},
   "outputs": [],
   "source": [
    "# 14.2"
   ]
  },
  {
   "cell_type": "markdown",
   "id": "69e5aa50",
   "metadata": {},
   "source": [
    "## Цикл while"
   ]
  },
  {
   "cell_type": "markdown",
   "id": "01fba454",
   "metadata": {},
   "source": [
    "#### Задание 15\n",
    "1. Вводится число N. Выведите все делители числа N.\n",
    "2. Вводится целое число N. Проверьте, является ли оно простым?\n",
    "3. Вводится число N. Проверьте, является ли оно точной степенью числа 2?\n",
    "4. Выведите на экран числа Фибоначчи, меньшие числа N, введенного с экрана.\n",
    "5. По данному натуральному числу N выведите такое наименьшее целое число k, что $N \\le 2 \\cdot k$\n",
    "6. В первый день спортсмен пробежал x километров, а затем он каждый день увеличивал пробег на 10% от предыдущего значения. По данному числу y определите номер дня, на который пробег спортсмена составит не менее y километров.\n",
    "7. Вклад в банке составляет **x** рублей. Ежегодно он увеличивается на **p** процентов, после чего дробная часть копеек отбрасывается. Каждый год сумма вклада становится больше. Определите, через сколько лет вклад составит не менее **y** рублей.\n",
    "8. Дано натуральное число A > 1. Определите, каким по счету числом Фибоначчи оно является. Если А не является числом Фибоначчи, выведите число -1."
   ]
  },
  {
   "cell_type": "code",
   "execution_count": null,
   "id": "f609be94",
   "metadata": {},
   "outputs": [],
   "source": [
    "# 15.1"
   ]
  },
  {
   "cell_type": "code",
   "execution_count": null,
   "id": "1152773e",
   "metadata": {},
   "outputs": [],
   "source": [
    "# 15.2"
   ]
  },
  {
   "cell_type": "code",
   "execution_count": null,
   "id": "884bcda2",
   "metadata": {},
   "outputs": [],
   "source": [
    "# 15.3"
   ]
  },
  {
   "cell_type": "code",
   "execution_count": null,
   "id": "03e5ef9e",
   "metadata": {},
   "outputs": [],
   "source": [
    "# 15.4"
   ]
  },
  {
   "cell_type": "code",
   "execution_count": null,
   "id": "9929514e",
   "metadata": {},
   "outputs": [],
   "source": [
    "# 15.5"
   ]
  },
  {
   "cell_type": "code",
   "execution_count": null,
   "id": "662e33fe",
   "metadata": {},
   "outputs": [],
   "source": [
    "# 15.6"
   ]
  },
  {
   "cell_type": "code",
   "execution_count": null,
   "id": "d5e549ff",
   "metadata": {},
   "outputs": [],
   "source": [
    "# 15.7"
   ]
  },
  {
   "cell_type": "code",
   "execution_count": null,
   "id": "0ab46908",
   "metadata": {},
   "outputs": [],
   "source": [
    "# 15.8"
   ]
  }
 ],
 "metadata": {
  "kernelspec": {
   "display_name": "Python 3 (ipykernel)",
   "language": "python",
   "name": "python3"
  },
  "language_info": {
   "codemirror_mode": {
    "name": "ipython",
    "version": 3
   },
   "file_extension": ".py",
   "mimetype": "text/x-python",
   "name": "python",
   "nbconvert_exporter": "python",
   "pygments_lexer": "ipython3",
   "version": "3.10.13"
  }
 },
 "nbformat": 4,
 "nbformat_minor": 5
}
