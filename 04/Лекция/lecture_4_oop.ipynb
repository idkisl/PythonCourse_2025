{
 "cells": [
  {
   "cell_type": "markdown",
   "id": "fba43fd9",
   "metadata": {},
   "source": [
    "## Лекция 4\n",
    "### ООП \n",
    "- определение\n",
    "- атрибуты\n",
    "- методы\n",
    "- скрытые параметры\n",
    "- специальные методы\n",
    "- конструктор\n",
    "- переопределение операторов\n",
    "- наследование\n",
    "- множественное наследование\n",
    "\n",
    "\n",
    "Лекция прочитана Иваном Кисляковым. Разрешено к использованию в некоммерческих образовательных целях. "
   ]
  },
  {
   "cell_type": "markdown",
   "id": "81b5acd9",
   "metadata": {},
   "source": [
    "### Определение понятия"
   ]
  },
  {
   "cell_type": "code",
   "execution_count": 6,
   "id": "f8559b28",
   "metadata": {},
   "outputs": [
    {
     "name": "stdout",
     "output_type": "stream",
     "text": [
      "19 19\n",
      "21 19\n"
     ]
    }
   ],
   "source": [
    "class Student:\n",
    "    age = 19 # атрибут\n",
    "    av_mark = 4.5\n",
    "    \n",
    "\n",
    "nikita = Student() # экземпляр класса\n",
    "ivan = Student()\n",
    "\n",
    "print(nikita.age, ivan.age)\n",
    "nikita.age = 21\n",
    "print(nikita.age, ivan.age)"
   ]
  },
  {
   "cell_type": "code",
   "execution_count": 9,
   "id": "b2815e9c",
   "metadata": {},
   "outputs": [
    {
     "ename": "AttributeError",
     "evalue": "'Student' object has no attribute '__av_mark'",
     "output_type": "error",
     "traceback": [
      "\u001b[0;31m---------------------------------------------------------------------------\u001b[0m",
      "\u001b[0;31mAttributeError\u001b[0m                            Traceback (most recent call last)",
      "Cell \u001b[0;32mIn[9], line 7\u001b[0m\n\u001b[1;32m      3\u001b[0m     __av_mark \u001b[38;5;241m=\u001b[39m \u001b[38;5;241m4.5\u001b[39m\n\u001b[1;32m      6\u001b[0m nikita \u001b[38;5;241m=\u001b[39m Student() \u001b[38;5;66;03m# экземпляр класса\u001b[39;00m\n\u001b[0;32m----> 7\u001b[0m \u001b[38;5;28mprint\u001b[39m(nikita\u001b[38;5;241m.\u001b[39m__av_mark)\n",
      "\u001b[0;31mAttributeError\u001b[0m: 'Student' object has no attribute '__av_mark'"
     ]
    }
   ],
   "source": [
    "class Student:\n",
    "    age = 19 # атрибут\n",
    "    __av_mark = 4.5\n",
    "    \n",
    "\n",
    "nikita = Student() # экземпляр класса\n",
    "print(nikita.__av_mark)"
   ]
  },
  {
   "cell_type": "code",
   "execution_count": 16,
   "id": "896aacc4",
   "metadata": {},
   "outputs": [
    {
     "name": "stdout",
     "output_type": "stream",
     "text": [
      "Привет! Мне 19 лет!\n",
      "Привет! Мне 7 лет!\n"
     ]
    }
   ],
   "source": [
    "class Student:\n",
    "    age = 19 # атрибут\n",
    "    def say_hello(self):\n",
    "        print(f\"Привет! Мне {self.age} лет!\")\n",
    "    \n",
    "    \n",
    "nikita = Student() # экземпляр класса\n",
    "nikita.say_hello()\n",
    "\n",
    "\n",
    "ivan = Student() # экземпляр класса\n",
    "ivan.age = 7\n",
    "ivan.say_hello()"
   ]
  },
  {
   "cell_type": "markdown",
   "id": "9501d984",
   "metadata": {},
   "source": [
    "### Конструктор класса"
   ]
  },
  {
   "cell_type": "code",
   "execution_count": 18,
   "id": "44fd48e5",
   "metadata": {},
   "outputs": [
    {
     "name": "stdout",
     "output_type": "stream",
     "text": [
      "Привет! Мне 19 лет!\n",
      "Class Student, age 19, av_mark 4.5\n"
     ]
    }
   ],
   "source": [
    "class Student:\n",
    "    def __init__(self):\n",
    "        self.age = 19\n",
    "        self.__av_mark = 4.5\n",
    "    \n",
    "    def say_hello(self):\n",
    "        print(f\"Привет! Мне {self.age} лет!\")\n",
    "    \n",
    "    def info(self):\n",
    "        return f\"Class Student, age {self.age}, av_mark {self.__av_mark}\"\n",
    "    \n",
    "\n",
    "dima = Student()\n",
    "dima.say_hello()\n",
    "print(dima.info())"
   ]
  },
  {
   "cell_type": "code",
   "execution_count": 21,
   "id": "d63c2dd7",
   "metadata": {},
   "outputs": [
    {
     "name": "stdout",
     "output_type": "stream",
     "text": [
      "Class Student, name Дима, age 19, av_mark 4.5\n"
     ]
    }
   ],
   "source": [
    "class Student:\n",
    "    def __init__(self, name):\n",
    "        self.age = 19\n",
    "        self.__av_mark = 4.5\n",
    "        self.name = name\n",
    "    \n",
    "    def say_hello(self):\n",
    "        print(f\"Привет! Мне {self.age} лет!\")\n",
    "    \n",
    "    def info(self):\n",
    "        return f\"Class Student, name {self.name}, age {self.age}, av_mark {self.__av_mark}\"\n",
    "\n",
    "    \n",
    "dima = Student(\"Дима\")\n",
    "print(dima.info())"
   ]
  },
  {
   "cell_type": "markdown",
   "id": "1c55aac0",
   "metadata": {},
   "source": [
    "### Полиморфизм"
   ]
  },
  {
   "cell_type": "code",
   "execution_count": 19,
   "id": "7011e72c",
   "metadata": {},
   "outputs": [
    {
     "name": "stdout",
     "output_type": "stream",
     "text": [
      "Class Student, age 19, av_mark 4.5\n",
      "Class Teacher, age 40, num_lessons 4\n",
      "Class Student, age 19, av_mark 4.5\n",
      "Class Teacher, age 40, num_lessons 4\n",
      "Class Student, age 19, av_mark 4.5\n"
     ]
    }
   ],
   "source": [
    "class Student:\n",
    "    def __init__(self):\n",
    "        self.age = 19\n",
    "        self.__av_mark = 4.5\n",
    "    \n",
    "    def say_hello(self):\n",
    "        print(f\"Привет! Мне {self.age} лет!\")\n",
    "    \n",
    "    def info(self):\n",
    "        return f\"Class Student, age {self.age}, av_mark {self.__av_mark}\"\n",
    "    \n",
    "    \n",
    "class Teacher:\n",
    "    def __init__(self):\n",
    "        self.age = 40\n",
    "        self.num_lessons = 4\n",
    "    \n",
    "    def say_hello(self):\n",
    "        print(f\"Привет! Мне {self.age} лет!\")\n",
    "    \n",
    "    def info(self):\n",
    "        return f\"Class Teacher, age {self.age}, num_lessons {self.num_lessons}\"\n",
    "    \n",
    "    \n",
    "    \n",
    "a = Student()\n",
    "b = Teacher()\n",
    "\n",
    "lst = [a, b, a, b, a]\n",
    "for elem in lst:\n",
    "    print(elem.info())"
   ]
  },
  {
   "cell_type": "code",
   "execution_count": 29,
   "id": "72992211",
   "metadata": {},
   "outputs": [
    {
     "name": "stdout",
     "output_type": "stream",
     "text": [
      "Class Student, age 19, av_mark 4.5\n",
      "Class Teacher, age 40, num_lessons 4\n",
      "Class Student, age 19, av_mark 4.5\n",
      "Class Teacher, age 40, num_lessons 4\n",
      "Class Student, age 19, av_mark 4.5\n",
      "3\n",
      "[<__main__.Student object at 0x11006b890>, Я тута, <__main__.Student object at 0x11006b890>, Я тута, <__main__.Student object at 0x11006b890>, 3]\n"
     ]
    }
   ],
   "source": [
    "class Student:\n",
    "    def __init__(self):\n",
    "        self.age = 19\n",
    "        self.__av_mark = 4.5\n",
    "    \n",
    "    def say_hello(self):\n",
    "        print(f\"Привет! Мне {self.age} лет!\")\n",
    "    \n",
    "    def __str__(self):\n",
    "        return f\"Class Student, age {self.age}, av_mark {self.__av_mark}\"\n",
    "    \n",
    "    \n",
    "class Teacher:\n",
    "    def __init__(self):\n",
    "        self.age = 40\n",
    "        self.num_lessons = 4\n",
    "    \n",
    "    def say_hello(self):\n",
    "        print(f\"Привет! Мне {self.age} лет!\")\n",
    "    \n",
    "    def __str__(self):\n",
    "        return f\"Class Teacher, age {self.age}, num_lessons {self.num_lessons}\"\n",
    "    \n",
    "    def __repr__(self):\n",
    "        return \"Я тута\"\n",
    "    \n",
    "    \n",
    "    \n",
    "a = Student()\n",
    "b = Teacher()\n",
    "\n",
    "lst = [a, b, a, b, a, 3]\n",
    "for elem in lst:\n",
    "    print(elem)\n",
    "    \n",
    "    \n",
    "print(lst)"
   ]
  },
  {
   "cell_type": "markdown",
   "id": "461bc849",
   "metadata": {},
   "source": [
    "### Переопределение методов"
   ]
  },
  {
   "cell_type": "markdown",
   "id": "9851728d",
   "metadata": {},
   "source": [
    "**Задание**\n",
    "\n",
    "Напишите класс **Вектор**\n",
    "\n",
    "Укажите такие атрибуты как:\n",
    "\n",
    "*   ось x\n",
    "*   ось y\n",
    "\n",
    "Для класса определите следующие методы:\n",
    "\n",
    "*   вычисление длины вектора\n",
    "*   сложение / вычитание векторов\n",
    "* умножение векторов на скаляр\n",
    "* вывод вектора на экран\n",
    "* сравнение вектора по длине\n",
    "* правое и левое умножение на скаляр"
   ]
  },
  {
   "cell_type": "code",
   "execution_count": 64,
   "id": "0e3938d2",
   "metadata": {},
   "outputs": [
    {
     "name": "stdout",
     "output_type": "stream",
     "text": [
      "Ураааааа!\n",
      "Vector (4, 2)\n",
      "Vector (4, 2)\n",
      "False\n",
      "7 1 error\n"
     ]
    }
   ],
   "source": [
    "class Vector:\n",
    "    def __init__(self, x, y):\n",
    "        self.x = x\n",
    "        self.y = y\n",
    "    \n",
    "    def __str__(self):\n",
    "        return f\"Vector ({self.x}, {self.y})\"\n",
    "    \n",
    "    def __repr__(self):\n",
    "        return f\"({self.x}, {self.y})\"\n",
    "    \n",
    "    def __len__(self):\n",
    "        return (self.x ** 2 + self.y ** 2)\n",
    "    \n",
    "    def __add__(self, other):\n",
    "        return Vector(self.x + other.x, self.y + other.y)\n",
    "    \n",
    "    def __iadd__(self, other):\n",
    "        self.x += other.x\n",
    "        self.y += other.y\n",
    "        return self\n",
    "    \n",
    "    def __sub__(self, other):\n",
    "        return Vector(self.x - other.x, self.y - other.y)\n",
    "    \n",
    "    def __mul__(self, c):\n",
    "        return Vector(self.x * c, self.y * c)\n",
    "    \n",
    "    def __rmul__(self, c):\n",
    "        return Vector(self.x * c, self.y * c)\n",
    "    \n",
    "    def __lt__(self, other):\n",
    "        return len(self) < len(other)\n",
    "    \n",
    "    def __getitem__(self, key):\n",
    "        if key == 0:\n",
    "            return self.x\n",
    "        elif key == 1:\n",
    "            return self.y\n",
    "        else:\n",
    "            return \"error\"\n",
    "        \n",
    "    def __setitem__(self, key, value):\n",
    "        if key == 0:\n",
    "            self.x = value\n",
    "        elif key == 1:\n",
    "            self.y = value\n",
    "            \n",
    "    def __call__(self, a):\n",
    "        print(\"Ураааааа!\")\n",
    "    \n",
    "    \n",
    "    \n",
    "v1 = Vector(1, 1)\n",
    "v2 = Vector(2, 1)\n",
    "v3 = Vector(3, 0)\n",
    "v4 = Vector(3, 0)\n",
    "lst = [v1, v2, v3]\n",
    "\n",
    "\n",
    "v1(1)\n",
    "\n",
    "\n",
    "print(v2 * 2) # v2.__mul__(2)\n",
    "print(2 * v2) # 2.__mul__(v2) --->  v2.__rmul__(2)\n",
    "print(v2 * 3 < 2 * v1)\n",
    "\n",
    "v2[0] = 7\n",
    "print(v2[0], v2[1], v2[3])"
   ]
  },
  {
   "cell_type": "markdown",
   "id": "e4a5952d",
   "metadata": {},
   "source": [
    "### Наследование\n",
    "в том числе наследование специальных методов"
   ]
  },
  {
   "cell_type": "code",
   "execution_count": 71,
   "id": "3a03af20",
   "metadata": {},
   "outputs": [
    {
     "name": "stdout",
     "output_type": "stream",
     "text": [
      "Base - from f1\n",
      "Base\n",
      "\n",
      "Child - from f2\n",
      "Base - from f1\n",
      "Base\n"
     ]
    }
   ],
   "source": [
    "class Base:\n",
    "    def f1(self):\n",
    "        print(\"Base - from f1\")\n",
    "        \n",
    "    def __init__(self):\n",
    "        self.name = \"Base\"\n",
    "        \n",
    "    def __str__(self):\n",
    "        return self.name\n",
    "    \n",
    "    \n",
    "class Child(Base):\n",
    "    def f2(self):\n",
    "        print(\"Child - from f2\")\n",
    "    \n",
    "    def __str__(self):\n",
    "        return self.name\n",
    "    \n",
    "    \n",
    "b = Base()\n",
    "b.f1()\n",
    "print(b)\n",
    "print()\n",
    "\n",
    "\n",
    "c1 = Child()\n",
    "c1.f2()\n",
    "c1.f1()\n",
    "print(c1)"
   ]
  },
  {
   "cell_type": "code",
   "execution_count": 75,
   "id": "460bf884",
   "metadata": {},
   "outputs": [
    {
     "name": "stdout",
     "output_type": "stream",
     "text": [
      "Base - from f1\n",
      "Base\n",
      "\n",
      "Child - from f2\n",
      "Base - from f1\n",
      "Base\n"
     ]
    }
   ],
   "source": [
    "class Base:\n",
    "    def f1(self):\n",
    "        print(\"Base - from f1\")\n",
    "        \n",
    "    def __init__(self):\n",
    "        self.name = \"Base\"\n",
    "        \n",
    "    def __str__(self):\n",
    "        return self.name\n",
    "    \n",
    "    \n",
    "class Child(Base):\n",
    "    def __init__(self):\n",
    "        super().__init__()\n",
    "        self.my_name = \"Child\"\n",
    "        \n",
    "    def f2(self):\n",
    "        print(\"Child - from f2\")\n",
    "    \n",
    "    \n",
    "b = Base()\n",
    "b.f1()\n",
    "print(b)\n",
    "print()\n",
    "\n",
    "\n",
    "c1 = Child()\n",
    "c1.f2()\n",
    "c1.f1()\n",
    "print(c1)"
   ]
  },
  {
   "cell_type": "code",
   "execution_count": 79,
   "id": "d63790ba",
   "metadata": {},
   "outputs": [
    {
     "ename": "TypeError",
     "evalue": "Base2.__init__() missing 1 required positional argument: 'b'",
     "output_type": "error",
     "traceback": [
      "\u001b[0;31m---------------------------------------------------------------------------\u001b[0m",
      "\u001b[0;31mTypeError\u001b[0m                                 Traceback (most recent call last)",
      "Cell \u001b[0;32mIn[79], line 34\u001b[0m\n\u001b[1;32m     29\u001b[0m     \u001b[38;5;28;01mdef\u001b[39;00m \u001b[38;5;21mf2\u001b[39m(\u001b[38;5;28mself\u001b[39m):\n\u001b[1;32m     30\u001b[0m         \u001b[38;5;28mprint\u001b[39m(\u001b[38;5;124m\"\u001b[39m\u001b[38;5;124mChild - from f2\u001b[39m\u001b[38;5;124m\"\u001b[39m)\n\u001b[0;32m---> 34\u001b[0m c \u001b[38;5;241m=\u001b[39m Child(\u001b[38;5;241m2\u001b[39m, \u001b[38;5;241m3\u001b[39m)\n\u001b[1;32m     35\u001b[0m c\u001b[38;5;241m.\u001b[39mf1()\n",
      "Cell \u001b[0;32mIn[79], line 26\u001b[0m, in \u001b[0;36mChild.__init__\u001b[0;34m(self, a, b)\u001b[0m\n\u001b[1;32m     25\u001b[0m \u001b[38;5;28;01mdef\u001b[39;00m \u001b[38;5;21m__init__\u001b[39m(\u001b[38;5;28mself\u001b[39m, a, b):\n\u001b[0;32m---> 26\u001b[0m     Base2\u001b[38;5;241m.\u001b[39m\u001b[38;5;21m__init__\u001b[39m(a, b)\n\u001b[1;32m     27\u001b[0m     \u001b[38;5;28mself\u001b[39m\u001b[38;5;241m.\u001b[39mmy_name \u001b[38;5;241m=\u001b[39m \u001b[38;5;124m\"\u001b[39m\u001b[38;5;124mChild\u001b[39m\u001b[38;5;124m\"\u001b[39m\n",
      "\u001b[0;31mTypeError\u001b[0m: Base2.__init__() missing 1 required positional argument: 'b'"
     ]
    }
   ],
   "source": [
    "class Base1:\n",
    "    def f1(self):\n",
    "        print(\"Base1 - from f1\")\n",
    "        \n",
    "    def __init__(self, a):\n",
    "        self.name = a\n",
    "        \n",
    "    def __str__(self):\n",
    "        return self.name\n",
    "    \n",
    "\n",
    "class Base2:\n",
    "    def f1(self):\n",
    "        print(\"Base2 - from f1\")\n",
    "        \n",
    "    def __init__(self, a, b):\n",
    "        self.name = a + b\n",
    "        \n",
    "    def __str__(self):\n",
    "        return self.name\n",
    "    \n",
    "    \n",
    "    \n",
    "class Child(Base1, Base2):\n",
    "    def __init__(self, a, b):\n",
    "        super().__init__(a, b)\n",
    "        self.my_name = \"Child\"\n",
    "        \n",
    "    def f2(self):\n",
    "        print(\"Child - from f2\")\n",
    "    \n",
    "    \n",
    "    \n",
    "c = Child(2, 3)\n",
    "c.f1()"
   ]
  },
  {
   "cell_type": "code",
   "execution_count": null,
   "id": "dab2a08a",
   "metadata": {},
   "outputs": [],
   "source": []
  }
 ],
 "metadata": {
  "kernelspec": {
   "display_name": "Python 3 (ipykernel)",
   "language": "python",
   "name": "python3"
  },
  "language_info": {
   "codemirror_mode": {
    "name": "ipython",
    "version": 3
   },
   "file_extension": ".py",
   "mimetype": "text/x-python",
   "name": "python",
   "nbconvert_exporter": "python",
   "pygments_lexer": "ipython3",
   "version": "3.11.3"
  }
 },
 "nbformat": 4,
 "nbformat_minor": 5
}
