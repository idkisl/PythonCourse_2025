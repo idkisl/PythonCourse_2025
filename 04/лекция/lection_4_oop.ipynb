{
 "cells": [
  {
   "cell_type": "markdown",
   "id": "59b7f717",
   "metadata": {},
   "source": [
    "## Лекция 4\n",
    "### ООП \n",
    "- определение\n",
    "- атрибуты\n",
    "- методы\n",
    "- скрытые параметры\n",
    "- специальные методы\n",
    "- конструктор\n",
    "- переопределение операторов\n",
    "- наследование\n",
    "- множественное наследование\n",
    "\n",
    "\n",
    "Лекция прочитана Иваном Кисляковым. Разрешено к использованию в некоммерческих образовательных целях. "
   ]
  },
  {
   "cell_type": "markdown",
   "id": "ba5a0125",
   "metadata": {},
   "source": [
    "### Определение понятия"
   ]
  },
  {
   "cell_type": "code",
   "execution_count": null,
   "id": "d376402d",
   "metadata": {},
   "outputs": [],
   "source": []
  },
  {
   "cell_type": "code",
   "execution_count": null,
   "id": "cabe6473",
   "metadata": {},
   "outputs": [],
   "source": []
  },
  {
   "cell_type": "code",
   "execution_count": null,
   "id": "1fd0c05a",
   "metadata": {},
   "outputs": [],
   "source": []
  },
  {
   "cell_type": "markdown",
   "id": "c968d4a1",
   "metadata": {},
   "source": [
    "### Конструктор класса"
   ]
  },
  {
   "cell_type": "code",
   "execution_count": null,
   "id": "1639df87",
   "metadata": {},
   "outputs": [],
   "source": []
  },
  {
   "cell_type": "code",
   "execution_count": null,
   "id": "feb67bcf",
   "metadata": {},
   "outputs": [],
   "source": []
  },
  {
   "cell_type": "code",
   "execution_count": null,
   "id": "4f5d65f5",
   "metadata": {},
   "outputs": [],
   "source": []
  },
  {
   "cell_type": "markdown",
   "id": "08d8a7dc",
   "metadata": {},
   "source": [
    "### Переопределение методов"
   ]
  },
  {
   "cell_type": "markdown",
   "id": "6c3a0d86",
   "metadata": {},
   "source": [
    "**Задание**\n",
    "\n",
    "Напишите класс **Вектор**\n",
    "\n",
    "Укажите такие атрибуты как:\n",
    "\n",
    "*   ось x\n",
    "*   ось y\n",
    "\n",
    "Для класса определите следующие методы:\n",
    "\n",
    "*   вычисление длины вектора\n",
    "*   сложение / вычитание векторов\n",
    "* умножение векторов на скаляр\n",
    "* вывод вектора на экран\n",
    "* сравнение вектора по длине\n",
    "* правое и левое умножение на скаляр"
   ]
  },
  {
   "cell_type": "code",
   "execution_count": null,
   "id": "075bc836",
   "metadata": {},
   "outputs": [],
   "source": []
  },
  {
   "cell_type": "code",
   "execution_count": null,
   "id": "6e717805",
   "metadata": {},
   "outputs": [],
   "source": []
  },
  {
   "cell_type": "code",
   "execution_count": null,
   "id": "8cb4c2d9",
   "metadata": {},
   "outputs": [],
   "source": []
  },
  {
   "cell_type": "code",
   "execution_count": null,
   "id": "e7f6df8f",
   "metadata": {},
   "outputs": [],
   "source": []
  },
  {
   "cell_type": "markdown",
   "id": "47c7280f",
   "metadata": {},
   "source": [
    "### Наследование\n",
    "в том числе наследование специальных методов"
   ]
  },
  {
   "cell_type": "code",
   "execution_count": null,
   "id": "d33dadb2",
   "metadata": {},
   "outputs": [],
   "source": []
  },
  {
   "cell_type": "code",
   "execution_count": null,
   "id": "b944afda",
   "metadata": {},
   "outputs": [],
   "source": []
  },
  {
   "cell_type": "code",
   "execution_count": null,
   "id": "c3cadaaf",
   "metadata": {},
   "outputs": [],
   "source": []
  },
  {
   "cell_type": "code",
   "execution_count": null,
   "id": "9e2d8958",
   "metadata": {},
   "outputs": [],
   "source": []
  }
 ],
 "metadata": {
  "kernelspec": {
   "display_name": "Python 3 (ipykernel)",
   "language": "python",
   "name": "python3"
  },
  "language_info": {
   "codemirror_mode": {
    "name": "ipython",
    "version": 3
   },
   "file_extension": ".py",
   "mimetype": "text/x-python",
   "name": "python",
   "nbconvert_exporter": "python",
   "pygments_lexer": "ipython3",
   "version": "3.11.3"
  }
 },
 "nbformat": 4,
 "nbformat_minor": 5
}
